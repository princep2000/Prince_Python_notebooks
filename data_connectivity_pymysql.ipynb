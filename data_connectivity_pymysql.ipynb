{
 "cells": [
  {
   "cell_type": "code",
   "execution_count": 2,
   "metadata": {
    "scrolled": true
   },
   "outputs": [
    {
     "name": "stdout",
     "output_type": "stream",
     "text": [
      "Requirement already satisfied: pymysql in c:\\users\\hp\\anaconda3\\lib\\site-packages (0.9.3)\n"
     ]
    }
   ],
   "source": [
    "!pip install pymysql"
   ]
  },
  {
   "cell_type": "code",
   "execution_count": 3,
   "metadata": {},
   "outputs": [],
   "source": [
    "import pymysql as sql"
   ]
  },
  {
   "cell_type": "code",
   "execution_count": 4,
   "metadata": {},
   "outputs": [],
   "source": [
    "db=sql.connect(host='localhost',port=3306,user='root',password='')"
   ]
  },
  {
   "cell_type": "code",
   "execution_count": 5,
   "metadata": {},
   "outputs": [],
   "source": [
    "cur=db.cursor()"
   ]
  },
  {
   "cell_type": "markdown",
   "metadata": {},
   "source": [
    "            cur.execute(cmd) ---> to run mysql queries.\n",
    "            \n",
    "            \n",
    "            data=cur.fetchone()---->Only a single can be read.\n",
    "            \n",
    "            data=cur.fetchall()----> All data can be retrive.\n",
    "            \n",
    "            "
   ]
  },
  {
   "cell_type": "code",
   "execution_count": 7,
   "metadata": {},
   "outputs": [
    {
     "name": "stdout",
     "output_type": "stream",
     "text": [
      "Enter mysql Command.....show databases;\n",
      "(('information_schema',), ('mysql',), ('performance_schema',), ('phpmyadmin',), ('python8pm',), ('student',), ('test',), ('world',))\n"
     ]
    }
   ],
   "source": [
    "cmd=input('Enter mysql Command.....')\n",
    "cur.execute(cmd)\n",
    "data=cur.fetchall()\n",
    "print(data)"
   ]
  },
  {
   "cell_type": "code",
   "execution_count": 8,
   "metadata": {},
   "outputs": [
    {
     "name": "stdout",
     "output_type": "stream",
     "text": [
      "Enter mysql Command.....use student;\n",
      "()\n"
     ]
    }
   ],
   "source": [
    "cmd=input('Enter mysql Command.....')\n",
    "cur.execute(cmd)\n",
    "data=cur.fetchall()\n",
    "print(data)"
   ]
  },
  {
   "cell_type": "code",
   "execution_count": 9,
   "metadata": {},
   "outputs": [
    {
     "name": "stdout",
     "output_type": "stream",
     "text": [
      "Enter mysql Command.....show tables\n",
      "(('address',), ('student',))\n"
     ]
    }
   ],
   "source": [
    "cmd=input('Enter mysql Command.....')\n",
    "cur.execute(cmd)\n",
    "data=cur.fetchall()\n",
    "print(data)"
   ]
  },
  {
   "cell_type": "code",
   "execution_count": 11,
   "metadata": {},
   "outputs": [
    {
     "name": "stdout",
     "output_type": "stream",
     "text": [
      "Enter mysql Command.....use python8pm\n",
      "()\n"
     ]
    }
   ],
   "source": [
    "cmd=input('Enter mysql Command.....')\n",
    "cur.execute(cmd)\n",
    "data=cur.fetchall()\n",
    "print(data)"
   ]
  },
  {
   "cell_type": "code",
   "execution_count": 12,
   "metadata": {},
   "outputs": [
    {
     "name": "stdout",
     "output_type": "stream",
     "text": [
      "Enter mysql Command.....show tables;\n",
      "(('fees',), ('student',))\n"
     ]
    }
   ],
   "source": [
    "cmd=input('Enter mysql Command.....')\n",
    "cur.execute(cmd)\n",
    "data=cur.fetchall()\n",
    "print(data)"
   ]
  },
  {
   "cell_type": "code",
   "execution_count": 13,
   "metadata": {},
   "outputs": [
    {
     "name": "stdout",
     "output_type": "stream",
     "text": [
      "Enter mysql Command.....select * from student\n",
      "((1001, 'samyak', 'jain', 'python', 'samyak49089@gmail.com'), (1002, 'sachin', 'yadav', 'DS', 'sachinyadav3496@gmail.com'), (1003, 'rajat', 'NA', 'aws', 'rajatgoyal@gmail.com'), (1004, 'Kushal', 'NA', 'python', 'kushal109@gmail.com'), (1005, 'Anshul', 'NA', 'aws', 'anshul.katheth111@gmail.com'), (1006, 'Simran', 'NA', 'ML', 'simrangrover5@gmail.com'), (1007, 'Nidhi', 'NA', 'python', 'nidhi@grras.com'))\n"
     ]
    }
   ],
   "source": [
    "cmd=input('Enter mysql Command.....')\n",
    "cur.execute(cmd)\n",
    "data=cur.fetchall()\n",
    "print(data)"
   ]
  },
  {
   "cell_type": "code",
   "execution_count": 14,
   "metadata": {},
   "outputs": [
    {
     "name": "stdout",
     "output_type": "stream",
     "text": [
      "Enter mysql Command.....create database practice\n"
     ]
    },
    {
     "data": {
      "text/plain": [
       "1"
      ]
     },
     "execution_count": 14,
     "metadata": {},
     "output_type": "execute_result"
    }
   ],
   "source": [
    "cmd=input('Enter mysql Command.....')\n",
    "cur.execute(cmd)\n",
    "#db.commit()----->for update the data"
   ]
  },
  {
   "cell_type": "code",
   "execution_count": 15,
   "metadata": {},
   "outputs": [
    {
     "name": "stdout",
     "output_type": "stream",
     "text": [
      "Enter mysql Command.....show databases;\n",
      "(('information_schema',), ('mysql',), ('performance_schema',), ('phpmyadmin',), ('practice',), ('python8pm',), ('student',), ('test',), ('world',))\n"
     ]
    }
   ],
   "source": [
    "cmd=input('Enter mysql Command.....')\n",
    "cur.execute(cmd)\n",
    "data=cur.fetchall()\n",
    "print(data)"
   ]
  },
  {
   "cell_type": "code",
   "execution_count": 17,
   "metadata": {},
   "outputs": [
    {
     "name": "stdout",
     "output_type": "stream",
     "text": [
      "Enter mysql Command.....create table info(account int(10) not null primary key auto_increment,Name char(20) not null, Balance int(6) not null,password varchar(20) not null)\n"
     ]
    },
    {
     "data": {
      "text/plain": [
       "0"
      ]
     },
     "execution_count": 17,
     "metadata": {},
     "output_type": "execute_result"
    }
   ],
   "source": [
    "cmd=input('Enter mysql Command.....')\n",
    "cur.execute(cmd)\n"
   ]
  },
  {
   "cell_type": "code",
   "execution_count": 20,
   "metadata": {},
   "outputs": [
    {
     "name": "stdout",
     "output_type": "stream",
     "text": [
      "Enter mysql Command.....insert into info values(1002,'Samyak',20000,'redhat@123')\n"
     ]
    },
    {
     "data": {
      "text/plain": [
       "1"
      ]
     },
     "execution_count": 20,
     "metadata": {},
     "output_type": "execute_result"
    }
   ],
   "source": [
    "cmd=input('Enter mysql Command.....')\n",
    "cur.execute(cmd)\n"
   ]
  },
  {
   "cell_type": "code",
   "execution_count": 21,
   "metadata": {},
   "outputs": [
    {
     "name": "stdout",
     "output_type": "stream",
     "text": [
      "Enter mysql Command.....select * from info\n",
      "(1001, 'sachin', 10000, 'redhat')\n"
     ]
    }
   ],
   "source": [
    "cmd=input('Enter mysql Command.....')\n",
    "cur.execute(cmd)\n",
    "data=cur.fetchone()\n",
    "print(data)"
   ]
  },
  {
   "cell_type": "code",
   "execution_count": 22,
   "metadata": {},
   "outputs": [],
   "source": [
    "data=cur.fetchone()"
   ]
  },
  {
   "cell_type": "code",
   "execution_count": 23,
   "metadata": {},
   "outputs": [
    {
     "name": "stdout",
     "output_type": "stream",
     "text": [
      "(1002, 'Samyak', 20000, 'redhat@123')\n"
     ]
    }
   ],
   "source": [
    "print(data)"
   ]
  },
  {
   "cell_type": "code",
   "execution_count": 24,
   "metadata": {},
   "outputs": [],
   "source": [
    "data=cur.fetchone()"
   ]
  },
  {
   "cell_type": "code",
   "execution_count": 25,
   "metadata": {},
   "outputs": [
    {
     "name": "stdout",
     "output_type": "stream",
     "text": [
      "None\n"
     ]
    }
   ],
   "source": [
    "print(data)"
   ]
  },
  {
   "cell_type": "code",
   "execution_count": 27,
   "metadata": {},
   "outputs": [],
   "source": [
    "#Bank Application\n",
    "#Mart Application"
   ]
  },
  {
   "cell_type": "code",
   "execution_count": null,
   "metadata": {},
   "outputs": [],
   "source": []
  }
 ],
 "metadata": {
  "kernelspec": {
   "display_name": "Python 3",
   "language": "python",
   "name": "python3"
  },
  "language_info": {
   "codemirror_mode": {
    "name": "ipython",
    "version": 3
   },
   "file_extension": ".py",
   "mimetype": "text/x-python",
   "name": "python",
   "nbconvert_exporter": "python",
   "pygments_lexer": "ipython3",
   "version": "3.7.3"
  }
 },
 "nbformat": 4,
 "nbformat_minor": 2
}
