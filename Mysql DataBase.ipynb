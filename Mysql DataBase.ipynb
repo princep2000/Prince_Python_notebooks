{
 "cells": [
  {
   "cell_type": "markdown",
   "metadata": {},
   "source": [
    "\n",
    "            File Handling----> Data Storage---->Normal File Handling(string method)\n",
    "                                                Json and Pickle (Str,Bytes)\n",
    "                                                Shelve (Dictionary)\n",
    "                                                \n",
    "                                                \n",
    "            DataBase ---> Row and Column (tabular form)\n",
    "            \n",
    "            \n",
    "            Name     Course     Fees  \n",
    "            \n",
    "            Samyak    DS       15000\n",
    "            \n",
    "            Sachin    Python   10000\n",
    "            \n",
    "            Rajat     AWS      8000"
   ]
  },
  {
   "cell_type": "markdown",
   "metadata": {},
   "source": [
    "* **Features of DataBases**\n",
    "    \n",
    "    * **To Store the large amount of data.**\n",
    "    \n",
    "    * **Handling the data in efficient way**\n",
    "    \n",
    "    * **Time Save**\n",
    "    \n",
    "    * **Memoray Save**\n",
    "    \n",
    "    * **Redundancy Removal**\n",
    "    \n",
    "    * **Multiple User Environment**\n",
    "    \n",
    "    * **Query**\n",
    "    \n",
    "    * **Security & Permission**\n",
    "    \n",
    "    * **ACID**\n",
    "        \n",
    "        * **Atomicity**    \n",
    "    \n",
    "        * **Consistency**\n",
    "        \n",
    "        * **Isolation**\n",
    "        \n",
    "        * **Durability**"
   ]
  },
  {
   "cell_type": "markdown",
   "metadata": {},
   "source": [
    "        Atomicity: ---> Either work complete 100% or 0%.\n",
    "        \n",
    "        Consistency:--> No Change till next transaction.\n",
    "        \n",
    "        Isolation:----> Every user has own data.\n",
    "        \n",
    "        Durability:---> Data Save Permanently."
   ]
  },
  {
   "cell_type": "markdown",
   "metadata": {},
   "source": [
    "        Sql: ---> Structured Query Language\n",
    "        \n",
    "        \n",
    "        Sid    Name     Course    Fees\n",
    "        \n",
    "        1001   Samyak    Python    10000\n",
    "        \n",
    "        1002   Sachin    DS        15000\n",
    "        \n",
    "        1003    Rajat    AWS       10000"
   ]
  },
  {
   "cell_type": "markdown",
   "metadata": {},
   "source": [
    "            NoSql: Without Structure Data"
   ]
  },
  {
   "cell_type": "markdown",
   "metadata": {},
   "source": [
    "                Relation DataBase Management System:--->RDBMS\n",
    "                \n",
    "                mysql,sqlite3,oracle,pymysql\n",
    "                mariadb\n",
    "                \n",
    "                Non-Relational Database:\n",
    "                                        MongoDB"
   ]
  },
  {
   "cell_type": "markdown",
   "metadata": {},
   "source": [
    "\n",
    "                   database creation----->Table Creation---->Insert the data----> Update,Delete,Insert\n",
    "    "
   ]
  },
  {
   "cell_type": "markdown",
   "metadata": {},
   "source": [
    "        Primary Key: --->  Uniquely indentify a row or column.(sid)\n",
    "        \n",
    "        Candidate Key:-->  Those keys which are eligible to become a primary key.(Name,Course)\n",
    "        \n",
    "        Alternate Key:---> Not Elligible to become a primary key.(Fees)\n",
    "        \n",
    "        Composite Key:---> Combination of any two keys which can become a primary key.\n",
    "        \n",
    "        Foreign Key: ----> Linking between two tables.\n",
    "        \n",
    "        Super Key: ----> All Keys add."
   ]
  },
  {
   "cell_type": "code",
   "execution_count": null,
   "metadata": {},
   "outputs": [],
   "source": []
  }
 ],
 "metadata": {
  "kernelspec": {
   "display_name": "Python 3",
   "language": "python",
   "name": "python3"
  },
  "language_info": {
   "codemirror_mode": {
    "name": "ipython",
    "version": 3
   },
   "file_extension": ".py",
   "mimetype": "text/x-python",
   "name": "python",
   "nbconvert_exporter": "python",
   "pygments_lexer": "ipython3",
   "version": "3.6.2"
  }
 },
 "nbformat": 4,
 "nbformat_minor": 2
}
