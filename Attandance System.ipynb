{
 "cells": [
  {
   "cell_type": "code",
   "execution_count": 51,
   "metadata": {},
   "outputs": [],
   "source": [
    "f=open('attandance.txt')"
   ]
  },
  {
   "cell_type": "code",
   "execution_count": 52,
   "metadata": {},
   "outputs": [],
   "source": [
    "data=f.read()"
   ]
  },
  {
   "cell_type": "code",
   "execution_count": 53,
   "metadata": {},
   "outputs": [
    {
     "data": {
      "text/plain": [
       "'Name\\tsamyak\\tsachin\\trajat\\travi\\tkushal\\tnidhi\\tsimran\\tanshul\\tsanjay\\tnikita\\n01-07\\tA\\tP\\tP\\tP\\tP\\tP\\tP\\tP\\tA\\tP\\n01-07\\tP\\tP\\tA\\tP\\tP\\tA\\tP\\tP\\tA\\tP\\n01-07\\tP\\tA\\tP\\tP\\tA\\tP\\tA\\tA\\tP\\tA'"
      ]
     },
     "execution_count": 53,
     "metadata": {},
     "output_type": "execute_result"
    }
   ],
   "source": [
    "data"
   ]
  },
  {
   "cell_type": "code",
   "execution_count": 3,
   "metadata": {},
   "outputs": [
    {
     "name": "stdout",
     "output_type": "stream",
     "text": [
      "Name\tsamyak\tsachin\trajat\travi\tkushal\tnidhi\tsimran\tanshul\tsanjay\tnikita\n"
     ]
    }
   ],
   "source": [
    "print(data)"
   ]
  },
  {
   "cell_type": "code",
   "execution_count": 8,
   "metadata": {},
   "outputs": [
    {
     "name": "stdout",
     "output_type": "stream",
     "text": [
      "Name\tsamyak\tsachin\trajat\travi\tkushal\tnidhi\tsimran\tanshul\tsanjay\tnikita\n"
     ]
    }
   ],
   "source": [
    "!type attandance.txt"
   ]
  },
  {
   "cell_type": "code",
   "execution_count": 21,
   "metadata": {},
   "outputs": [
    {
     "name": "stdout",
     "output_type": "stream",
     "text": [
      "Enter A for abscent P for Present\n",
      "samyak--->p\n",
      "sachin--->a\n",
      "rajat--->p\n",
      "ravi--->p\n",
      "kushal--->a\n",
      "nidhi--->p\n",
      "simran--->a\n",
      "anshul--->a\n",
      "sanjay--->p\n",
      "nikita--->a\n"
     ]
    }
   ],
   "source": [
    "import time\n",
    "\n"
   ]
  },
  {
   "cell_type": "code",
   "execution_count": 22,
   "metadata": {},
   "outputs": [
    {
     "name": "stdout",
     "output_type": "stream",
     "text": [
      "Name\tsamyak\tsachin\trajat\travi\tkushal\tnidhi\tsimran\tanshul\tsanjay\tnikita\n",
      "01-07\tA\tP\tP\tP\tP\tP\tP\tP\tA\tP\n",
      "01-07\tP\tP\tA\tP\tP\tA\tP\tP\tA\tP\n",
      "01-07\tP\tA\tP\tP\tA\tP\tA\tA\tP\tA\n"
     ]
    }
   ],
   "source": [
    "!type attandance.txt"
   ]
  },
  {
   "cell_type": "code",
   "execution_count": 14,
   "metadata": {},
   "outputs": [],
   "source": [
    "f=open('attandance.txt')"
   ]
  },
  {
   "cell_type": "code",
   "execution_count": 15,
   "metadata": {},
   "outputs": [],
   "source": [
    "data=f.read()"
   ]
  },
  {
   "cell_type": "code",
   "execution_count": 16,
   "metadata": {},
   "outputs": [
    {
     "data": {
      "text/plain": [
       "'Name\\tsamyak\\tsachin\\trajat\\travi\\tkushal\\tnidhi\\tsimran\\tanshul\\tsanjay\\tnikita\\n01-07\\tA\\tP\\tP\\tP\\tP\\tP\\tP\\tP\\tA\\tP'"
      ]
     },
     "execution_count": 16,
     "metadata": {},
     "output_type": "execute_result"
    }
   ],
   "source": [
    "data"
   ]
  },
  {
   "cell_type": "code",
   "execution_count": 19,
   "metadata": {},
   "outputs": [
    {
     "data": {
      "text/plain": [
       "['Name',\n",
       " 'samyak',\n",
       " 'sachin',\n",
       " 'rajat',\n",
       " 'ravi',\n",
       " 'kushal',\n",
       " 'nidhi',\n",
       " 'simran',\n",
       " 'anshul',\n",
       " 'sanjay',\n",
       " 'nikita']"
      ]
     },
     "execution_count": 19,
     "metadata": {},
     "output_type": "execute_result"
    }
   ],
   "source": []
  },
  {
   "cell_type": "code",
   "execution_count": 24,
   "metadata": {},
   "outputs": [],
   "source": []
  },
  {
   "cell_type": "code",
   "execution_count": 25,
   "metadata": {},
   "outputs": [
    {
     "data": {
      "text/plain": [
       "'Name\\tsamyak\\tsachin\\trajat\\travi\\tkushal\\tnidhi\\tsimran\\tanshul\\tsanjay\\tnikita\\n01-07\\tA\\tP\\tP\\tP\\tP\\tP\\tP\\tP\\tA\\tP\\n01-07\\tP\\tP\\tA\\tP\\tP\\tA\\tP\\tP\\tA\\tP\\n01-07\\tP\\tA\\tP\\tP\\tA\\tP\\tA\\tA\\tP\\tA'"
      ]
     },
     "execution_count": 25,
     "metadata": {},
     "output_type": "execute_result"
    }
   ],
   "source": [
    "data"
   ]
  },
  {
   "cell_type": "code",
   "execution_count": 27,
   "metadata": {},
   "outputs": [],
   "source": []
  },
  {
   "cell_type": "code",
   "execution_count": 28,
   "metadata": {},
   "outputs": [
    {
     "name": "stdout",
     "output_type": "stream",
     "text": [
      "['Name\\tsamyak\\tsachin\\trajat\\travi\\tkushal\\tnidhi\\tsimran\\tanshul\\tsanjay\\tnikita', '01-07\\tA\\tP\\tP\\tP\\tP\\tP\\tP\\tP\\tA\\tP', '01-07\\tP\\tP\\tA\\tP\\tP\\tA\\tP\\tP\\tA\\tP', '01-07\\tP\\tA\\tP\\tP\\tA\\tP\\tA\\tA\\tP\\tA']\n"
     ]
    }
   ],
   "source": [
    "print(data)"
   ]
  },
  {
   "cell_type": "code",
   "execution_count": 29,
   "metadata": {},
   "outputs": [],
   "source": [
    "l=list()\n",
    "for i in data:\n",
    "    l.append(i.split('\\t'))"
   ]
  },
  {
   "cell_type": "code",
   "execution_count": 30,
   "metadata": {},
   "outputs": [
    {
     "name": "stdout",
     "output_type": "stream",
     "text": [
      "[['Name', 'samyak', 'sachin', 'rajat', 'ravi', 'kushal', 'nidhi', 'simran', 'anshul', 'sanjay', 'nikita'], ['01-07', 'A', 'P', 'P', 'P', 'P', 'P', 'P', 'P', 'A', 'P'], ['01-07', 'P', 'P', 'A', 'P', 'P', 'A', 'P', 'P', 'A', 'P'], ['01-07', 'P', 'A', 'P', 'P', 'A', 'P', 'A', 'A', 'P', 'A']]\n"
     ]
    }
   ],
   "source": [
    "print(l)"
   ]
  },
  {
   "cell_type": "code",
   "execution_count": 32,
   "metadata": {},
   "outputs": [
    {
     "name": "stdout",
     "output_type": "stream",
     "text": [
      "['Name', 'samyak', 'sachin', 'rajat', 'ravi', 'kushal', 'nidhi', 'simran', 'anshul', 'sanjay', 'nikita']\n",
      "['01-07', 'A', 'P', 'P', 'P', 'P', 'P', 'P', 'P', 'A', 'P']\n",
      "['01-07', 'P', 'P', 'A', 'P', 'P', 'A', 'P', 'P', 'A', 'P']\n",
      "['01-07', 'P', 'A', 'P', 'P', 'A', 'P', 'A', 'A', 'P', 'A']\n"
     ]
    }
   ],
   "source": [
    "for i in l:\n",
    "    print(i)"
   ]
  },
  {
   "cell_type": "code",
   "execution_count": 34,
   "metadata": {},
   "outputs": [
    {
     "data": {
      "text/plain": [
       "'samyak'"
      ]
     },
     "execution_count": 34,
     "metadata": {},
     "output_type": "execute_result"
    }
   ],
   "source": [
    "l[0][1]"
   ]
  },
  {
   "cell_type": "code",
   "execution_count": 35,
   "metadata": {},
   "outputs": [
    {
     "data": {
      "text/plain": [
       "'A'"
      ]
     },
     "execution_count": 35,
     "metadata": {},
     "output_type": "execute_result"
    }
   ],
   "source": [
    "l[1][1]"
   ]
  },
  {
   "cell_type": "code",
   "execution_count": 36,
   "metadata": {},
   "outputs": [
    {
     "data": {
      "text/plain": [
       "'P'"
      ]
     },
     "execution_count": 36,
     "metadata": {},
     "output_type": "execute_result"
    }
   ],
   "source": [
    "l[2][1]"
   ]
  },
  {
   "cell_type": "code",
   "execution_count": 37,
   "metadata": {},
   "outputs": [
    {
     "data": {
      "text/plain": [
       "'P'"
      ]
     },
     "execution_count": 37,
     "metadata": {},
     "output_type": "execute_result"
    }
   ],
   "source": [
    "l[3][1]"
   ]
  },
  {
   "cell_type": "code",
   "execution_count": 64,
   "metadata": {},
   "outputs": [
    {
     "name": "stdout",
     "output_type": "stream",
     "text": [
      "Writing attanadance.py\n"
     ]
    }
   ],
   "source": [
    "%%writefile attanadance.py\n",
    "import time\n",
    "def main():\n",
    "    s='''1.Create Attandance Register\\n2.Take Attandance\\n3.Count Attandance'''\n",
    "    print(s)\n",
    "    ch=int(input('Enter Choice From Above: '))\n",
    "    if ch==1:\n",
    "        create_file()\n",
    "    elif ch==2:\n",
    "        take_attandance()\n",
    "    elif ch==3:\n",
    "        count_attandance()\n",
    "    else:\n",
    "        exit()\n",
    "def exit():        \n",
    "    print('Thanks for using our service')\n",
    "    print('..........Exciting..........')\n",
    "    \n",
    "def create_file():\n",
    "    f=open('attandance1.txt','w')\n",
    "    s='Name\\tsamyak\\tsachin\\trajat\\travi\\tkushal\\tnidhi\\tsimran\\tanshul\\tsanjay\\tnikita'\n",
    "    f.write(s)\n",
    "    f.close()\n",
    "    print('File Created Successfully')\n",
    "    ch=input('Enter yes or y for take attandance')\n",
    "    if ch.lower()=='yes' or ch.lower()=='y':\n",
    "        take_attandance()\n",
    "    else:\n",
    "        exit()\n",
    "def take_attandance():\n",
    "    c=time.strftime('%d-%m')\n",
    "    f=open('attandance1.txt','r+')\n",
    "    data=f.read()\n",
    "    data=data.split('\\n')[0].split('\\t')\n",
    "    s='\\n'+c\n",
    "    f.write(s)\n",
    "    print('Enter A for abscent P for Present')\n",
    "    for i in range(1,len(data)):\n",
    "        s='\\t'+input(f'{data[i]}--->').upper()\n",
    "        f.write(s)\n",
    "\n",
    "    f.close()\n",
    "    \n",
    "    ch=input('Enter yes or y for count attandance')\n",
    "    if ch.lower()=='yes' or ch.lower()=='y':\n",
    "        count_attandance()\n",
    "    else:\n",
    "        exit()\n",
    "\n",
    "\n",
    "def count_attandance():\n",
    "    f=open('attandance1.txt')\n",
    "    data=f.read()\n",
    "    data=data.split('\\n')\n",
    "    l=list()\n",
    "    for i in data:\n",
    "        l.append(i.split('\\t'))\n",
    "    for i in range(1,10):\n",
    "        l1=list()\n",
    "        for j in range(0,len(l)):\n",
    "            l1.append(l[j][i])\n",
    "        pre=l1.count('P')\n",
    "        abc=l1.count('A')\n",
    "        print(f\"{l1[0]} ---> {pre} P & {abc} A\")\n",
    "        \n",
    "main()"
   ]
  },
  {
   "cell_type": "code",
   "execution_count": 55,
   "metadata": {},
   "outputs": [
    {
     "name": "stdout",
     "output_type": "stream",
     "text": [
      "File Created Successfully\n"
     ]
    }
   ],
   "source": [
    "create_file()"
   ]
  },
  {
   "cell_type": "code",
   "execution_count": 56,
   "metadata": {},
   "outputs": [
    {
     "name": "stdout",
     "output_type": "stream",
     "text": [
      "Enter A for abscent P for Present\n",
      "samyak--->a\n",
      "sachin--->p\n",
      "rajat--->a\n",
      "ravi--->p\n",
      "kushal--->a\n",
      "nidhi--->p\n",
      "simran--->a\n",
      "anshul--->p\n",
      "sanjay--->a\n",
      "nikita--->p\n"
     ]
    }
   ],
   "source": [
    "take_attandance()"
   ]
  },
  {
   "cell_type": "code",
   "execution_count": 57,
   "metadata": {},
   "outputs": [
    {
     "name": "stdout",
     "output_type": "stream",
     "text": [
      "samyak ---> 0 P & 1 A\n",
      "sachin ---> 1 P & 0 A\n",
      "rajat ---> 0 P & 1 A\n",
      "ravi ---> 1 P & 0 A\n",
      "kushal ---> 0 P & 1 A\n",
      "nidhi ---> 1 P & 0 A\n",
      "simran ---> 0 P & 1 A\n",
      "anshul ---> 1 P & 0 A\n",
      "sanjay ---> 0 P & 1 A\n"
     ]
    }
   ],
   "source": [
    "count_attandance()"
   ]
  },
  {
   "cell_type": "code",
   "execution_count": 63,
   "metadata": {},
   "outputs": [
    {
     "name": "stdout",
     "output_type": "stream",
     "text": [
      "1.Create Attandance Register\n",
      "2.Take Attandance\n",
      "3.Count Attandance\n",
      "Enter Choice From Above: 1\n",
      "File Created Successfully\n",
      "Enter yes or y for take attandancey\n",
      "Enter A for abscent P for Present\n",
      "samyak--->a\n",
      "sachin--->a\n",
      "rajat--->p\n",
      "ravi--->p\n",
      "kushal--->p\n",
      "nidhi--->a\n",
      "simran--->p\n",
      "anshul--->p\n",
      "sanjay--->a\n",
      "nikita--->p\n",
      "Enter yes or y for take attandancey\n",
      "samyak ---> 0 P & 1 A\n",
      "sachin ---> 0 P & 1 A\n",
      "rajat ---> 1 P & 0 A\n",
      "ravi ---> 1 P & 0 A\n",
      "kushal ---> 1 P & 0 A\n",
      "nidhi ---> 0 P & 1 A\n",
      "simran ---> 1 P & 0 A\n",
      "anshul ---> 1 P & 0 A\n",
      "sanjay ---> 0 P & 1 A\n"
     ]
    }
   ],
   "source": [
    "main()"
   ]
  },
  {
   "cell_type": "code",
   "execution_count": 65,
   "metadata": {},
   "outputs": [],
   "source": [
    "#File Handling---->Normal Filehandling----->String Preprocessing\n",
    "\n",
    "#json & pickle----->Advanced File handling"
   ]
  },
  {
   "cell_type": "code",
   "execution_count": 66,
   "metadata": {},
   "outputs": [],
   "source": [
    "#json---->Java Script Object Notation"
   ]
  },
  {
   "cell_type": "code",
   "execution_count": 67,
   "metadata": {},
   "outputs": [],
   "source": [
    "#Serialization---->dumping of data"
   ]
  },
  {
   "cell_type": "markdown",
   "metadata": {},
   "source": [
    "    In serailization process we can store the data of any format but file in which we store the data ,data is in string format"
   ]
  },
  {
   "cell_type": "code",
   "execution_count": 68,
   "metadata": {},
   "outputs": [],
   "source": [
    "import json"
   ]
  },
  {
   "cell_type": "code",
   "execution_count": 69,
   "metadata": {},
   "outputs": [],
   "source": [
    "#json.dump/json.dumps"
   ]
  },
  {
   "cell_type": "code",
   "execution_count": 70,
   "metadata": {},
   "outputs": [],
   "source": [
    "d={'Name':'Sachin','Course':'DS','Age':24}"
   ]
  },
  {
   "cell_type": "code",
   "execution_count": 71,
   "metadata": {},
   "outputs": [
    {
     "data": {
      "text/plain": [
       "dict"
      ]
     },
     "execution_count": 71,
     "metadata": {},
     "output_type": "execute_result"
    }
   ],
   "source": [
    "type(d)"
   ]
  },
  {
   "cell_type": "code",
   "execution_count": 73,
   "metadata": {},
   "outputs": [],
   "source": [
    "f=open('json.txt','w')\n",
    "f.write(str(d))\n",
    "f.close()"
   ]
  },
  {
   "cell_type": "code",
   "execution_count": 74,
   "metadata": {},
   "outputs": [],
   "source": [
    "f=open('json.txt')"
   ]
  },
  {
   "cell_type": "code",
   "execution_count": 75,
   "metadata": {},
   "outputs": [],
   "source": [
    "data=f.read()"
   ]
  },
  {
   "cell_type": "code",
   "execution_count": 76,
   "metadata": {},
   "outputs": [
    {
     "name": "stdout",
     "output_type": "stream",
     "text": [
      "{'Name': 'Sachin', 'Course': 'DS', 'Age': 24}\n"
     ]
    }
   ],
   "source": [
    "print(data)"
   ]
  },
  {
   "cell_type": "code",
   "execution_count": 77,
   "metadata": {},
   "outputs": [
    {
     "data": {
      "text/plain": [
       "str"
      ]
     },
     "execution_count": 77,
     "metadata": {},
     "output_type": "execute_result"
    }
   ],
   "source": [
    "type(data)"
   ]
  },
  {
   "cell_type": "code",
   "execution_count": 78,
   "metadata": {},
   "outputs": [
    {
     "ename": "TypeError",
     "evalue": "string indices must be integers",
     "output_type": "error",
     "traceback": [
      "\u001b[1;31m---------------------------------------------------------------------------\u001b[0m",
      "\u001b[1;31mTypeError\u001b[0m                                 Traceback (most recent call last)",
      "\u001b[1;32m<ipython-input-78-e41dbb9e1036>\u001b[0m in \u001b[0;36m<module>\u001b[1;34m\u001b[0m\n\u001b[1;32m----> 1\u001b[1;33m \u001b[0mdata\u001b[0m\u001b[1;33m[\u001b[0m\u001b[1;34m'Name'\u001b[0m\u001b[1;33m]\u001b[0m\u001b[1;33m\u001b[0m\u001b[1;33m\u001b[0m\u001b[0m\n\u001b[0m",
      "\u001b[1;31mTypeError\u001b[0m: string indices must be integers"
     ]
    }
   ],
   "source": [
    "data['Name']"
   ]
  },
  {
   "cell_type": "code",
   "execution_count": 79,
   "metadata": {},
   "outputs": [],
   "source": [
    "data=data[1:-1].split(',')"
   ]
  },
  {
   "cell_type": "code",
   "execution_count": 80,
   "metadata": {},
   "outputs": [
    {
     "data": {
      "text/plain": [
       "[\"'Name': 'Sachin'\", \" 'Course': 'DS'\", \" 'Age': 24\"]"
      ]
     },
     "execution_count": 80,
     "metadata": {},
     "output_type": "execute_result"
    }
   ],
   "source": [
    "data"
   ]
  },
  {
   "cell_type": "code",
   "execution_count": 83,
   "metadata": {},
   "outputs": [],
   "source": [
    "l=list()\n",
    "for i in data:\n",
    "    l.append(i.split(':'))"
   ]
  },
  {
   "cell_type": "code",
   "execution_count": 84,
   "metadata": {},
   "outputs": [
    {
     "data": {
      "text/plain": [
       "[[\"'Name'\", \" 'Sachin'\"], [\" 'Course'\", \" 'DS'\"], [\" 'Age'\", ' 24']]"
      ]
     },
     "execution_count": 84,
     "metadata": {},
     "output_type": "execute_result"
    }
   ],
   "source": [
    "l"
   ]
  },
  {
   "cell_type": "code",
   "execution_count": 85,
   "metadata": {},
   "outputs": [
    {
     "name": "stdout",
     "output_type": "stream",
     "text": [
      "'Name'---> 'Sachin'\n",
      " 'Course'---> 'DS'\n",
      " 'Age'---> 24\n"
     ]
    }
   ],
   "source": [
    "for i in l:\n",
    "    print(f\"{i[0]}--->{i[1]}\")"
   ]
  },
  {
   "cell_type": "code",
   "execution_count": 86,
   "metadata": {},
   "outputs": [],
   "source": [
    "#Deserialization--------->load the data in original format"
   ]
  },
  {
   "cell_type": "code",
   "execution_count": 87,
   "metadata": {},
   "outputs": [
    {
     "data": {
      "text/plain": [
       "{'Name': 'Sachin', 'Course': 'DS', 'Age': 24}"
      ]
     },
     "execution_count": 87,
     "metadata": {},
     "output_type": "execute_result"
    }
   ],
   "source": [
    "d"
   ]
  },
  {
   "cell_type": "code",
   "execution_count": 88,
   "metadata": {},
   "outputs": [
    {
     "data": {
      "text/plain": [
       "dict"
      ]
     },
     "execution_count": 88,
     "metadata": {},
     "output_type": "execute_result"
    }
   ],
   "source": [
    "type(d)"
   ]
  },
  {
   "cell_type": "code",
   "execution_count": 89,
   "metadata": {},
   "outputs": [],
   "source": [
    "x=json.dumps(d)#serialization"
   ]
  },
  {
   "cell_type": "code",
   "execution_count": 90,
   "metadata": {},
   "outputs": [
    {
     "name": "stdout",
     "output_type": "stream",
     "text": [
      "{\"Name\": \"Sachin\", \"Course\": \"DS\", \"Age\": 24}\n"
     ]
    }
   ],
   "source": [
    "print(x)"
   ]
  },
  {
   "cell_type": "code",
   "execution_count": 91,
   "metadata": {},
   "outputs": [
    {
     "data": {
      "text/plain": [
       "str"
      ]
     },
     "execution_count": 91,
     "metadata": {},
     "output_type": "execute_result"
    }
   ],
   "source": [
    "type(x)"
   ]
  },
  {
   "cell_type": "code",
   "execution_count": 92,
   "metadata": {},
   "outputs": [],
   "source": [
    "y=json.loads(x)#deserialization"
   ]
  },
  {
   "cell_type": "code",
   "execution_count": 93,
   "metadata": {},
   "outputs": [
    {
     "data": {
      "text/plain": [
       "dict"
      ]
     },
     "execution_count": 93,
     "metadata": {},
     "output_type": "execute_result"
    }
   ],
   "source": [
    "type(y)"
   ]
  },
  {
   "cell_type": "code",
   "execution_count": 94,
   "metadata": {},
   "outputs": [
    {
     "data": {
      "text/plain": [
       "{'Name': 'Sachin', 'Course': 'DS', 'Age': 24}"
      ]
     },
     "execution_count": 94,
     "metadata": {},
     "output_type": "execute_result"
    }
   ],
   "source": [
    "y"
   ]
  },
  {
   "cell_type": "code",
   "execution_count": 96,
   "metadata": {},
   "outputs": [
    {
     "data": {
      "text/plain": [
       "'Sachin'"
      ]
     },
     "execution_count": 96,
     "metadata": {},
     "output_type": "execute_result"
    }
   ],
   "source": [
    "y['Name']"
   ]
  },
  {
   "cell_type": "code",
   "execution_count": 97,
   "metadata": {},
   "outputs": [
    {
     "data": {
      "text/plain": [
       "'DS'"
      ]
     },
     "execution_count": 97,
     "metadata": {},
     "output_type": "execute_result"
    }
   ],
   "source": [
    "y['Course']"
   ]
  },
  {
   "cell_type": "code",
   "execution_count": 98,
   "metadata": {},
   "outputs": [
    {
     "data": {
      "text/plain": [
       "24"
      ]
     },
     "execution_count": 98,
     "metadata": {},
     "output_type": "execute_result"
    }
   ],
   "source": [
    "y['Age']"
   ]
  },
  {
   "cell_type": "code",
   "execution_count": 99,
   "metadata": {},
   "outputs": [],
   "source": [
    "f=open('firstjson.txt','w')"
   ]
  },
  {
   "cell_type": "code",
   "execution_count": 100,
   "metadata": {},
   "outputs": [
    {
     "data": {
      "text/plain": [
       "{'Name': 'Sachin', 'Course': 'DS', 'Age': 24}"
      ]
     },
     "execution_count": 100,
     "metadata": {},
     "output_type": "execute_result"
    }
   ],
   "source": [
    "d"
   ]
  },
  {
   "cell_type": "code",
   "execution_count": 101,
   "metadata": {},
   "outputs": [],
   "source": [
    "json.dump(d,f)"
   ]
  },
  {
   "cell_type": "code",
   "execution_count": 102,
   "metadata": {},
   "outputs": [],
   "source": [
    "f.close()"
   ]
  },
  {
   "cell_type": "code",
   "execution_count": 103,
   "metadata": {},
   "outputs": [
    {
     "name": "stdout",
     "output_type": "stream",
     "text": [
      "{\"Name\": \"Sachin\", \"Course\": \"DS\", \"Age\": 24}\n"
     ]
    }
   ],
   "source": [
    "!type firstjson.txt"
   ]
  },
  {
   "cell_type": "code",
   "execution_count": 104,
   "metadata": {},
   "outputs": [],
   "source": [
    "f=open('firstjson.txt')"
   ]
  },
  {
   "cell_type": "code",
   "execution_count": 105,
   "metadata": {},
   "outputs": [],
   "source": [
    "data=f.read()"
   ]
  },
  {
   "cell_type": "code",
   "execution_count": 106,
   "metadata": {},
   "outputs": [
    {
     "data": {
      "text/plain": [
       "str"
      ]
     },
     "execution_count": 106,
     "metadata": {},
     "output_type": "execute_result"
    }
   ],
   "source": [
    "type(data)"
   ]
  },
  {
   "cell_type": "code",
   "execution_count": 107,
   "metadata": {},
   "outputs": [],
   "source": [
    "f=open('firstjson.txt')\n",
    "data=json.load(f)"
   ]
  },
  {
   "cell_type": "code",
   "execution_count": 108,
   "metadata": {},
   "outputs": [
    {
     "name": "stdout",
     "output_type": "stream",
     "text": [
      "{'Name': 'Sachin', 'Course': 'DS', 'Age': 24}\n"
     ]
    }
   ],
   "source": [
    "print(data)"
   ]
  },
  {
   "cell_type": "code",
   "execution_count": 109,
   "metadata": {},
   "outputs": [
    {
     "data": {
      "text/plain": [
       "dict"
      ]
     },
     "execution_count": 109,
     "metadata": {},
     "output_type": "execute_result"
    }
   ],
   "source": [
    "type(data)"
   ]
  },
  {
   "cell_type": "code",
   "execution_count": 110,
   "metadata": {},
   "outputs": [],
   "source": [
    "#dump(f,d)\n",
    "#x=dumps(d)"
   ]
  },
  {
   "cell_type": "code",
   "execution_count": 111,
   "metadata": {},
   "outputs": [],
   "source": [
    "import pickle"
   ]
  },
  {
   "cell_type": "code",
   "execution_count": 112,
   "metadata": {},
   "outputs": [
    {
     "data": {
      "text/plain": [
       "{'Name': 'Sachin', 'Course': 'DS', 'Age': 24}"
      ]
     },
     "execution_count": 112,
     "metadata": {},
     "output_type": "execute_result"
    }
   ],
   "source": [
    "d"
   ]
  },
  {
   "cell_type": "code",
   "execution_count": 113,
   "metadata": {},
   "outputs": [
    {
     "data": {
      "text/plain": [
       "dict"
      ]
     },
     "execution_count": 113,
     "metadata": {},
     "output_type": "execute_result"
    }
   ],
   "source": [
    "type(d)"
   ]
  },
  {
   "cell_type": "code",
   "execution_count": 114,
   "metadata": {},
   "outputs": [],
   "source": [
    "x=pickle.dumps(d)"
   ]
  },
  {
   "cell_type": "code",
   "execution_count": 115,
   "metadata": {},
   "outputs": [
    {
     "data": {
      "text/plain": [
       "bytes"
      ]
     },
     "execution_count": 115,
     "metadata": {},
     "output_type": "execute_result"
    }
   ],
   "source": [
    "type(x)"
   ]
  },
  {
   "cell_type": "code",
   "execution_count": 116,
   "metadata": {},
   "outputs": [
    {
     "data": {
      "text/plain": [
       "b'\\x80\\x03}q\\x00(X\\x04\\x00\\x00\\x00Nameq\\x01X\\x06\\x00\\x00\\x00Sachinq\\x02X\\x06\\x00\\x00\\x00Courseq\\x03X\\x02\\x00\\x00\\x00DSq\\x04X\\x03\\x00\\x00\\x00Ageq\\x05K\\x18u.'"
      ]
     },
     "execution_count": 116,
     "metadata": {},
     "output_type": "execute_result"
    }
   ],
   "source": [
    "x"
   ]
  },
  {
   "cell_type": "code",
   "execution_count": 117,
   "metadata": {},
   "outputs": [],
   "source": [
    "y=pickle.loads(x)"
   ]
  },
  {
   "cell_type": "code",
   "execution_count": 118,
   "metadata": {},
   "outputs": [
    {
     "data": {
      "text/plain": [
       "{'Name': 'Sachin', 'Course': 'DS', 'Age': 24}"
      ]
     },
     "execution_count": 118,
     "metadata": {},
     "output_type": "execute_result"
    }
   ],
   "source": [
    "y"
   ]
  },
  {
   "cell_type": "code",
   "execution_count": 119,
   "metadata": {},
   "outputs": [
    {
     "data": {
      "text/plain": [
       "dict"
      ]
     },
     "execution_count": 119,
     "metadata": {},
     "output_type": "execute_result"
    }
   ],
   "source": [
    "type(y)"
   ]
  },
  {
   "cell_type": "code",
   "execution_count": 120,
   "metadata": {},
   "outputs": [],
   "source": [
    "f=open('firstpickle.txt','wb')\n",
    "\n",
    "pickle.dump(d,f)\n",
    "\n",
    "f.close()"
   ]
  },
  {
   "cell_type": "code",
   "execution_count": 121,
   "metadata": {},
   "outputs": [
    {
     "name": "stdout",
     "output_type": "stream",
     "text": [
      "€\u0003}q\u0000(X\u0004\u0000\u0000\u0000Nameq\u0001X\u0006\u0000\u0000\u0000Sachinq\u0002X\u0006\u0000\u0000\u0000Courseq\u0003X\u0002\u0000\u0000\u0000DSq\u0004X\u0003\u0000\u0000\u0000Ageq\u0005K\u0018u.\n"
     ]
    }
   ],
   "source": [
    "!type firstpickle.txt"
   ]
  },
  {
   "cell_type": "code",
   "execution_count": 122,
   "metadata": {},
   "outputs": [],
   "source": [
    "f=open('firstpickle.txt','rb')\n",
    "\n",
    "data=pickle.load(f)"
   ]
  },
  {
   "cell_type": "code",
   "execution_count": 123,
   "metadata": {},
   "outputs": [
    {
     "name": "stdout",
     "output_type": "stream",
     "text": [
      "{'Name': 'Sachin', 'Course': 'DS', 'Age': 24}\n"
     ]
    }
   ],
   "source": [
    "print(data)"
   ]
  },
  {
   "cell_type": "code",
   "execution_count": 124,
   "metadata": {},
   "outputs": [
    {
     "data": {
      "text/plain": [
       "dict"
      ]
     },
     "execution_count": 124,
     "metadata": {},
     "output_type": "execute_result"
    }
   ],
   "source": [
    "type(data)"
   ]
  },
  {
   "cell_type": "code",
   "execution_count": null,
   "metadata": {},
   "outputs": [],
   "source": []
  }
 ],
 "metadata": {
  "kernelspec": {
   "display_name": "Python 3",
   "language": "python",
   "name": "python3"
  },
  "language_info": {
   "codemirror_mode": {
    "name": "ipython",
    "version": 3
   },
   "file_extension": ".py",
   "mimetype": "text/x-python",
   "name": "python",
   "nbconvert_exporter": "python",
   "pygments_lexer": "ipython3",
   "version": "3.6.2"
  }
 },
 "nbformat": 4,
 "nbformat_minor": 2
}
