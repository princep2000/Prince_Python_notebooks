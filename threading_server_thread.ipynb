{
 "cells": [
  {
   "cell_type": "code",
   "execution_count": 5,
   "metadata": {},
   "outputs": [
    {
     "name": "stdout",
     "output_type": "stream",
     "text": [
      "server is running at 192.168.43.182:12345\n",
      "server--->gii\n",
      "client--->GET / HTTP/1.1\n",
      "Host: 192.168.43.182:12345\n",
      "Connection: keep-alive\n",
      "DNT: 1\n",
      "Upgrade-Insecure-Requests: 1\n",
      "User-Agent: Mozilla/5.0 (Windows NT 10.0; Win64; x64) AppleWebKit/537.36 (KHTML, like Gecko) Chrome/84.0.4147.89 Safari/537.36\n",
      "Accept: text/html,application/xhtml+xml,application/xml;q=0.9,image/webp,image/apng,*/*;q=0.8,application/signed-exchange;v=b3;q=0.9\n",
      "Accept-Encoding: gzip, deflate\n",
      "Accept-Language: en-GB,en-US;q=0.9,en;q=0.8,hi;q=0.7\n",
      "\n",
      "\n",
      "server--->hii\n"
     ]
    },
    {
     "ename": "ConnectionAbortedError",
     "evalue": "[WinError 10053] An established connection was aborted by the software in your host machine",
     "output_type": "error",
     "traceback": [
      "\u001b[1;31m---------------------------------------------------------------------------\u001b[0m",
      "\u001b[1;31mConnectionAbortedError\u001b[0m                    Traceback (most recent call last)",
      "\u001b[1;32m<ipython-input-5-ce2320d70bc7>\u001b[0m in \u001b[0;36m<module>\u001b[1;34m\u001b[0m\n\u001b[0;32m     16\u001b[0m     \u001b[1;32mif\u001b[0m \u001b[0mmsg\u001b[0m\u001b[1;33m.\u001b[0m\u001b[0mlower\u001b[0m\u001b[1;33m(\u001b[0m\u001b[1;33m)\u001b[0m\u001b[1;33m==\u001b[0m\u001b[1;34m'bye'\u001b[0m\u001b[1;33m:\u001b[0m\u001b[1;33m\u001b[0m\u001b[0m\n\u001b[0;32m     17\u001b[0m         \u001b[1;32mbreak\u001b[0m\u001b[1;33m\u001b[0m\u001b[0m\n\u001b[1;32m---> 18\u001b[1;33m     \u001b[0mdata\u001b[0m\u001b[1;33m=\u001b[0m\u001b[0mclient\u001b[0m\u001b[1;33m.\u001b[0m\u001b[0mrecv\u001b[0m\u001b[1;33m(\u001b[0m\u001b[1;36m1024\u001b[0m\u001b[1;33m)\u001b[0m\u001b[1;33m.\u001b[0m\u001b[0mdecode\u001b[0m\u001b[1;33m(\u001b[0m\u001b[1;33m)\u001b[0m\u001b[1;33m\u001b[0m\u001b[0m\n\u001b[0m\u001b[0;32m     19\u001b[0m \u001b[1;33m\u001b[0m\u001b[0m\n\u001b[0;32m     20\u001b[0m     \u001b[0mprint\u001b[0m\u001b[1;33m(\u001b[0m\u001b[1;34mf\"client--->{data}\"\u001b[0m\u001b[1;33m)\u001b[0m\u001b[1;33m\u001b[0m\u001b[0m\n",
      "\u001b[1;31mConnectionAbortedError\u001b[0m: [WinError 10053] An established connection was aborted by the software in your host machine"
     ]
    }
   ],
   "source": [
    "import socket\n",
    "\n",
    "server=socket.socket()\n",
    "ip='192.168.43.182'\n",
    "port=12345\n",
    "\n",
    "server.bind((ip,port))\n",
    "print(f\"server is running at {ip}:{port}\")\n",
    "\n",
    "server.listen()\n",
    "\n",
    "client,addr=server.accept()\n",
    "while True:\n",
    "    msg=input('server--->')\n",
    "    client.send(msg.encode())\n",
    "    if msg.lower()=='bye':\n",
    "        break\n",
    "    data=client.recv(1024).decode()\n",
    "\n",
    "    print(f\"client--->{data}\")\n",
    "    \n",
    "client.close()\n",
    "server.close()"
   ]
  },
  {
   "cell_type": "code",
   "execution_count": 6,
   "metadata": {},
   "outputs": [
    {
     "name": "stdout",
     "output_type": "stream",
     "text": [
      "client--->hii\n",
      "server--->hello\n",
      "server--->how are you\n",
      "server--->hgc\n",
      "server--->yg\n",
      "client--->bye\n",
      "server--->jd\n",
      "server--->bye\n"
     ]
    }
   ],
   "source": [
    "import socket\n",
    "import threading\n",
    "def send(client):\n",
    "    while True:\n",
    "        msg=input('server--->')\n",
    "        client.send(msg.encode())\n",
    "        if msg.lower()=='bye':\n",
    "            break\n",
    "        \n",
    "def recv(client):\n",
    "    while True:\n",
    "        data=client.recv(1024).decode()\n",
    "        print(f\"client--->{data}\")\n",
    "        if data=='bye':\n",
    "            break\n",
    "            \n",
    "server=socket.socket()\n",
    "ip='192.168.43.182'\n",
    "port=12345\n",
    "\n",
    "server.bind((ip,port))\n",
    "#print(f\"server is running at {ip}:{port}\")\n",
    "\n",
    "server.listen()\n",
    "\n",
    "client,addr=server.accept()\n",
    "\n",
    "send_thread=threading.Thread(target=send,args=(client,))\n",
    "recv_thread=threading.Thread(target=recv,args=(client,))\n",
    "\n",
    "send_thread.start()\n",
    "recv_thread.start()\n",
    "\n",
    "send_thread.join()\n",
    "recv_thread.join()\n",
    "\n",
    "\n",
    "client.close()\n",
    "server.close()"
   ]
  },
  {
   "cell_type": "code",
   "execution_count": 5,
   "metadata": {},
   "outputs": [
    {
     "name": "stdout",
     "output_type": "stream",
     "text": [
      "File Sent Successfully\n"
     ]
    }
   ],
   "source": [
    "import socket\n",
    "\n",
    "server=socket.socket()\n",
    "ip='192.168.43.202'\n",
    "port=12345\n",
    "\n",
    "server.bind((ip,port))\n",
    "#print(f\"server is running at {ip}:{port}\")\n",
    "\n",
    "server.listen()\n",
    "\n",
    "client,addr=server.accept()\n",
    "f=open('../../hello.txt')\n",
    "data=f.read(1024)\n",
    "while data:\n",
    "    client.send(data.encode())\n",
    "    data=f.read(1024)\n",
    "\n",
    "print('File Sent Successfully')\n",
    "client.close()\n",
    "server.close()"
   ]
  },
  {
   "cell_type": "code",
   "execution_count": 6,
   "metadata": {},
   "outputs": [
    {
     "name": "stdout",
     "output_type": "stream",
     "text": [
      "File Sent Successfully\n"
     ]
    }
   ],
   "source": [
    "import socket\n",
    "\n",
    "server=socket.socket()\n",
    "ip='192.168.43.202'\n",
    "port=12345\n",
    "\n",
    "server.bind((ip,port))\n",
    "#print(f\"server is running at {ip}:{port}\")\n",
    "\n",
    "server.listen()\n",
    "\n",
    "client,addr=server.accept()\n",
    "f=open('../../bb49a210b14deb1e0ffac39d79a5ed95.jpg','rb')\n",
    "data=f.read(1024)\n",
    "while data:\n",
    "    client.send(data)\n",
    "    data=f.read(1024)\n",
    "\n",
    "print('File Sent Successfully')\n",
    "client.close()\n",
    "server.close()"
   ]
  },
  {
   "cell_type": "code",
   "execution_count": null,
   "metadata": {},
   "outputs": [],
   "source": []
  }
 ],
 "metadata": {
  "kernelspec": {
   "display_name": "Python 3",
   "language": "python",
   "name": "python3"
  },
  "language_info": {
   "codemirror_mode": {
    "name": "ipython",
    "version": 3
   },
   "file_extension": ".py",
   "mimetype": "text/x-python",
   "name": "python",
   "nbconvert_exporter": "python",
   "pygments_lexer": "ipython3",
   "version": "3.6.2"
  }
 },
 "nbformat": 4,
 "nbformat_minor": 2
}
