{
 "cells": [
  {
   "cell_type": "code",
   "execution_count": 3,
   "metadata": {},
   "outputs": [],
   "source": [
    "s=\"To prevent the spread of COVID-19:Clean your hands often. Use soap and water, or an alcohol-based hand rub.Maintain a safe distance from anyone who is coughing or sneezing.Don’t touch your eyes, nose or mouth.Cover your nose and mouth with your bent elbow or a tissue when you cough or sneeze.Stay home if you feel unwell.If you have a fever, cough and difficulty breathing, seek medical attention. Call in advance.Follow the directions of your local health authority.\""
   ]
  },
  {
   "cell_type": "code",
   "execution_count": 4,
   "metadata": {},
   "outputs": [
    {
     "data": {
      "text/plain": [
       "'To prevent the spread of COVID-19:Clean your hands often. Use soap and water, or an alcohol-based hand rub.Maintain a safe distance from anyone who is coughing or sneezing.Don’t touch your eyes, nose or mouth.Cover your nose and mouth with your bent elbow or a tissue when you cough or sneeze.Stay home if you feel unwell.If you have a fever, cough and difficulty breathing, seek medical attention. Call in advance.Follow the directions of your local health authority.'"
      ]
     },
     "execution_count": 4,
     "metadata": {},
     "output_type": "execute_result"
    }
   ],
   "source": [
    "s"
   ]
  },
  {
   "cell_type": "code",
   "execution_count": 6,
   "metadata": {},
   "outputs": [
    {
     "data": {
      "text/plain": [
       "'To prevent the spread of COVID'"
      ]
     },
     "execution_count": 6,
     "metadata": {},
     "output_type": "execute_result"
    }
   ],
   "source": [
    "s[0:30]"
   ]
  },
  {
   "cell_type": "code",
   "execution_count": 8,
   "metadata": {},
   "outputs": [
    {
     "name": "stdout",
     "output_type": "stream",
     "text": [
      "To prevent the spread of COVID-19:Clean your hands often. Use soap and water, or an alcohol-based hand rub.Maintain a safe distance from anyone who is coughing or sneezing.Don’t touch your eyes, nose or mouth.Cover your nose and mouth with your bent elbow or a tissue when you cough or sneeze.Stay home if you feel unwell.If you have a fever, cough and difficulty breathing, seek medical attention. Call in advance.Follow the directions of your local health authority.\n"
     ]
    }
   ],
   "source": [
    "print(s.lstrip('COVID-19'))"
   ]
  },
  {
   "cell_type": "code",
   "execution_count": 9,
   "metadata": {},
   "outputs": [
    {
     "data": {
      "text/plain": [
       "'.ytirohtua htlaeh lacol ruoy fo snoitcerid eht wolloF.ecnavda ni llaC .noitnetta lacidem kees ,gnihtaerb ytluciffid dna hguoc ,revef a evah uoy fI.llewnu leef uoy fi emoh yatS.ezeens ro hguoc uoy nehw eussit a ro woble tneb ruoy htiw htuom dna eson ruoy revoC.htuom ro eson ,seye ruoy hcuot t’noD.gnizeens ro gnihguoc si ohw enoyna morf ecnatsid efas a niatniaM.bur dnah desab-lohocla na ro ,retaw dna paos esU .netfo sdnah ruoy naelC:91-DIVOC fo daerps eht tneverp oT'"
      ]
     },
     "execution_count": 9,
     "metadata": {},
     "output_type": "execute_result"
    }
   ],
   "source": [
    "s[::-1]"
   ]
  },
  {
   "cell_type": "code",
   "execution_count": 10,
   "metadata": {},
   "outputs": [
    {
     "data": {
      "text/plain": [
       "'-9Cenyu ad fe.Uesa n ae,o nachlbsdhn u.ananasf itnefo noewoi ogigo neigDnttuhyu ys oeo ot.oe orns n ot ihyu etebwo  isewe o og rsez.tyhm fyufe nelI o aeafvr og n ifclybetig ekmdclatnin ali dac.olwtedrcin fyu oa elhatoiy'"
      ]
     },
     "execution_count": 10,
     "metadata": {},
     "output_type": "execute_result"
    }
   ],
   "source": [
    "s[30::2]"
   ]
  },
  {
   "cell_type": "code",
   "execution_count": 14,
   "metadata": {},
   "outputs": [
    {
     "name": "stdout",
     "output_type": "stream",
     "text": [
      "y\n",
      "t\n",
      "h\n",
      "o\n",
      "n\n"
     ]
    },
    {
     "ename": "IndexError",
     "evalue": "string index out of range",
     "output_type": "error",
     "traceback": [
      "\u001b[1;31m---------------------------------------------------------------------------\u001b[0m",
      "\u001b[1;31mIndexError\u001b[0m                                Traceback (most recent call last)",
      "\u001b[1;32m<ipython-input-14-b0d8aac837a4>\u001b[0m in \u001b[0;36m<module>\u001b[1;34m\u001b[0m\n\u001b[0;32m      1\u001b[0m \u001b[1;32mfor\u001b[0m \u001b[0mi\u001b[0m \u001b[1;32min\u001b[0m \u001b[0mrange\u001b[0m\u001b[1;33m(\u001b[0m\u001b[0mlen\u001b[0m\u001b[1;33m(\u001b[0m\u001b[1;34m'python'\u001b[0m\u001b[1;33m)\u001b[0m\u001b[1;33m)\u001b[0m\u001b[1;33m:\u001b[0m\u001b[1;33m\u001b[0m\u001b[0m\n\u001b[1;32m----> 2\u001b[1;33m     \u001b[0mprint\u001b[0m\u001b[1;33m(\u001b[0m\u001b[1;34mf\"{'python'[i+1]}\"\u001b[0m\u001b[1;33m)\u001b[0m\u001b[1;33m\u001b[0m\u001b[0m\n\u001b[0m",
      "\u001b[1;31mIndexError\u001b[0m: string index out of range"
     ]
    }
   ],
   "source": [
    "for i in range(len('python')):\n",
    "    print(f\"{'python'[i+1]}\")"
   ]
  },
  {
   "cell_type": "code",
   "execution_count": 1,
   "metadata": {},
   "outputs": [],
   "source": [
    "l=[['Maharashtra', '347502', '194253', '12854', '140093'],\n",
    " ['Tamil Nadu', '199749', '143297', '3320', '53132'],\n",
    " ['Delhi', '127364', '109065', '3745', '14554'],\n",
    " ['Karnataka', '85870', '31347', '1616', '52898'],\n",
    " ['Andhra Pradesh', '80858', '39935', '933', '39990'],\n",
    " ['Uttar Pradesh', '58104', '35803', '1298', '21003'],\n",
    " ['Gujarat', '52563', '38059', '2256', '12248'],\n",
    " ['West Bengal', '51757', '31656', '1255', '18846'],\n",
    " ['Telangana', '50826', '39327', '447', '11052'],\n",
    " ['Rajasthan', '33595', '23872', '598', '9125'],\n",
    " ['Bihar', '33511', '22832', '221', '10457'],\n",
    " ['Haryana', '28975', '22249', '378', '6348'],\n",
    " ['Assam', '28792', '20700', '70', '8019'],\n",
    " ['Madhya Pradesh', '25474', '17359', '780', '7335'],\n",
    " ['Odisha', '22693', '14393', '153', '8147'],\n",
    " ['Jammu and Kashmir', '16782', '9217', '296', '7269'],\n",
    " ['Kerala', '16111', '6594', '51', '9458'],\n",
    " ['Punjab', '11739', '7741', '277', '3721'],\n",
    " ['Jharkhand', '7250', '3254', '69', '3927'],\n",
    " ['Chhattisgarh', '6370', '4387', '34', '1949'],\n",
    " ['Uttarakhand', '5445', '3399', '60', '1948'],\n",
    " ['Goa', '4350', '2655', '29', '1666'],\n",
    " ['Tripura', '3677', '2072', '10', '1577'],\n",
    " ['Puducherry', '2515', '1483', '35', '997'],\n",
    " ['Manipur', '2115', '1460', '0', '655'],\n",
    " ['Himachal Pradesh', '1848', '1141', '12', '680'],\n",
    " ['Ladakh', '1210', '1025', '2', '183'],\n",
    " ['Nagaland', '1239', '537', '0', '702'],\n",
    " ['Arunachal Pradesh', '991', '334', '3', '654'],\n",
    " ['Chandigarh', '823', '535', '13', '275'],\n",
    " ['Dadra and Nagar Haveli and Daman and Diu', '850', '516', '2', '322'],\n",
    " ['Meghalaya', '558', '87', '4', '467'],\n",
    " ['Sikkim', '473', '122', '0', '338'],\n",
    " ['Mizoram', '332', '183', '0', '149'],\n",
    " ['Andaman and Nicobar Islands', '240', '170', '0', '69']]"
   ]
  },
  {
   "cell_type": "code",
   "execution_count": 2,
   "metadata": {},
   "outputs": [
    {
     "data": {
      "text/plain": [
       "[['Maharashtra', '347502', '194253', '12854', '140093'],\n",
       " ['Tamil Nadu', '199749', '143297', '3320', '53132'],\n",
       " ['Delhi', '127364', '109065', '3745', '14554'],\n",
       " ['Karnataka', '85870', '31347', '1616', '52898'],\n",
       " ['Andhra Pradesh', '80858', '39935', '933', '39990'],\n",
       " ['Uttar Pradesh', '58104', '35803', '1298', '21003'],\n",
       " ['Gujarat', '52563', '38059', '2256', '12248'],\n",
       " ['West Bengal', '51757', '31656', '1255', '18846'],\n",
       " ['Telangana', '50826', '39327', '447', '11052'],\n",
       " ['Rajasthan', '33595', '23872', '598', '9125'],\n",
       " ['Bihar', '33511', '22832', '221', '10457'],\n",
       " ['Haryana', '28975', '22249', '378', '6348'],\n",
       " ['Assam', '28792', '20700', '70', '8019'],\n",
       " ['Madhya Pradesh', '25474', '17359', '780', '7335'],\n",
       " ['Odisha', '22693', '14393', '153', '8147'],\n",
       " ['Jammu and Kashmir', '16782', '9217', '296', '7269'],\n",
       " ['Kerala', '16111', '6594', '51', '9458'],\n",
       " ['Punjab', '11739', '7741', '277', '3721'],\n",
       " ['Jharkhand', '7250', '3254', '69', '3927'],\n",
       " ['Chhattisgarh', '6370', '4387', '34', '1949'],\n",
       " ['Uttarakhand', '5445', '3399', '60', '1948'],\n",
       " ['Goa', '4350', '2655', '29', '1666'],\n",
       " ['Tripura', '3677', '2072', '10', '1577'],\n",
       " ['Puducherry', '2515', '1483', '35', '997'],\n",
       " ['Manipur', '2115', '1460', '0', '655'],\n",
       " ['Himachal Pradesh', '1848', '1141', '12', '680'],\n",
       " ['Ladakh', '1210', '1025', '2', '183'],\n",
       " ['Nagaland', '1239', '537', '0', '702'],\n",
       " ['Arunachal Pradesh', '991', '334', '3', '654'],\n",
       " ['Chandigarh', '823', '535', '13', '275'],\n",
       " ['Dadra and Nagar Haveli and Daman and Diu', '850', '516', '2', '322'],\n",
       " ['Meghalaya', '558', '87', '4', '467'],\n",
       " ['Sikkim', '473', '122', '0', '338'],\n",
       " ['Mizoram', '332', '183', '0', '149'],\n",
       " ['Andaman and Nicobar Islands', '240', '170', '0', '69']]"
      ]
     },
     "execution_count": 2,
     "metadata": {},
     "output_type": "execute_result"
    }
   ],
   "source": [
    "l"
   ]
  },
  {
   "cell_type": "code",
   "execution_count": 5,
   "metadata": {},
   "outputs": [],
   "source": [
    "import pymysql as sql\n",
    "db=sql.connect(host='localhost',port=3306,user='root',password='',database='corona_update')\n",
    "cur=db.cursor()\n",
    "cur.execute('create table data(State varchar(25),Confirmed int(7),Recovered int(7),Deaths int(7),Active int(7))')\n",
    "db.commit()\n",
    "for i in l:\n",
    "    cmd=f\"insert into data values('{i[0]}',{int(i[1])},{int(i[2])},{int(i[3])},{int(i[4])})\"\n",
    "    cur.execute(cmd)\n",
    "    db.commit()"
   ]
  },
  {
   "cell_type": "code",
   "execution_count": 6,
   "metadata": {},
   "outputs": [],
   "source": [
    "from tkinter import *\n",
    "import pymysql as sql\n",
    "db=sql.connect(host='localhost',port=3306,user='root',password='',database='corona_update')\n",
    "cur=db.cursor()\n",
    "root = Tk()\n",
    "\n",
    "def confirm():\n",
    "    gui = Tk()\n",
    "    gui.config(bg='gray')\n",
    "    cmd='select State,Confirmed from data'\n",
    "    cur.execute(cmd)\n",
    "    data=cur.fetchall()\n",
    "    lb=Listbox(gui,bg='gray',height=100,width=50,font=5)\n",
    "    for i in range(len(data)):\n",
    "        lb.insert(i,f\"{data[i][0]}:{data[i][1] :>10}\")\n",
    "    lb.pack()\n",
    "    gui.geometry('500x600')\n",
    "    gui.mainloop()\n",
    "    \n",
    "    \n",
    "def recover():\n",
    "    gui = Tk()\n",
    "    gui.config(bg='gray')\n",
    "    cmd='select State,recovered from data'\n",
    "    cur.execute(cmd)\n",
    "    data=cur.fetchall()\n",
    "    lb=Listbox(gui,bg='gray',height=100,width=50,font=5)\n",
    "    for i in range(len(data)):\n",
    "        lb.insert(i,f\"{data[i][0]}:{data[i][1] :>10}\")\n",
    "    lb.pack()\n",
    "    gui.geometry('500x600')\n",
    "    gui.mainloop()\n",
    "        \n",
    "def death():\n",
    "    gui = Tk()\n",
    "    gui.config(bg='gray')\n",
    "    cmd='select State,deaths from data'\n",
    "    cur.execute(cmd)\n",
    "    data=cur.fetchall()\n",
    "    lb=Listbox(gui,bg='gray',height=100,width=50,font=5)\n",
    "    for i in range(len(data)):\n",
    "        lb.insert(i,f\"{data[i][0]}:{data[i][1] :>10}\")\n",
    "    lb.pack()\n",
    "    gui.geometry('500x600')\n",
    "    gui.mainloop()\n",
    "    \n",
    "def active():\n",
    "    gui = Tk()\n",
    "    gui.config(bg='gray')\n",
    "    cmd='select State,active from data'\n",
    "    cur.execute(cmd)\n",
    "    data=cur.fetchall()\n",
    "    lb=Listbox(gui,bg='gray',height=100,width=50,font=5)\n",
    "    for i in range(len(data)):\n",
    "        lb.insert(i,f\"{data[i][0]}:{data[i][1] :>10}\")\n",
    "    lb.pack()\n",
    "    gui.geometry('500x600')\n",
    "    gui.mainloop()\n",
    "        \n",
    "\n",
    "bt1=Button(root,height=3,width=30,bg='blue',fg='white',text='State Wise Confirmed',command=confirm)\n",
    "bt1.pack(pady=20)\n",
    "bt2=Button(root,height=3,width=30,bg='blue',fg='white',text='State Wise Recovered',command=recover)\n",
    "bt2.pack(pady=20)\n",
    "bt3=Button(root,height=3,width=30,bg='blue',fg='white',text='State Wise Deaths',command=death)\n",
    "bt3.pack(pady=20)\n",
    "bt4=Button(root,height=3,width=30,bg='blue',fg='white',text='State Wise Active',command=active)\n",
    "bt4.pack(pady=20)\n",
    "\n",
    "root.geometry('400x400')\n",
    "root.mainloop()"
   ]
  },
  {
   "cell_type": "code",
   "execution_count": 25,
   "metadata": {},
   "outputs": [],
   "source": [
    "root=Tk()\n",
    "w=Text(root,height=43,width=159)\n",
    "w.grid()\n",
    "\n",
    "root.mainloop()"
   ]
  },
  {
   "cell_type": "code",
   "execution_count": null,
   "metadata": {},
   "outputs": [],
   "source": []
  }
 ],
 "metadata": {
  "kernelspec": {
   "display_name": "Python 3",
   "language": "python",
   "name": "python3"
  },
  "language_info": {
   "codemirror_mode": {
    "name": "ipython",
    "version": 3
   },
   "file_extension": ".py",
   "mimetype": "text/x-python",
   "name": "python",
   "nbconvert_exporter": "python",
   "pygments_lexer": "ipython3",
   "version": "3.6.2"
  }
 },
 "nbformat": 4,
 "nbformat_minor": 4
}
