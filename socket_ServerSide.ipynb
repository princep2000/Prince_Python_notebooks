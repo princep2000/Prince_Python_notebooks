{
 "cells": [
  {
   "cell_type": "markdown",
   "metadata": {},
   "source": [
    "        Socket Programing: It is a way of connecting two nodes on a network to communicate with each other.\n",
    "        \n",
    "        One Socket(Node) listens on a port at IP and other sockets reaches out to the other to form a connection."
   ]
  },
  {
   "cell_type": "markdown",
   "metadata": {},
   "source": [
    "        IP : Internet Protocol: --->\n",
    "        \n",
    "        127.0.0.1 ----> Localhost(looponly)\n",
    "        \n",
    "        "
   ]
  },
  {
   "cell_type": "code",
   "execution_count": 1,
   "metadata": {},
   "outputs": [
    {
     "name": "stdout",
     "output_type": "stream",
     "text": [
      "\n",
      "Windows IP Configuration\n",
      "\n",
      "\n",
      "Unknown adapter Local Area Connection:\n",
      "\n",
      "   Media State . . . . . . . . . . . : Media disconnected\n",
      "   Connection-specific DNS Suffix  . : \n",
      "\n",
      "Unknown adapter WSSVPNTap0901:\n",
      "\n",
      "   Media State . . . . . . . . . . . : Media disconnected\n",
      "   Connection-specific DNS Suffix  . : \n",
      "\n",
      "Wireless LAN adapter Local Area Connection* 1:\n",
      "\n",
      "   Media State . . . . . . . . . . . : Media disconnected\n",
      "   Connection-specific DNS Suffix  . : \n",
      "\n",
      "Wireless LAN adapter Local Area Connection* 2:\n",
      "\n",
      "   Media State . . . . . . . . . . . : Media disconnected\n",
      "   Connection-specific DNS Suffix  . : \n",
      "\n",
      "Wireless LAN adapter Wi-Fi:\n",
      "\n",
      "   Connection-specific DNS Suffix  . : \n",
      "   Link-local IPv6 Address . . . . . : fe80::510c:601d:50b9:1760%15\n",
      "   IPv4 Address. . . . . . . . . . . : 192.168.43.182\n",
      "   Subnet Mask . . . . . . . . . . . : 255.255.255.0\n",
      "   Default Gateway . . . . . . . . . : 192.168.43.1\n",
      "\n",
      "Ethernet adapter Bluetooth Network Connection:\n",
      "\n",
      "   Media State . . . . . . . . . . . : Media disconnected\n",
      "   Connection-specific DNS Suffix  . : \n"
     ]
    }
   ],
   "source": [
    "!ipconfig"
   ]
  },
  {
   "cell_type": "markdown",
   "metadata": {},
   "source": [
    "                Response From Server: \n",
    "                HTTP                   1. 1xx----> Informational\n",
    "                \n",
    "                                       2. 2xx----> Success\n",
    "                                       \n",
    "                                       3. 3xx----> Redirection\n",
    "                                       \n",
    "                                       4. 4xx----> Client Side Error\n",
    "                                       \n",
    "                                       5. 5xx----> Server Side Error"
   ]
  },
  {
   "cell_type": "markdown",
   "metadata": {},
   "source": [
    "    Private Network : 192.168.43.202 -----> Use those system which have same network, 127.0.0.1--->localhost---->Only one system communication.\n",
    "\n",
    "    Public Network  : facebook.com--->Publically Accessible"
   ]
  },
  {
   "cell_type": "code",
   "execution_count": 2,
   "metadata": {},
   "outputs": [],
   "source": [
    "#192.168.43.202--->Database Application,Web Application,Other Services"
   ]
  },
  {
   "cell_type": "markdown",
   "metadata": {},
   "source": [
    "            Domain Name   <------> IP"
   ]
  },
  {
   "cell_type": "markdown",
   "metadata": {},
   "source": [
    "    flipkart.com\n",
    "    amazon.in\n",
    "    grras.com\n",
    "    google.com\n",
    "    facebook.com"
   ]
  },
  {
   "cell_type": "code",
   "execution_count": 3,
   "metadata": {},
   "outputs": [],
   "source": [
    "import socket"
   ]
  },
  {
   "cell_type": "code",
   "execution_count": 5,
   "metadata": {},
   "outputs": [],
   "source": [
    "l=['flipkart.com',\n",
    "'amazon.in',\n",
    "'grras.com',\n",
    "'google.com',\n",
    "'facebook.com']"
   ]
  },
  {
   "cell_type": "code",
   "execution_count": 8,
   "metadata": {},
   "outputs": [
    {
     "name": "stdout",
     "output_type": "stream",
     "text": [
      "flipkart.com--->163.53.78.128\n",
      "amazon.in--->52.95.116.115\n",
      "grras.com--->174.138.120.168\n",
      "google.com--->172.217.161.14\n",
      "facebook.com--->157.240.198.35\n"
     ]
    }
   ],
   "source": [
    "for i in l:\n",
    "    print(f\"{i}--->{socket.gethostbyname(i)}\")\n",
    "    "
   ]
  },
  {
   "cell_type": "code",
   "execution_count": 10,
   "metadata": {},
   "outputs": [
    {
     "data": {
      "text/plain": [
       "('LAPTOP-DBL7UJT6', [], ['192.168.43.202'])"
      ]
     },
     "execution_count": 10,
     "metadata": {},
     "output_type": "execute_result"
    }
   ],
   "source": [
    "socket.gethostbyaddr('192.168.43.202')"
   ]
  },
  {
   "cell_type": "code",
   "execution_count": 1,
   "metadata": {},
   "outputs": [],
   "source": [
    "import socket"
   ]
  },
  {
   "cell_type": "code",
   "execution_count": 2,
   "metadata": {},
   "outputs": [],
   "source": [
    "resp=\"\"\"HTTP/1.1 200 OK\n",
    "Content-Type:text/html\n",
    "\n",
    "<!Doctype html>\n",
    "<html>\n",
    "<body style='background-color:lightblue'>\n",
    "<h1 style='color:blue;font-size:20px;margin-top:300px;margin-left:100px'>All Ok</h1>\n",
    "<h1 style='color:green;font-size:20px;margin-top:0px;margin-left:100px>This is server side Response</h1>\n",
    "</body>\n",
    "</html>\"\"\""
   ]
  },
  {
   "cell_type": "code",
   "execution_count": null,
   "metadata": {},
   "outputs": [],
   "source": [
    "import socket\n",
    "from psutil import cpu_percent\n",
    "server = socket.socket()\n",
    "\n",
    "ip='127.0.0.1'\n",
    "port=1234\n",
    "\n",
    "server.bind((ip,port))#Now Server is Running at IP and PORT\n",
    "\n",
    "server.listen()\n",
    "\n",
    "while True:\n",
    "\n",
    "    client,addr=server.accept()\n",
    "    data=client.recv(1024).decode()\n",
    "    print(data)\n",
    "    cpu=cpu_percent()\n",
    "    resp=\"\"\"HTTP/1.1 200 OK\n",
    "    Content-Type:text/html\n",
    "\n",
    "    <!Doctype html>\n",
    "    <html>\n",
    "    <body style='background-color:lightblue'>\n",
    "    <h1 style='color:blue;font-size:20px;margin-top:300px;margin-left:300px'>All Ok</h1>\n",
    "    <h1 style='color:darkgreen;font-size:20px;margin-top:10px;margin-left:300px'>This is server side Response</h1>\n",
    "    </body>\n",
    "    </html>\"\"\"\n",
    "    \n",
    "    client.send(resp.encode())\n",
    "    client.close()\n",
    "    \n",
    "server.close()"
   ]
  },
  {
   "cell_type": "code",
   "execution_count": 10,
   "metadata": {},
   "outputs": [
    {
     "name": "stdout",
     "output_type": "stream",
     "text": [
      "server is running at 127.0.0.1:12345\n",
      "Got a Request from <socket.socket fd=1500, family=AddressFamily.AF_INET, type=SocketKind.SOCK_STREAM, proto=0, laddr=('127.0.0.1', 12345), raddr=('127.0.0.1', 52083)>\n"
     ]
    },
    {
     "data": {
      "text/plain": [
       "11"
      ]
     },
     "execution_count": 10,
     "metadata": {},
     "output_type": "execute_result"
    }
   ],
   "source": [
    "import socket\n",
    "server=socket.socket()\n",
    "\n",
    "ip='127.0.0.1'\n",
    "port=12345\n",
    "\n",
    "server.bind((ip,port))\n",
    "print(f\"server is running at {ip}:{port}\")\n",
    "server.listen()\n",
    "\n",
    "client,addr=server.accept()\n",
    "print(f'Got a Request from {client}')\n",
    "\n",
    "client.send('I am Prince'.encode())\n"
   ]
  },
  {
   "cell_type": "code",
   "execution_count": 6,
   "metadata": {},
   "outputs": [],
   "source": [
    "import psutil"
   ]
  },
  {
   "cell_type": "code",
   "execution_count": null,
   "metadata": {},
   "outputs": [],
   "source": []
  }
 ],
 "metadata": {
  "kernelspec": {
   "display_name": "Python 3",
   "language": "python",
   "name": "python3"
  },
  "language_info": {
   "codemirror_mode": {
    "name": "ipython",
    "version": 3
   },
   "file_extension": ".py",
   "mimetype": "text/x-python",
   "name": "python",
   "nbconvert_exporter": "python",
   "pygments_lexer": "ipython3",
   "version": "3.6.2"
  }
 },
 "nbformat": 4,
 "nbformat_minor": 2
}
