{
 "cells": [
  {
   "cell_type": "markdown",
   "metadata": {},
   "source": [
    "### Any Dout ?\n"
   ]
  },
  {
   "cell_type": "code",
   "execution_count": 4,
   "metadata": {},
   "outputs": [
    {
     "name": "stdout",
     "output_type": "stream",
     "text": [
      "abcdef\n",
      "abcde\n",
      "abcd\n",
      "abc\n",
      "ab\n",
      "a\n"
     ]
    }
   ],
   "source": [
    "x='abcdef'\n",
    "\n",
    "i='a'\n",
    "while i in x:\n",
    "    print(x)\n",
    "    x=x[:-1]"
   ]
  },
  {
   "cell_type": "code",
   "execution_count": 2,
   "metadata": {},
   "outputs": [
    {
     "name": "stdout",
     "output_type": "stream",
     "text": [
      "\n"
     ]
    }
   ],
   "source": [
    "print(x)"
   ]
  },
  {
   "cell_type": "code",
   "execution_count": 5,
   "metadata": {},
   "outputs": [
    {
     "name": "stdout",
     "output_type": "stream",
     "text": [
      "Samyak Jain 22\n",
      "Sachin Yadav 24\n",
      "Rajat Goyal 26\n"
     ]
    }
   ],
   "source": [
    "l=[input().split() for i in range(3)]"
   ]
  },
  {
   "cell_type": "code",
   "execution_count": 6,
   "metadata": {},
   "outputs": [
    {
     "data": {
      "text/plain": [
       "[['Samyak', 'Jain', '22'], ['Sachin', 'Yadav', '24'], ['Rajat', 'Goyal', '26']]"
      ]
     },
     "execution_count": 6,
     "metadata": {},
     "output_type": "execute_result"
    }
   ],
   "source": [
    "l"
   ]
  },
  {
   "cell_type": "code",
   "execution_count": 7,
   "metadata": {},
   "outputs": [
    {
     "name": "stdout",
     "output_type": "stream",
     "text": [
      "[['Samyak', 'Jain', '22'], ['Sachin', 'Yadav', '24'], ['Rajat', 'Goyal', '26']]\n"
     ]
    }
   ],
   "source": [
    "print(l)"
   ]
  },
  {
   "cell_type": "code",
   "execution_count": 8,
   "metadata": {},
   "outputs": [
    {
     "name": "stdout",
     "output_type": "stream",
     "text": [
      "['Samyak', 'Jain', '22'] ['Sachin', 'Yadav', '24'] ['Rajat', 'Goyal', '26']\n"
     ]
    }
   ],
   "source": [
    "print(*l)"
   ]
  },
  {
   "cell_type": "code",
   "execution_count": 9,
   "metadata": {},
   "outputs": [
    {
     "name": "stdout",
     "output_type": "stream",
     "text": [
      "['Samyak', 'Jain', '22']\n",
      "['Sachin', 'Yadav', '24']\n",
      "['Rajat', 'Goyal', '26']\n"
     ]
    }
   ],
   "source": [
    "for i in l:\n",
    "    print(i)"
   ]
  },
  {
   "cell_type": "code",
   "execution_count": 1,
   "metadata": {},
   "outputs": [],
   "source": [
    "import random\n",
    "l1=list()\n",
    "y=0\n",
    "while y<5:\n",
    "    l=list()\n",
    "    x=0\n",
    "    while x<5:\n",
    "        l.append(random.randint(1,99))\n",
    "        x+=1\n",
    "    l1.append(l)\n",
    "    y+=1"
   ]
  },
  {
   "cell_type": "code",
   "execution_count": 3,
   "metadata": {},
   "outputs": [
    {
     "data": {
      "text/plain": [
       "[[25, 40, 5, 91, 93],\n",
       " [75, 48, 24, 43, 61],\n",
       " [16, 67, 42, 84, 75],\n",
       " [8, 37, 86, 31, 96],\n",
       " [84, 69, 85, 15, 35]]"
      ]
     },
     "execution_count": 3,
     "metadata": {},
     "output_type": "execute_result"
    }
   ],
   "source": [
    "l1"
   ]
  },
  {
   "cell_type": "code",
   "execution_count": 4,
   "metadata": {},
   "outputs": [
    {
     "data": {
      "text/plain": [
       "[84, 69, 85, 15, 35]"
      ]
     },
     "execution_count": 4,
     "metadata": {},
     "output_type": "execute_result"
    }
   ],
   "source": [
    "l"
   ]
  },
  {
   "cell_type": "code",
   "execution_count": 5,
   "metadata": {},
   "outputs": [],
   "source": [
    "l=list()\n",
    "for i in range(5):\n",
    "    l1=list()\n",
    "    for j in range(5):\n",
    "        l1.append(random.randint(1,99))\n",
    "    l.append(l1)"
   ]
  },
  {
   "cell_type": "code",
   "execution_count": 6,
   "metadata": {},
   "outputs": [
    {
     "data": {
      "text/plain": [
       "[[3, 73, 59, 75, 20],\n",
       " [99, 89, 20, 53, 57],\n",
       " [93, 70, 46, 58, 21],\n",
       " [95, 51, 18, 49, 79],\n",
       " [47, 99, 7, 35, 84]]"
      ]
     },
     "execution_count": 6,
     "metadata": {},
     "output_type": "execute_result"
    }
   ],
   "source": [
    "l"
   ]
  },
  {
   "cell_type": "code",
   "execution_count": 10,
   "metadata": {},
   "outputs": [
    {
     "name": "stdout",
     "output_type": "stream",
     "text": [
      "********************************************************************************\n"
     ]
    }
   ],
   "source": [
    "print('*'*80)"
   ]
  },
  {
   "cell_type": "code",
   "execution_count": 12,
   "metadata": {},
   "outputs": [
    {
     "name": "stdout",
     "output_type": "stream",
     "text": [
      "*\n"
     ]
    }
   ],
   "source": [
    "print('*')"
   ]
  },
  {
   "cell_type": "code",
   "execution_count": 17,
   "metadata": {},
   "outputs": [
    {
     "name": "stdout",
     "output_type": "stream",
     "text": [
      "**********\n",
      "**********\n",
      "**********\n",
      "**********\n",
      "**********\n",
      "**********\n",
      "**********\n",
      "**********\n",
      "**********\n",
      "**********\n"
     ]
    }
   ],
   "source": [
    "for j in range(10):\n",
    "    for i in range(10):\n",
    "        print('*',end='')\n",
    "    print()"
   ]
  },
  {
   "cell_type": "code",
   "execution_count": 22,
   "metadata": {},
   "outputs": [
    {
     "name": "stdout",
     "output_type": "stream",
     "text": [
      "**********\n",
      "**********\n",
      "**********\n",
      "**********\n",
      "**********\n",
      "**********\n",
      "**********\n",
      "**********\n",
      "**********\n",
      "**********\n"
     ]
    }
   ],
   "source": [
    "r=1\n",
    "while r<=10:\n",
    "    c=1\n",
    "    while c<=10:\n",
    "        print('*',end='')\n",
    "        c+=1\n",
    "    print()\n",
    "    r+=1"
   ]
  },
  {
   "cell_type": "markdown",
   "metadata": {},
   "source": [
    "<h1 style='color:darkgreen'>Guessing Game</h1>"
   ]
  },
  {
   "cell_type": "markdown",
   "metadata": {},
   "source": [
    "- Computer Guess a random Number between 1 to 50\n",
    "- User Guess Computer's Number\n",
    "- User Have 5 chanches to win the game\n",
    "- If in five Chances if user guess correct then user win otherwise User Lose the Game\n",
    "- If user Enter the number out of range(1,51) then chances should not be missed."
   ]
  },
  {
   "cell_type": "code",
   "execution_count": 29,
   "metadata": {},
   "outputs": [
    {
     "name": "stdout",
     "output_type": "stream",
     "text": [
      "Writing guessing_game.py\n"
     ]
    }
   ],
   "source": [
    "%%writefile guessing_game.py\n",
    "import random \n",
    "import time\n",
    "print('Computer Guessing a Number')\n",
    "for i in 'Guessing.....':\n",
    "    time.sleep(0.1)\n",
    "    print(i,end='')\n",
    "com_guess=random.randint(1,50)\n",
    "chance=1\n",
    "while chance<=5:\n",
    "    print('\\nRemaining Chances: ',5-chance+1)\n",
    "    user=int(input('Enter a number between 1 to 50'))\n",
    "    if user<1 or user >50:\n",
    "        print('Please input Number between 1 to 50')\n",
    "        continue\n",
    "    elif user>com_guess:\n",
    "        print('Be in Limits and Think small')\n",
    "    elif user<com_guess:\n",
    "        print('Think Big')\n",
    "    else:\n",
    "        print('Congratulation')\n",
    "        print('You won the Game........')\n",
    "        break\n",
    "    chance+=1\n",
    "else:\n",
    "    print('You are such a looser')\n",
    "    print('Computer Guess was: ',com_guess)"
   ]
  },
  {
   "cell_type": "code",
   "execution_count": 3,
   "metadata": {},
   "outputs": [
    {
     "name": "stdout",
     "output_type": "stream",
     "text": [
      ".......Exciting......."
     ]
    }
   ],
   "source": [
    "import time\n",
    "for i in '.......Exciting.......':\n",
    "    time.sleep(0.2)\n",
    "    print(i,end='')"
   ]
  },
  {
   "cell_type": "code",
   "execution_count": 30,
   "metadata": {},
   "outputs": [
    {
     "name": "stdout",
     "output_type": "stream",
     "text": [
      "**********\n",
      "**********\n",
      "**********\n",
      "**********\n",
      "**********\n",
      "**********\n",
      "**********\n",
      "**********\n",
      "**********\n",
      "**********\n"
     ]
    }
   ],
   "source": [
    "for i in range(10):\n",
    "    for j in range(10):\n",
    "        print('*',end='')\n",
    "    print()"
   ]
  },
  {
   "cell_type": "code",
   "execution_count": 7,
   "metadata": {},
   "outputs": [
    {
     "name": "stdout",
     "output_type": "stream",
     "text": [
      "48 ---> 0\n",
      "49 ---> 1\n",
      "50 ---> 2\n",
      "51 ---> 3\n",
      "52 ---> 4\n",
      "53 ---> 5\n",
      "54 ---> 6\n",
      "55 ---> 7\n",
      "56 ---> 8\n",
      "57 ---> 9\n",
      "58 ---> :\n",
      "59 ---> ;\n",
      "60 ---> <\n",
      "61 ---> =\n",
      "62 ---> >\n",
      "63 ---> ?\n",
      "64 ---> @\n",
      "65 ---> A\n",
      "66 ---> B\n",
      "67 ---> C\n",
      "68 ---> D\n",
      "69 ---> E\n",
      "70 ---> F\n",
      "71 ---> G\n",
      "72 ---> H\n",
      "73 ---> I\n",
      "74 ---> J\n",
      "75 ---> K\n",
      "76 ---> L\n",
      "77 ---> M\n",
      "78 ---> N\n",
      "79 ---> O\n",
      "80 ---> P\n",
      "81 ---> Q\n",
      "82 ---> R\n",
      "83 ---> S\n",
      "84 ---> T\n",
      "85 ---> U\n",
      "86 ---> V\n",
      "87 ---> W\n",
      "88 ---> X\n",
      "89 ---> Y\n",
      "90 ---> Z\n",
      "91 ---> [\n",
      "92 ---> \\\n",
      "93 ---> ]\n",
      "94 ---> ^\n",
      "95 ---> _\n",
      "96 ---> `\n",
      "97 ---> a\n",
      "98 ---> b\n",
      "99 ---> c\n",
      "100 ---> d\n",
      "101 ---> e\n",
      "102 ---> f\n",
      "103 ---> g\n",
      "104 ---> h\n",
      "105 ---> i\n",
      "106 ---> j\n",
      "107 ---> k\n",
      "108 ---> l\n",
      "109 ---> m\n",
      "110 ---> n\n",
      "111 ---> o\n",
      "112 ---> p\n",
      "113 ---> q\n",
      "114 ---> r\n",
      "115 ---> s\n",
      "116 ---> t\n",
      "117 ---> u\n",
      "118 ---> v\n",
      "119 ---> w\n",
      "120 ---> x\n",
      "121 ---> y\n",
      "122 ---> z\n",
      "123 ---> {\n",
      "124 ---> |\n",
      "125 ---> }\n",
      "126 ---> ~\n",
      "127 ---> \n",
      "128 ---> \n",
      "129 ---> \n",
      "130 ---> \n",
      "131 ---> \n",
      "132 ---> \n",
      "133 ---> ",
      "\n",
      "134 ---> \n",
      "135 ---> \n",
      "136 ---> \n",
      "137 ---> \n",
      "138 ---> \n",
      "139 ---> \n",
      "140 ---> \n",
      "141 ---> \n",
      "142 ---> \n",
      "143 ---> \n",
      "144 ---> \n",
      "145 ---> \n",
      "146 ---> \n",
      "147 ---> \n",
      "148 ---> \n",
      "149 ---> \n",
      "150 ---> \n",
      "151 ---> \n",
      "152 ---> \n",
      "153 ---> \n",
      "154 ---> \n",
      "155 ---> \n",
      "156 ---> \n",
      "157 ---> \n",
      "158 ---> \n",
      "159 ---> \n",
      "160 --->  \n",
      "161 ---> ¡\n",
      "162 ---> ¢\n",
      "163 ---> £\n",
      "164 ---> ¤\n",
      "165 ---> ¥\n",
      "166 ---> ¦\n",
      "167 ---> §\n",
      "168 ---> ¨\n",
      "169 ---> ©\n",
      "170 ---> ª\n",
      "171 ---> «\n",
      "172 ---> ¬\n",
      "173 ---> ­\n",
      "174 ---> ®\n",
      "175 ---> ¯\n",
      "176 ---> °\n",
      "177 ---> ±\n",
      "178 ---> ²\n",
      "179 ---> ³\n",
      "180 ---> ´\n",
      "181 ---> µ\n",
      "182 ---> ¶\n",
      "183 ---> ·\n",
      "184 ---> ¸\n",
      "185 ---> ¹\n",
      "186 ---> º\n",
      "187 ---> »\n",
      "188 ---> ¼\n",
      "189 ---> ½\n",
      "190 ---> ¾\n",
      "191 ---> ¿\n",
      "192 ---> À\n",
      "193 ---> Á\n",
      "194 ---> Â\n",
      "195 ---> Ã\n",
      "196 ---> Ä\n",
      "197 ---> Å\n",
      "198 ---> Æ\n",
      "199 ---> Ç\n",
      "200 ---> È\n",
      "201 ---> É\n",
      "202 ---> Ê\n",
      "203 ---> Ë\n",
      "204 ---> Ì\n",
      "205 ---> Í\n",
      "206 ---> Î\n",
      "207 ---> Ï\n",
      "208 ---> Ð\n",
      "209 ---> Ñ\n",
      "210 ---> Ò\n",
      "211 ---> Ó\n",
      "212 ---> Ô\n",
      "213 ---> Õ\n",
      "214 ---> Ö\n",
      "215 ---> ×\n",
      "216 ---> Ø\n",
      "217 ---> Ù\n",
      "218 ---> Ú\n",
      "219 ---> Û\n",
      "220 ---> Ü\n",
      "221 ---> Ý\n",
      "222 ---> Þ\n",
      "223 ---> ß\n",
      "224 ---> à\n",
      "225 ---> á\n",
      "226 ---> â\n",
      "227 ---> ã\n",
      "228 ---> ä\n",
      "229 ---> å\n",
      "230 ---> æ\n",
      "231 ---> ç\n",
      "232 ---> è\n",
      "233 ---> é\n",
      "234 ---> ê\n",
      "235 ---> ë\n",
      "236 ---> ì\n",
      "237 ---> í\n",
      "238 ---> î\n",
      "239 ---> ï\n",
      "240 ---> ð\n",
      "241 ---> ñ\n",
      "242 ---> ò\n",
      "243 ---> ó\n",
      "244 ---> ô\n",
      "245 ---> õ\n",
      "246 ---> ö\n",
      "247 ---> ÷\n",
      "248 ---> ø\n",
      "249 ---> ù\n",
      "250 ---> ú\n",
      "251 ---> û\n",
      "252 ---> ü\n",
      "253 ---> ý\n",
      "254 ---> þ\n",
      "255 ---> ÿ\n",
      "256 ---> Ā\n",
      "257 ---> ā\n",
      "258 ---> Ă\n",
      "259 ---> ă\n",
      "260 ---> Ą\n",
      "261 ---> ą\n",
      "262 ---> Ć\n",
      "263 ---> ć\n",
      "264 ---> Ĉ\n",
      "265 ---> ĉ\n",
      "266 ---> Ċ\n",
      "267 ---> ċ\n",
      "268 ---> Č\n",
      "269 ---> č\n",
      "270 ---> Ď\n",
      "271 ---> ď\n",
      "272 ---> Đ\n",
      "273 ---> đ\n",
      "274 ---> Ē\n",
      "275 ---> ē\n",
      "276 ---> Ĕ\n",
      "277 ---> ĕ\n",
      "278 ---> Ė\n",
      "279 ---> ė\n",
      "280 ---> Ę\n",
      "281 ---> ę\n",
      "282 ---> Ě\n",
      "283 ---> ě\n",
      "284 ---> Ĝ\n",
      "285 ---> ĝ\n",
      "286 ---> Ğ\n",
      "287 ---> ğ\n",
      "288 ---> Ġ\n",
      "289 ---> ġ\n",
      "290 ---> Ģ\n",
      "291 ---> ģ\n",
      "292 ---> Ĥ\n",
      "293 ---> ĥ\n",
      "294 ---> Ħ\n",
      "295 ---> ħ\n",
      "296 ---> Ĩ\n",
      "297 ---> ĩ\n",
      "298 ---> Ī\n",
      "299 ---> ī\n",
      "300 ---> Ĭ\n",
      "301 ---> ĭ\n",
      "302 ---> Į\n",
      "303 ---> į\n",
      "304 ---> İ\n",
      "305 ---> ı\n",
      "306 ---> Ĳ\n",
      "307 ---> ĳ\n",
      "308 ---> Ĵ\n",
      "309 ---> ĵ\n",
      "310 ---> Ķ\n",
      "311 ---> ķ\n",
      "312 ---> ĸ\n",
      "313 ---> Ĺ\n",
      "314 ---> ĺ\n",
      "315 ---> Ļ\n",
      "316 ---> ļ\n",
      "317 ---> Ľ\n",
      "318 ---> ľ\n",
      "319 ---> Ŀ\n",
      "320 ---> ŀ\n",
      "321 ---> Ł\n",
      "322 ---> ł\n",
      "323 ---> Ń\n",
      "324 ---> ń\n",
      "325 ---> Ņ\n",
      "326 ---> ņ\n",
      "327 ---> Ň\n",
      "328 ---> ň\n",
      "329 ---> ŉ\n",
      "330 ---> Ŋ\n",
      "331 ---> ŋ\n",
      "332 ---> Ō\n",
      "333 ---> ō\n",
      "334 ---> Ŏ\n",
      "335 ---> ŏ\n",
      "336 ---> Ő\n",
      "337 ---> ő\n",
      "338 ---> Œ\n",
      "339 ---> œ\n",
      "340 ---> Ŕ\n",
      "341 ---> ŕ\n",
      "342 ---> Ŗ\n",
      "343 ---> ŗ\n",
      "344 ---> Ř\n",
      "345 ---> ř\n",
      "346 ---> Ś\n",
      "347 ---> ś\n",
      "348 ---> Ŝ\n",
      "349 ---> ŝ\n",
      "350 ---> Ş\n",
      "351 ---> ş\n",
      "352 ---> Š\n",
      "353 ---> š\n",
      "354 ---> Ţ\n",
      "355 ---> ţ\n",
      "356 ---> Ť\n",
      "357 ---> ť\n",
      "358 ---> Ŧ\n",
      "359 ---> ŧ\n",
      "360 ---> Ũ\n",
      "361 ---> ũ\n",
      "362 ---> Ū\n",
      "363 ---> ū\n",
      "364 ---> Ŭ\n",
      "365 ---> ŭ\n",
      "366 ---> Ů\n",
      "367 ---> ů\n",
      "368 ---> Ű\n",
      "369 ---> ű\n",
      "370 ---> Ų\n",
      "371 ---> ų\n",
      "372 ---> Ŵ\n",
      "373 ---> ŵ\n",
      "374 ---> Ŷ\n",
      "375 ---> ŷ\n",
      "376 ---> Ÿ\n",
      "377 ---> Ź\n",
      "378 ---> ź\n",
      "379 ---> Ż\n",
      "380 ---> ż\n",
      "381 ---> Ž\n",
      "382 ---> ž\n",
      "383 ---> ſ\n",
      "384 ---> ƀ\n",
      "385 ---> Ɓ\n",
      "386 ---> Ƃ\n",
      "387 ---> ƃ\n",
      "388 ---> Ƅ\n",
      "389 ---> ƅ\n",
      "390 ---> Ɔ\n",
      "391 ---> Ƈ\n",
      "392 ---> ƈ\n",
      "393 ---> Ɖ\n",
      "394 ---> Ɗ\n",
      "395 ---> Ƌ\n",
      "396 ---> ƌ\n",
      "397 ---> ƍ\n",
      "398 ---> Ǝ\n",
      "399 ---> Ə\n",
      "400 ---> Ɛ\n",
      "401 ---> Ƒ\n",
      "402 ---> ƒ\n",
      "403 ---> Ɠ\n",
      "404 ---> Ɣ\n",
      "405 ---> ƕ\n",
      "406 ---> Ɩ\n",
      "407 ---> Ɨ\n",
      "408 ---> Ƙ\n",
      "409 ---> ƙ\n",
      "410 ---> ƚ\n",
      "411 ---> ƛ\n",
      "412 ---> Ɯ\n",
      "413 ---> Ɲ\n",
      "414 ---> ƞ\n",
      "415 ---> Ɵ\n",
      "416 ---> Ơ\n",
      "417 ---> ơ\n",
      "418 ---> Ƣ\n",
      "419 ---> ƣ\n",
      "420 ---> Ƥ\n",
      "421 ---> ƥ\n",
      "422 ---> Ʀ\n",
      "423 ---> Ƨ\n",
      "424 ---> ƨ\n",
      "425 ---> Ʃ\n",
      "426 ---> ƪ\n",
      "427 ---> ƫ\n",
      "428 ---> Ƭ\n",
      "429 ---> ƭ\n",
      "430 ---> Ʈ\n",
      "431 ---> Ư\n",
      "432 ---> ư\n",
      "433 ---> Ʊ\n",
      "434 ---> Ʋ\n",
      "435 ---> Ƴ\n",
      "436 ---> ƴ\n",
      "437 ---> Ƶ\n",
      "438 ---> ƶ\n",
      "439 ---> Ʒ\n",
      "440 ---> Ƹ\n",
      "441 ---> ƹ\n",
      "442 ---> ƺ\n",
      "443 ---> ƻ\n",
      "444 ---> Ƽ\n",
      "445 ---> ƽ\n",
      "446 ---> ƾ\n",
      "447 ---> ƿ\n",
      "448 ---> ǀ\n",
      "449 ---> ǁ\n",
      "450 ---> ǂ\n",
      "451 ---> ǃ\n",
      "452 ---> Ǆ\n",
      "453 ---> ǅ\n",
      "454 ---> ǆ\n",
      "455 ---> Ǉ\n",
      "456 ---> ǈ\n",
      "457 ---> ǉ\n",
      "458 ---> Ǌ\n",
      "459 ---> ǋ\n",
      "460 ---> ǌ\n",
      "461 ---> Ǎ\n",
      "462 ---> ǎ\n",
      "463 ---> Ǐ\n",
      "464 ---> ǐ\n",
      "465 ---> Ǒ\n",
      "466 ---> ǒ\n",
      "467 ---> Ǔ\n",
      "468 ---> ǔ\n",
      "469 ---> Ǖ\n",
      "470 ---> ǖ\n",
      "471 ---> Ǘ\n",
      "472 ---> ǘ\n",
      "473 ---> Ǚ\n",
      "474 ---> ǚ\n",
      "475 ---> Ǜ\n",
      "476 ---> ǜ\n",
      "477 ---> ǝ\n",
      "478 ---> Ǟ\n",
      "479 ---> ǟ\n",
      "480 ---> Ǡ\n",
      "481 ---> ǡ\n",
      "482 ---> Ǣ\n",
      "483 ---> ǣ\n",
      "484 ---> Ǥ\n",
      "485 ---> ǥ\n",
      "486 ---> Ǧ\n",
      "487 ---> ǧ\n",
      "488 ---> Ǩ\n",
      "489 ---> ǩ\n",
      "490 ---> Ǫ\n",
      "491 ---> ǫ\n",
      "492 ---> Ǭ\n",
      "493 ---> ǭ\n",
      "494 ---> Ǯ\n",
      "495 ---> ǯ\n",
      "496 ---> ǰ\n",
      "497 ---> Ǳ\n",
      "498 ---> ǲ\n",
      "499 ---> ǳ\n"
     ]
    }
   ],
   "source": [
    "for i in range(48,500):\n",
    "    print(i,'--->',chr(i))"
   ]
  },
  {
   "cell_type": "code",
   "execution_count": 36,
   "metadata": {},
   "outputs": [
    {
     "data": {
      "text/plain": [
       "122"
      ]
     },
     "execution_count": 36,
     "metadata": {},
     "output_type": "execute_result"
    }
   ],
   "source": [
    "ord('z')"
   ]
  },
  {
   "cell_type": "code",
   "execution_count": 8,
   "metadata": {},
   "outputs": [
    {
     "data": {
      "text/plain": [
       "'©'"
      ]
     },
     "execution_count": 8,
     "metadata": {},
     "output_type": "execute_result"
    }
   ],
   "source": [
    "chr(169)"
   ]
  },
  {
   "cell_type": "code",
   "execution_count": 37,
   "metadata": {},
   "outputs": [
    {
     "data": {
      "text/plain": [
       "48"
      ]
     },
     "execution_count": 37,
     "metadata": {},
     "output_type": "execute_result"
    }
   ],
   "source": [
    "ord('0')"
   ]
  },
  {
   "cell_type": "code",
   "execution_count": 38,
   "metadata": {},
   "outputs": [
    {
     "name": "stdout",
     "output_type": "stream",
     "text": [
      "0123456789\n",
      "0123456789\n",
      "0123456789\n",
      "0123456789\n",
      "0123456789\n",
      "0123456789\n",
      "0123456789\n",
      "0123456789\n",
      "0123456789\n",
      "0123456789\n"
     ]
    }
   ],
   "source": [
    "for i in range(10):\n",
    "    for j in range(10):\n",
    "        print(j,end='')\n",
    "    print()"
   ]
  },
  {
   "cell_type": "code",
   "execution_count": 39,
   "metadata": {},
   "outputs": [
    {
     "name": "stdout",
     "output_type": "stream",
     "text": [
      "AAAAAAAAAA\n",
      "BBBBBBBBBB\n",
      "CCCCCCCCCC\n",
      "DDDDDDDDDD\n",
      "EEEEEEEEEE\n",
      "FFFFFFFFFF\n",
      "GGGGGGGGGG\n",
      "HHHHHHHHHH\n",
      "IIIIIIIIII\n",
      "JJJJJJJJJJ\n"
     ]
    }
   ],
   "source": [
    "for i in range(10):\n",
    "    for j in range(10):\n",
    "        print(chr(i+65),end='')\n",
    "    print()"
   ]
  },
  {
   "cell_type": "code",
   "execution_count": 2,
   "metadata": {},
   "outputs": [
    {
     "name": "stdout",
     "output_type": "stream",
     "text": [
      "*\n",
      "**\n",
      "***\n",
      "****\n",
      "*****\n",
      "******\n",
      "*******\n",
      "********\n",
      "*********\n",
      "**********\n"
     ]
    }
   ],
   "source": [
    "row=1\n",
    "while row<=10:\n",
    "    col=1\n",
    "    while col<=row:\n",
    "        print('*',end='')\n",
    "        col+=1\n",
    "    print()\n",
    "    row+=1"
   ]
  },
  {
   "cell_type": "code",
   "execution_count": 1,
   "metadata": {},
   "outputs": [
    {
     "name": "stdout",
     "output_type": "stream",
     "text": [
      "*\n",
      "**\n",
      "***\n",
      "****\n",
      "*****\n",
      "******\n",
      "*******\n",
      "********\n",
      "*********\n",
      "**********\n"
     ]
    }
   ],
   "source": [
    "row=1\n",
    "while row<=10:\n",
    "    print('*'*row)\n",
    "    row+=1\n",
    "    "
   ]
  },
  {
   "cell_type": "code",
   "execution_count": 5,
   "metadata": {},
   "outputs": [
    {
     "name": "stdout",
     "output_type": "stream",
     "text": [
      "*\n",
      "**\n",
      "***\n",
      "****\n",
      "*****\n",
      "******\n",
      "*******\n",
      "********\n",
      "*********\n",
      "**********\n"
     ]
    }
   ],
   "source": [
    "for i in range(10):\n",
    "    print('*'*(i+1))"
   ]
  },
  {
   "cell_type": "code",
   "execution_count": 3,
   "metadata": {},
   "outputs": [
    {
     "name": "stdout",
     "output_type": "stream",
     "text": [
      "*  *  *  *  *  *  *  *  *  \n",
      "*  *  *  *  *  *  *  *  \n",
      "*  *  *  *  *  *  *  \n",
      "*  *  *  *  *  *  \n",
      "*  *  *  *  *  \n",
      "*  *  *  *  \n",
      "*  *  *  \n",
      "*  *  \n",
      "*  \n",
      "\n"
     ]
    }
   ],
   "source": [
    "row=1\n",
    "while row<=10:\n",
    "    col=1\n",
    "    while col<10-row+1:\n",
    "        print('*',end='  ')\n",
    "        col+=1\n",
    "    print()\n",
    "    row+=1"
   ]
  },
  {
   "cell_type": "code",
   "execution_count": 10,
   "metadata": {},
   "outputs": [
    {
     "name": "stdout",
     "output_type": "stream",
     "text": [
      "**********\n",
      "*********\n",
      "********\n",
      "*******\n",
      "******\n",
      "*****\n",
      "****\n",
      "***\n",
      "**\n",
      "*\n"
     ]
    }
   ],
   "source": [
    "for i in range(10):\n",
    "    print('*'*(10-i))"
   ]
  },
  {
   "cell_type": "code",
   "execution_count": 12,
   "metadata": {},
   "outputs": [
    {
     "name": "stdout",
     "output_type": "stream",
     "text": [
      "           *\n",
      "          **\n",
      "         ***\n",
      "        ****\n",
      "       *****\n",
      "      ******\n",
      "     *******\n",
      "    ********\n",
      "   *********\n",
      "  **********\n"
     ]
    }
   ],
   "source": [
    "for i in range(10):\n",
    "    print(' '*(10-i),'*'*(i+1))"
   ]
  },
  {
   "cell_type": "code",
   "execution_count": 13,
   "metadata": {},
   "outputs": [
    {
     "name": "stdout",
     "output_type": "stream",
     "text": [
      " **********\n",
      "  *********\n",
      "   ********\n",
      "    *******\n",
      "     ******\n",
      "      *****\n",
      "       ****\n",
      "        ***\n",
      "         **\n",
      "          *\n"
     ]
    }
   ],
   "source": [
    "for i in range(10):\n",
    "    print(' '*(i),'*'*(10-i))"
   ]
  },
  {
   "cell_type": "code",
   "execution_count": 13,
   "metadata": {},
   "outputs": [
    {
     "name": "stdout",
     "output_type": "stream",
     "text": [
      "********************\n",
      " ******************\n",
      "  ****************\n",
      "   **************\n",
      "    ************\n",
      "     **********\n",
      "      ********\n",
      "       ******\n",
      "        ****\n",
      "         **\n"
     ]
    }
   ],
   "source": [
    "for i in range(10):\n",
    "    print(' '*(i),'*'*(10-i),'*'*(10-i),sep='')"
   ]
  },
  {
   "cell_type": "code",
   "execution_count": 14,
   "metadata": {},
   "outputs": [
    {
     "name": "stdout",
     "output_type": "stream",
     "text": [
      "*\n",
      "**\n",
      "***\n",
      "****\n",
      "*****\n",
      "******\n",
      "*******\n",
      "********\n",
      "*********\n",
      "**********\n"
     ]
    }
   ],
   "source": [
    "row=1\n",
    "while row<=10:\n",
    "    col=1\n",
    "    while col<=row:\n",
    "        print('*',end='')\n",
    "        col+=1\n",
    "    print()\n",
    "    row+=1"
   ]
  },
  {
   "cell_type": "code",
   "execution_count": 16,
   "metadata": {},
   "outputs": [
    {
     "name": "stdout",
     "output_type": "stream",
     "text": [
      "**********\n",
      "*********\n",
      "********\n",
      "*******\n",
      "******\n",
      "*****\n",
      "****\n",
      "***\n",
      "**\n",
      "*\n"
     ]
    }
   ],
   "source": [
    "row=1\n",
    "while row<=10:\n",
    "    col=1\n",
    "    while col<=10-row+1:\n",
    "        print('*',end='')\n",
    "        col+=1\n",
    "    print()\n",
    "    row+=1"
   ]
  },
  {
   "cell_type": "code",
   "execution_count": 20,
   "metadata": {},
   "outputs": [
    {
     "name": "stdout",
     "output_type": "stream",
     "text": [
      "**********\n",
      " *********\n",
      "  ********\n",
      "   *******\n",
      "    ******\n",
      "     *****\n",
      "      ****\n",
      "       ***\n",
      "        **\n",
      "         *\n"
     ]
    }
   ],
   "source": [
    "row=1\n",
    "while row<=10:\n",
    "    col=1\n",
    "    while col<=10:\n",
    "        if col<=row-1:\n",
    "            print(' ',end='')\n",
    "        else:\n",
    "            print('*',end='')\n",
    "        col+=1\n",
    "    print()\n",
    "    row+=1"
   ]
  },
  {
   "cell_type": "code",
   "execution_count": 18,
   "metadata": {},
   "outputs": [
    {
     "name": "stdout",
     "output_type": "stream",
     "text": [
      "         *\n",
      "        **\n",
      "       ***\n",
      "      ****\n",
      "     *****\n",
      "    ******\n",
      "   *******\n",
      "  ********\n",
      " *********\n",
      "**********\n"
     ]
    }
   ],
   "source": [
    "row=1\n",
    "while row<=10:\n",
    "    col=1\n",
    "    while col<=10:\n",
    "        if col<=10-row:\n",
    "            print(' ',end='')\n",
    "        else:\n",
    "            print('*',end='')\n",
    "        col+=1\n",
    "    print()\n",
    "    row+=1"
   ]
  },
  {
   "cell_type": "code",
   "execution_count": 24,
   "metadata": {},
   "outputs": [
    {
     "name": "stdout",
     "output_type": "stream",
     "text": [
      "          *         \n",
      "         ***        \n",
      "        *****       \n",
      "       *******      \n",
      "      *********     \n",
      "     ***********    \n",
      "    *************   \n",
      "   ***************  \n",
      "  ***************** \n",
      " *******************\n"
     ]
    }
   ],
   "source": [
    "row=1\n",
    "while row<=10:\n",
    "    col=1\n",
    "    while col<=10:\n",
    "        if col<=10-row+1:\n",
    "            print(' ',end='')\n",
    "        else:\n",
    "            print('*',end='')\n",
    "        col+=1\n",
    "\n",
    "    col=1\n",
    "    while col<=10:\n",
    "        if col<=row:\n",
    "            print('*',end='')\n",
    "        else:\n",
    "            print(' ',end='')\n",
    "        col+=1\n",
    "    print()\n",
    "    row+=1"
   ]
  },
  {
   "cell_type": "code",
   "execution_count": 27,
   "metadata": {},
   "outputs": [
    {
     "name": "stdout",
     "output_type": "stream",
     "text": [
      "*******************\n",
      " *****************\n",
      "  ***************\n",
      "   *************\n",
      "    ***********\n",
      "     *********\n",
      "      *******\n",
      "       *****\n",
      "        ***\n",
      "         *\n"
     ]
    }
   ],
   "source": [
    "row=1\n",
    "while row<=10:\n",
    "    col=1\n",
    "    while col<=10:\n",
    "        if col<=row-1:\n",
    "            print(' ',end='')\n",
    "        else:\n",
    "            print('*',end='')\n",
    "        col+=1\n",
    "\n",
    "    col=1\n",
    "    while col<=10-row:\n",
    "        print('*',end='')\n",
    "        col+=1\n",
    "    print()\n",
    "    row+=1"
   ]
  },
  {
   "cell_type": "code",
   "execution_count": 28,
   "metadata": {},
   "outputs": [
    {
     "name": "stdout",
     "output_type": "stream",
     "text": [
      "          *         \n",
      "         ***        \n",
      "        *****       \n",
      "       *******      \n",
      "      *********     \n",
      "     ***********    \n",
      "    *************   \n",
      "   ***************  \n",
      "  ***************** \n",
      " *******************\n",
      "*******************\n",
      " *****************\n",
      "  ***************\n",
      "   *************\n",
      "    ***********\n",
      "     *********\n",
      "      *******\n",
      "       *****\n",
      "        ***\n",
      "         *\n"
     ]
    }
   ],
   "source": [
    "row=1\n",
    "while row<=10:\n",
    "    col=1\n",
    "    while col<=10:\n",
    "        if col<=10-row+1:\n",
    "            print(' ',end='')\n",
    "        else:\n",
    "            print('*',end='')\n",
    "        col+=1\n",
    "\n",
    "    col=1\n",
    "    while col<=10:\n",
    "        if col<=row:\n",
    "            print('*',end='')\n",
    "        else:\n",
    "            print(' ',end='')\n",
    "        col+=1\n",
    "    print()\n",
    "    row+=1\n",
    "    \n",
    "row=1\n",
    "while row<=10:\n",
    "    col=1\n",
    "    while col<=10:\n",
    "        if col<=row-1:\n",
    "            print(' ',end='')\n",
    "        else:\n",
    "            print('*',end='')\n",
    "        col+=1\n",
    "\n",
    "    col=1\n",
    "    while col<=10-row:\n",
    "        print('*',end='')\n",
    "        col+=1\n",
    "    print()\n",
    "    row+=1"
   ]
  },
  {
   "cell_type": "code",
   "execution_count": 30,
   "metadata": {},
   "outputs": [
    {
     "ename": "SyntaxError",
     "evalue": "invalid syntax (<ipython-input-30-dcdb97cbcd2e>, line 1)",
     "output_type": "error",
     "traceback": [
      "\u001b[1;36m  File \u001b[1;32m\"<ipython-input-30-dcdb97cbcd2e>\"\u001b[1;36m, line \u001b[1;32m1\u001b[0m\n\u001b[1;33m    for i not in range(1,10):\u001b[0m\n\u001b[1;37m            ^\u001b[0m\n\u001b[1;31mSyntaxError\u001b[0m\u001b[1;31m:\u001b[0m invalid syntax\n"
     ]
    }
   ],
   "source": [
    "for i not in range(1,10):\n",
    "    print(i)"
   ]
  },
  {
   "cell_type": "code",
   "execution_count": 31,
   "metadata": {},
   "outputs": [
    {
     "data": {
      "text/plain": [
       "True"
      ]
     },
     "execution_count": 31,
     "metadata": {},
     "output_type": "execute_result"
    }
   ],
   "source": [
    "any([True,True,False,False,None,None,0,''])"
   ]
  },
  {
   "cell_type": "code",
   "execution_count": 18,
   "metadata": {},
   "outputs": [
    {
     "data": {
      "text/plain": [
       "False"
      ]
     },
     "execution_count": 18,
     "metadata": {},
     "output_type": "execute_result"
    }
   ],
   "source": [
    "all([True,True,False,False,None,None,0,''])"
   ]
  },
  {
   "cell_type": "code",
   "execution_count": 32,
   "metadata": {},
   "outputs": [
    {
     "data": {
      "text/plain": [
       "False"
      ]
     },
     "execution_count": 32,
     "metadata": {},
     "output_type": "execute_result"
    }
   ],
   "source": [
    "all([1,2,3,4,5,6,7,None])"
   ]
  },
  {
   "cell_type": "code",
   "execution_count": 40,
   "metadata": {},
   "outputs": [],
   "source": [
    "from collections import defaultdict,Counter"
   ]
  },
  {
   "cell_type": "code",
   "execution_count": 34,
   "metadata": {},
   "outputs": [],
   "source": [
    "d=defaultdict()"
   ]
  },
  {
   "cell_type": "code",
   "execution_count": 36,
   "metadata": {},
   "outputs": [],
   "source": [
    "import random\n",
    "l=[random.randint(1,10) for i in range(20)]"
   ]
  },
  {
   "cell_type": "code",
   "execution_count": 41,
   "metadata": {},
   "outputs": [
    {
     "ename": "TypeError",
     "evalue": "first argument must be callable or None",
     "output_type": "error",
     "traceback": [
      "\u001b[1;31m---------------------------------------------------------------------------\u001b[0m",
      "\u001b[1;31mTypeError\u001b[0m                                 Traceback (most recent call last)",
      "\u001b[1;32m<ipython-input-41-03a77e03598d>\u001b[0m in \u001b[0;36m<module>\u001b[1;34m\u001b[0m\n\u001b[1;32m----> 1\u001b[1;33m \u001b[0md\u001b[0m\u001b[1;33m=\u001b[0m\u001b[0mdefaultdict\u001b[0m\u001b[1;33m(\u001b[0m\u001b[0ml\u001b[0m\u001b[1;33m)\u001b[0m\u001b[1;33m\u001b[0m\u001b[1;33m\u001b[0m\u001b[0m\n\u001b[0m",
      "\u001b[1;31mTypeError\u001b[0m: first argument must be callable or None"
     ]
    }
   ],
   "source": [
    "d=defaultdict(l)"
   ]
  },
  {
   "cell_type": "code",
   "execution_count": 42,
   "metadata": {},
   "outputs": [],
   "source": [
    "d=Counter(l)"
   ]
  },
  {
   "cell_type": "code",
   "execution_count": 43,
   "metadata": {},
   "outputs": [
    {
     "data": {
      "text/plain": [
       "Counter({7: 1, 1: 3, 9: 5, 8: 1, 10: 1, 3: 2, 6: 2, 4: 2, 5: 3})"
      ]
     },
     "execution_count": 43,
     "metadata": {},
     "output_type": "execute_result"
    }
   ],
   "source": [
    "d"
   ]
  },
  {
   "cell_type": "code",
   "execution_count": 44,
   "metadata": {},
   "outputs": [
    {
     "data": {
      "text/plain": [
       "[7, 1, 9, 9, 9, 8, 10, 3, 6, 4, 1, 9, 5, 5, 5, 3, 9, 6, 1, 4]"
      ]
     },
     "execution_count": 44,
     "metadata": {},
     "output_type": "execute_result"
    }
   ],
   "source": [
    "l\n"
   ]
  },
  {
   "cell_type": "code",
   "execution_count": 45,
   "metadata": {},
   "outputs": [],
   "source": [
    "s=\"\"\"Rohit Gurunath Sharma (born 30 April 1987) is an Indian international cricketer who plays for Mumbai in domestic cricket and captains Mumbai Indians in the Indian Premier League as a right-handed batsman and an occasional right-arm off break bowler. He is the vice-captain of the Indian national team in limited-overs formats.\n",
    "Outside cricket, Sharma is an active supporter of animal welfare campaigns. He is the official Rhino Ambassador for WWF-India and is a member of People for the Ethical Treatment of Animals (PETA). He has worked with PETA in its campaign to raise awareness of the plight of homeless cats and dogs in India.\"\"\""
   ]
  },
  {
   "cell_type": "code",
   "execution_count": 46,
   "metadata": {},
   "outputs": [
    {
     "data": {
      "text/plain": [
       "632"
      ]
     },
     "execution_count": 46,
     "metadata": {},
     "output_type": "execute_result"
    }
   ],
   "source": [
    "len(s)"
   ]
  },
  {
   "cell_type": "code",
   "execution_count": 47,
   "metadata": {},
   "outputs": [],
   "source": [
    "d=Counter(s.split())"
   ]
  },
  {
   "cell_type": "code",
   "execution_count": 48,
   "metadata": {},
   "outputs": [
    {
     "data": {
      "text/plain": [
       "Counter({'Rohit': 1,\n",
       "         'Gurunath': 1,\n",
       "         'Sharma': 2,\n",
       "         '(born': 1,\n",
       "         '30': 1,\n",
       "         'April': 1,\n",
       "         '1987)': 1,\n",
       "         'is': 5,\n",
       "         'an': 3,\n",
       "         'Indian': 3,\n",
       "         'international': 1,\n",
       "         'cricketer': 1,\n",
       "         'who': 1,\n",
       "         'plays': 1,\n",
       "         'for': 3,\n",
       "         'Mumbai': 2,\n",
       "         'in': 5,\n",
       "         'domestic': 1,\n",
       "         'cricket': 1,\n",
       "         'and': 4,\n",
       "         'captains': 1,\n",
       "         'Indians': 1,\n",
       "         'the': 6,\n",
       "         'Premier': 1,\n",
       "         'League': 1,\n",
       "         'as': 1,\n",
       "         'a': 2,\n",
       "         'right-handed': 1,\n",
       "         'batsman': 1,\n",
       "         'occasional': 1,\n",
       "         'right-arm': 1,\n",
       "         'off': 1,\n",
       "         'break': 1,\n",
       "         'bowler.': 1,\n",
       "         'He': 3,\n",
       "         'vice-captain': 1,\n",
       "         'of': 6,\n",
       "         'national': 1,\n",
       "         'team': 1,\n",
       "         'limited-overs': 1,\n",
       "         'formats.': 1,\n",
       "         'Outside': 1,\n",
       "         'cricket,': 1,\n",
       "         'active': 1,\n",
       "         'supporter': 1,\n",
       "         'animal': 1,\n",
       "         'welfare': 1,\n",
       "         'campaigns.': 1,\n",
       "         'official': 1,\n",
       "         'Rhino': 1,\n",
       "         'Ambassador': 1,\n",
       "         'WWF-India': 1,\n",
       "         'member': 1,\n",
       "         'People': 1,\n",
       "         'Ethical': 1,\n",
       "         'Treatment': 1,\n",
       "         'Animals': 1,\n",
       "         '(PETA).': 1,\n",
       "         'has': 1,\n",
       "         'worked': 1,\n",
       "         'with': 1,\n",
       "         'PETA': 1,\n",
       "         'its': 1,\n",
       "         'campaign': 1,\n",
       "         'to': 1,\n",
       "         'raise': 1,\n",
       "         'awareness': 1,\n",
       "         'plight': 1,\n",
       "         'homeless': 1,\n",
       "         'cats': 1,\n",
       "         'dogs': 1,\n",
       "         'India.': 1})"
      ]
     },
     "execution_count": 48,
     "metadata": {},
     "output_type": "execute_result"
    }
   ],
   "source": [
    "d"
   ]
  },
  {
   "cell_type": "code",
   "execution_count": 49,
   "metadata": {},
   "outputs": [],
   "source": [
    "from collections import deque"
   ]
  },
  {
   "cell_type": "code",
   "execution_count": 50,
   "metadata": {},
   "outputs": [],
   "source": [
    "l=deque()"
   ]
  },
  {
   "cell_type": "code",
   "execution_count": 51,
   "metadata": {},
   "outputs": [],
   "source": [
    "l.append(1)"
   ]
  },
  {
   "cell_type": "code",
   "execution_count": 52,
   "metadata": {},
   "outputs": [
    {
     "data": {
      "text/plain": [
       "deque([1])"
      ]
     },
     "execution_count": 52,
     "metadata": {},
     "output_type": "execute_result"
    }
   ],
   "source": [
    "l"
   ]
  },
  {
   "cell_type": "code",
   "execution_count": 53,
   "metadata": {},
   "outputs": [],
   "source": [
    "l.appendleft(2)"
   ]
  },
  {
   "cell_type": "code",
   "execution_count": 54,
   "metadata": {},
   "outputs": [
    {
     "data": {
      "text/plain": [
       "deque([2, 1])"
      ]
     },
     "execution_count": 54,
     "metadata": {},
     "output_type": "execute_result"
    }
   ],
   "source": [
    "l"
   ]
  },
  {
   "cell_type": "code",
   "execution_count": 55,
   "metadata": {},
   "outputs": [],
   "source": [
    "l.append(3)"
   ]
  },
  {
   "cell_type": "code",
   "execution_count": 56,
   "metadata": {},
   "outputs": [
    {
     "data": {
      "text/plain": [
       "deque([2, 1, 3])"
      ]
     },
     "execution_count": 56,
     "metadata": {},
     "output_type": "execute_result"
    }
   ],
   "source": [
    "l"
   ]
  },
  {
   "cell_type": "code",
   "execution_count": 57,
   "metadata": {},
   "outputs": [
    {
     "data": {
      "text/plain": [
       "3"
      ]
     },
     "execution_count": 57,
     "metadata": {},
     "output_type": "execute_result"
    }
   ],
   "source": [
    "l.pop()"
   ]
  },
  {
   "cell_type": "code",
   "execution_count": 58,
   "metadata": {},
   "outputs": [
    {
     "data": {
      "text/plain": [
       "deque([2, 1])"
      ]
     },
     "execution_count": 58,
     "metadata": {},
     "output_type": "execute_result"
    }
   ],
   "source": [
    "l"
   ]
  },
  {
   "cell_type": "code",
   "execution_count": 59,
   "metadata": {},
   "outputs": [
    {
     "data": {
      "text/plain": [
       "2"
      ]
     },
     "execution_count": 59,
     "metadata": {},
     "output_type": "execute_result"
    }
   ],
   "source": [
    "l.popleft()"
   ]
  },
  {
   "cell_type": "code",
   "execution_count": 60,
   "metadata": {},
   "outputs": [
    {
     "data": {
      "text/plain": [
       "deque([1])"
      ]
     },
     "execution_count": 60,
     "metadata": {},
     "output_type": "execute_result"
    }
   ],
   "source": [
    "l"
   ]
  },
  {
   "cell_type": "code",
   "execution_count": 61,
   "metadata": {},
   "outputs": [],
   "source": [
    "from collections import defaultdict"
   ]
  },
  {
   "cell_type": "code",
   "execution_count": 62,
   "metadata": {},
   "outputs": [],
   "source": [
    "d=defaultdict()"
   ]
  },
  {
   "cell_type": "code",
   "execution_count": 63,
   "metadata": {},
   "outputs": [],
   "source": [
    "d['name']='sachin'"
   ]
  },
  {
   "cell_type": "code",
   "execution_count": 64,
   "metadata": {},
   "outputs": [
    {
     "data": {
      "text/plain": [
       "defaultdict(None, {'name': 'sachin'})"
      ]
     },
     "execution_count": 64,
     "metadata": {},
     "output_type": "execute_result"
    }
   ],
   "source": [
    "d"
   ]
  },
  {
   "cell_type": "code",
   "execution_count": 65,
   "metadata": {},
   "outputs": [
    {
     "data": {
      "text/plain": [
       "'sachin'"
      ]
     },
     "execution_count": 65,
     "metadata": {},
     "output_type": "execute_result"
    }
   ],
   "source": [
    "d['name']"
   ]
  },
  {
   "cell_type": "code",
   "execution_count": 66,
   "metadata": {},
   "outputs": [
    {
     "data": {
      "text/plain": [
       "1991523685064"
      ]
     },
     "execution_count": 66,
     "metadata": {},
     "output_type": "execute_result"
    }
   ],
   "source": [
    "id(d)"
   ]
  },
  {
   "cell_type": "code",
   "execution_count": 67,
   "metadata": {},
   "outputs": [
    {
     "name": "stdout",
     "output_type": "stream",
     "text": [
      "['__class__', '__contains__', '__copy__', '__delattr__', '__delitem__', '__dir__', '__doc__', '__eq__', '__format__', '__ge__', '__getattribute__', '__getitem__', '__gt__', '__hash__', '__init__', '__init_subclass__', '__iter__', '__le__', '__len__', '__lt__', '__missing__', '__ne__', '__new__', '__reduce__', '__reduce_ex__', '__repr__', '__setattr__', '__setitem__', '__sizeof__', '__str__', '__subclasshook__', 'clear', 'copy', 'default_factory', 'fromkeys', 'get', 'items', 'keys', 'pop', 'popitem', 'setdefault', 'update', 'values']\n"
     ]
    }
   ],
   "source": [
    "print(dir(d))"
   ]
  },
  {
   "cell_type": "code",
   "execution_count": 68,
   "metadata": {},
   "outputs": [],
   "source": [
    "d['course']='Ds'"
   ]
  },
  {
   "cell_type": "code",
   "execution_count": 69,
   "metadata": {},
   "outputs": [
    {
     "data": {
      "text/plain": [
       "defaultdict(None, {'name': 'sachin', 'course': 'Ds'})"
      ]
     },
     "execution_count": 69,
     "metadata": {},
     "output_type": "execute_result"
    }
   ],
   "source": [
    "d"
   ]
  },
  {
   "cell_type": "code",
   "execution_count": 70,
   "metadata": {},
   "outputs": [],
   "source": [
    "d.update(name='Samyak')"
   ]
  },
  {
   "cell_type": "code",
   "execution_count": 71,
   "metadata": {},
   "outputs": [
    {
     "data": {
      "text/plain": [
       "defaultdict(None, {'name': 'Samyak', 'course': 'Ds'})"
      ]
     },
     "execution_count": 71,
     "metadata": {},
     "output_type": "execute_result"
    }
   ],
   "source": [
    "d"
   ]
  },
  {
   "cell_type": "code",
   "execution_count": 72,
   "metadata": {},
   "outputs": [
    {
     "data": {
      "text/plain": [
       "'Samyak'"
      ]
     },
     "execution_count": 72,
     "metadata": {},
     "output_type": "execute_result"
    }
   ],
   "source": [
    "d.setdefault('name','sachin')"
   ]
  },
  {
   "cell_type": "code",
   "execution_count": 73,
   "metadata": {},
   "outputs": [
    {
     "data": {
      "text/plain": [
       "21"
      ]
     },
     "execution_count": 73,
     "metadata": {},
     "output_type": "execute_result"
    }
   ],
   "source": [
    "d.setdefault('age',21)"
   ]
  },
  {
   "cell_type": "code",
   "execution_count": 74,
   "metadata": {},
   "outputs": [
    {
     "data": {
      "text/plain": [
       "defaultdict(None, {'name': 'Samyak', 'course': 'Ds', 'age': 21})"
      ]
     },
     "execution_count": 74,
     "metadata": {},
     "output_type": "execute_result"
    }
   ],
   "source": [
    "d"
   ]
  },
  {
   "cell_type": "code",
   "execution_count": 75,
   "metadata": {},
   "outputs": [],
   "source": [
    "from collections import OrderedDict"
   ]
  },
  {
   "cell_type": "code",
   "execution_count": 76,
   "metadata": {},
   "outputs": [],
   "source": [
    "d=OrderedDict()"
   ]
  },
  {
   "cell_type": "code",
   "execution_count": 77,
   "metadata": {},
   "outputs": [
    {
     "data": {
      "text/plain": [
       "OrderedDict()"
      ]
     },
     "execution_count": 77,
     "metadata": {},
     "output_type": "execute_result"
    }
   ],
   "source": [
    "d"
   ]
  },
  {
   "cell_type": "code",
   "execution_count": 78,
   "metadata": {},
   "outputs": [],
   "source": [
    "d['Name']='sachin'"
   ]
  },
  {
   "cell_type": "code",
   "execution_count": 79,
   "metadata": {},
   "outputs": [
    {
     "data": {
      "text/plain": [
       "'sachin'"
      ]
     },
     "execution_count": 79,
     "metadata": {},
     "output_type": "execute_result"
    }
   ],
   "source": [
    "d['Name']"
   ]
  },
  {
   "cell_type": "code",
   "execution_count": 80,
   "metadata": {},
   "outputs": [
    {
     "name": "stdout",
     "output_type": "stream",
     "text": [
      "['__class__', '__contains__', '__delattr__', '__delitem__', '__dict__', '__dir__', '__doc__', '__eq__', '__format__', '__ge__', '__getattribute__', '__getitem__', '__gt__', '__hash__', '__init__', '__init_subclass__', '__iter__', '__le__', '__len__', '__lt__', '__ne__', '__new__', '__reduce__', '__reduce_ex__', '__repr__', '__reversed__', '__setattr__', '__setitem__', '__sizeof__', '__str__', '__subclasshook__', 'clear', 'copy', 'fromkeys', 'get', 'items', 'keys', 'move_to_end', 'pop', 'popitem', 'setdefault', 'update', 'values']\n"
     ]
    }
   ],
   "source": [
    "print(dir(d))"
   ]
  },
  {
   "cell_type": "code",
   "execution_count": 81,
   "metadata": {},
   "outputs": [],
   "source": [
    "d[\"course\"]='DS'\n",
    "d['Age']=21"
   ]
  },
  {
   "cell_type": "code",
   "execution_count": 82,
   "metadata": {},
   "outputs": [
    {
     "data": {
      "text/plain": [
       "OrderedDict([('Name', 'sachin'), ('course', 'DS'), ('Age', 21)])"
      ]
     },
     "execution_count": 82,
     "metadata": {},
     "output_type": "execute_result"
    }
   ],
   "source": [
    "d"
   ]
  },
  {
   "cell_type": "code",
   "execution_count": 83,
   "metadata": {},
   "outputs": [],
   "source": [
    "d.move_to_end('Name')"
   ]
  },
  {
   "cell_type": "code",
   "execution_count": 84,
   "metadata": {},
   "outputs": [
    {
     "data": {
      "text/plain": [
       "OrderedDict([('course', 'DS'), ('Age', 21), ('Name', 'sachin')])"
      ]
     },
     "execution_count": 84,
     "metadata": {},
     "output_type": "execute_result"
    }
   ],
   "source": [
    "d"
   ]
  },
  {
   "cell_type": "code",
   "execution_count": 85,
   "metadata": {},
   "outputs": [],
   "source": [
    "d.move_to_end('Name',last=False)"
   ]
  },
  {
   "cell_type": "code",
   "execution_count": 86,
   "metadata": {},
   "outputs": [
    {
     "data": {
      "text/plain": [
       "OrderedDict([('Name', 'sachin'), ('course', 'DS'), ('Age', 21)])"
      ]
     },
     "execution_count": 86,
     "metadata": {},
     "output_type": "execute_result"
    }
   ],
   "source": [
    "d"
   ]
  },
  {
   "cell_type": "code",
   "execution_count": 87,
   "metadata": {},
   "outputs": [],
   "source": [
    "print?"
   ]
  },
  {
   "cell_type": "code",
   "execution_count": 88,
   "metadata": {},
   "outputs": [
    {
     "name": "stdout",
     "output_type": "stream",
     "text": [
      "Help on built-in function print in module builtins:\n",
      "\n",
      "print(...)\n",
      "    print(value, ..., sep=' ', end='\\n', file=sys.stdout, flush=False)\n",
      "    \n",
      "    Prints the values to a stream, or to sys.stdout by default.\n",
      "    Optional keyword arguments:\n",
      "    file:  a file-like object (stream); defaults to the current sys.stdout.\n",
      "    sep:   string inserted between values, default a space.\n",
      "    end:   string appended after the last value, default a newline.\n",
      "    flush: whether to forcibly flush the stream.\n",
      "\n",
      "None\n"
     ]
    }
   ],
   "source": [
    "print(help(print))"
   ]
  },
  {
   "cell_type": "code",
   "execution_count": null,
   "metadata": {},
   "outputs": [],
   "source": [
    "print()#shift+tab---->for help"
   ]
  }
 ],
 "metadata": {
  "kernelspec": {
   "display_name": "Python 3",
   "language": "python",
   "name": "python3"
  },
  "language_info": {
   "codemirror_mode": {
    "name": "ipython",
    "version": 3
   },
   "file_extension": ".py",
   "mimetype": "text/x-python",
   "name": "python",
   "nbconvert_exporter": "python",
   "pygments_lexer": "ipython3",
   "version": "3.6.2"
  }
 },
 "nbformat": 4,
 "nbformat_minor": 2
}
