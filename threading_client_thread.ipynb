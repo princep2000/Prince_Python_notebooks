{
 "cells": [
  {
   "cell_type": "code",
   "execution_count": 1,
   "metadata": {},
   "outputs": [
    {
     "ename": "ConnectionResetError",
     "evalue": "[WinError 10054] An existing connection was forcibly closed by the remote host",
     "output_type": "error",
     "traceback": [
      "\u001b[1;31m---------------------------------------------------------------------------\u001b[0m",
      "\u001b[1;31mConnectionResetError\u001b[0m                      Traceback (most recent call last)",
      "\u001b[1;32m<ipython-input-1-af9be2dbbe48>\u001b[0m in \u001b[0;36m<module>\u001b[1;34m\u001b[0m\n\u001b[0;32m      8\u001b[0m \u001b[1;33m\u001b[0m\u001b[0m\n\u001b[0;32m      9\u001b[0m \u001b[1;32mwhile\u001b[0m \u001b[1;32mTrue\u001b[0m\u001b[1;33m:\u001b[0m\u001b[1;33m\u001b[0m\u001b[0m\n\u001b[1;32m---> 10\u001b[1;33m     \u001b[0mdata\u001b[0m\u001b[1;33m=\u001b[0m\u001b[0mclient\u001b[0m\u001b[1;33m.\u001b[0m\u001b[0mrecv\u001b[0m\u001b[1;33m(\u001b[0m\u001b[1;36m1024\u001b[0m\u001b[1;33m)\u001b[0m\u001b[1;33m.\u001b[0m\u001b[0mdecode\u001b[0m\u001b[1;33m(\u001b[0m\u001b[1;33m)\u001b[0m\u001b[1;33m\u001b[0m\u001b[0m\n\u001b[0m\u001b[0;32m     11\u001b[0m     \u001b[0mprint\u001b[0m\u001b[1;33m(\u001b[0m\u001b[1;34mf\"server--->{data}\"\u001b[0m\u001b[1;33m)\u001b[0m\u001b[1;33m\u001b[0m\u001b[0m\n\u001b[0;32m     12\u001b[0m     \u001b[1;32mif\u001b[0m \u001b[0mdata\u001b[0m\u001b[1;33m.\u001b[0m\u001b[0mlower\u001b[0m\u001b[1;33m(\u001b[0m\u001b[1;33m)\u001b[0m\u001b[1;33m==\u001b[0m\u001b[1;34m'bye'\u001b[0m\u001b[1;33m:\u001b[0m\u001b[1;33m\u001b[0m\u001b[0m\n",
      "\u001b[1;31mConnectionResetError\u001b[0m: [WinError 10054] An existing connection was forcibly closed by the remote host"
     ]
    }
   ],
   "source": [
    "import socket\n",
    "\n",
    "client=socket.socket()\n",
    "ip='192.168.43.182'\n",
    "port=12345\n",
    "\n",
    "client.connect((ip,port))\n",
    "\n",
    "while True:\n",
    "    data=client.recv(1024).decode()\n",
    "    print(f\"server--->{data}\")\n",
    "    if data.lower()=='bye':\n",
    "        break\n",
    "    msg=input('client--->')\n",
    "    client.send(msg.encode())\n",
    "\n",
    "client.close()"
   ]
  },
  {
   "cell_type": "code",
   "execution_count": 5,
   "metadata": {},
   "outputs": [],
   "source": [
    "import threading"
   ]
  },
  {
   "cell_type": "code",
   "execution_count": 6,
   "metadata": {},
   "outputs": [],
   "source": [
    "import time\n",
    "def hello(name):\n",
    "    for i in range(5):\n",
    "        time.sleep(1)\n",
    "        print(f\"{name} is running at: {time.strftime('%H:%M:%S')}\")"
   ]
  },
  {
   "cell_type": "code",
   "execution_count": 9,
   "metadata": {},
   "outputs": [],
   "source": [
    "def hi(name):\n",
    "    for i in range(5):\n",
    "        time.sleep(0.5)\n",
    "        print(f\"{name} is running at: {time.strftime('%H:%M:%S')}\")"
   ]
  },
  {
   "cell_type": "code",
   "execution_count": 17,
   "metadata": {},
   "outputs": [
    {
     "name": "stdout",
     "output_type": "stream",
     "text": [
      "sachin is running at: 21:01:13\n",
      "sachin is running at: 21:01:14\n",
      "sachin is running at: 21:01:15\n",
      "sachin is running at: 21:01:16\n",
      "sachin is running at: 21:01:17\n",
      "samyak is running at: 21:01:18\n",
      "samyak is running at: 21:01:18\n",
      "samyak is running at: 21:01:19\n",
      "samyak is running at: 21:01:19\n",
      "samyak is running at: 21:01:20\n",
      "total execution time:  7.5\n"
     ]
    }
   ],
   "source": [
    "c=time.monotonic()\n",
    "hello('sachin')\n",
    "hi('samyak')\n",
    "c1=time.monotonic()\n",
    "\n",
    "print('total execution time: ',c1-c)"
   ]
  },
  {
   "cell_type": "markdown",
   "metadata": {},
   "source": [
    "            thread1 = threading.Thread(target,args)\n",
    "            \n",
    "            \n",
    "            target---->function name\n",
    "            args------>Actual Arguments---->Type--->tuple\n",
    "            \n",
    "            \n",
    "            thread1.start()---->to start the thread\n",
    "            \n",
    "            \n",
    "            thread.join()----->Sign of end of thread"
   ]
  },
  {
   "cell_type": "code",
   "execution_count": 18,
   "metadata": {},
   "outputs": [
    {
     "name": "stdout",
     "output_type": "stream",
     "text": [
      "samyak is running at: 21:02:03\n",
      "sachin is running at: 21:02:03\n",
      "samyak is running at: 21:02:03\n",
      "samyak is running at: 21:02:04\n",
      "sachin is running at: 21:02:04\n",
      "samyak is running at: 21:02:04\n",
      "samyak is running at: 21:02:05\n",
      "sachin is running at: 21:02:05\n",
      "sachin is running at: 21:02:06\n",
      "sachin is running at: 21:02:07\n",
      "Total Execution time :  5.0\n",
      "Thread Over\n"
     ]
    }
   ],
   "source": [
    "t1 = threading.Thread(target=hello,args=('sachin',))\n",
    "t2 = threading.Thread(target=hi,args=('samyak',))\n",
    "\n",
    "c=time.monotonic()\n",
    "t1.start()\n",
    "t2.start()\n",
    "\n",
    "t1.join()\n",
    "t2.join()\n",
    "c1=time.monotonic()\n",
    "print('Total Execution time : ',c1-c)\n",
    "print('Thread Over')"
   ]
  },
  {
   "cell_type": "code",
   "execution_count": 2,
   "metadata": {},
   "outputs": [
    {
     "name": "stdout",
     "output_type": "stream",
     "text": [
      "client--->hii\n",
      "server--->hello\n",
      "server--->how are you\n",
      "server--->hgc\n",
      "server--->yg\n",
      "client--->bye\n",
      "server--->jd\n",
      "server--->bye\n"
     ]
    }
   ],
   "source": [
    "import socket\n",
    "import threading\n",
    "def send(client):\n",
    "    while True:\n",
    "        msg=input('client--->')\n",
    "        client.send(msg.encode())\n",
    "        if msg.lower()=='bye':\n",
    "            break\n",
    "        \n",
    "def recv(client):\n",
    "    while True:\n",
    "        data=client.recv(1024).decode()\n",
    "        print(f\"server--->{data}\")\n",
    "        if data=='bye':\n",
    "            break\n",
    "client=socket.socket()\n",
    "ip='192.168.43.182'\n",
    "port=12345\n",
    "\n",
    "client.connect((ip,port))\n",
    "\n",
    "    \n",
    "send_thread=threading.Thread(target=send,args=(client,))\n",
    "recv_thread=threading.Thread(target=recv,args=(client,))\n",
    "\n",
    "send_thread.start()\n",
    "recv_thread.start()\n",
    "\n",
    "send_thread.join()\n",
    "recv_thread.join()\n",
    "\n",
    "\n",
    "client.close()"
   ]
  },
  {
   "cell_type": "code",
   "execution_count": 7,
   "metadata": {},
   "outputs": [
    {
     "name": "stdout",
     "output_type": "stream",
     "text": [
      "File Received Successfully\n"
     ]
    }
   ],
   "source": [
    "import socket\n",
    "import time\n",
    "client=socket.socket()\n",
    "ip='192.168.43.202'\n",
    "port=12345\n",
    "\n",
    "client.connect((ip,port))\n",
    "f=open('image.jpg','wb')\n",
    "data=client.recv(1024)\n",
    "while data:\n",
    "    f.write(data)\n",
    "    #time.sleep(0.5)\n",
    "    data=client.recv(1024)\n",
    "f.close()\n",
    "print('File Received Successfully')\n",
    "client.close()"
   ]
  },
  {
   "cell_type": "code",
   "execution_count": 12,
   "metadata": {},
   "outputs": [],
   "source": [
    "f=open('download.jpg','rb')\n",
    "\n",
    "data=f.read()\n",
    "data=data[0:len(data)//2]\n",
    "f=open('image1.jpg','wb')\n",
    "f.write(data)\n",
    "f.close()"
   ]
  },
  {
   "cell_type": "code",
   "execution_count": null,
   "metadata": {},
   "outputs": [],
   "source": []
  }
 ],
 "metadata": {
  "kernelspec": {
   "display_name": "Python 3",
   "language": "python",
   "name": "python3"
  },
  "language_info": {
   "codemirror_mode": {
    "name": "ipython",
    "version": 3
   },
   "file_extension": ".py",
   "mimetype": "text/x-python",
   "name": "python",
   "nbconvert_exporter": "python",
   "pygments_lexer": "ipython3",
   "version": "3.6.2"
  }
 },
 "nbformat": 4,
 "nbformat_minor": 2
}
