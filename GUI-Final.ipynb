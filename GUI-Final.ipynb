{
 "cells": [
  {
   "cell_type": "code",
   "execution_count": 1,
   "metadata": {},
   "outputs": [],
   "source": [
    "from tkinter import *"
   ]
  },
  {
   "cell_type": "code",
   "execution_count": 3,
   "metadata": {},
   "outputs": [],
   "source": [
    "root = Tk()\n",
    "e=''\n",
    "\n",
    "def press_button(num):\n",
    "    global e\n",
    "    e=e+str(num)\n",
    "    exp.set(e)\n",
    "    \n",
    "def show_result():\n",
    "    global e\n",
    "    total=str(eval(e))\n",
    "    exp.set(total)\n",
    "    e=''\n",
    "    \n",
    "def clear():\n",
    "    global e\n",
    "    e=''\n",
    "    exp.set('')\n",
    "    \n",
    "exp=StringVar()\n",
    "\n",
    "entry=Entry(root,textvariable=exp,width=60,bg='gray')\n",
    "entry.grid(columnspan=4)\n",
    "\n",
    "bt1=Button(root,text='1',height=2,width=12,command= lambda : press_button(1))\n",
    "bt1.grid(row=4,column=0)\n",
    "bt2=Button(root,text='2',height=2,width=12,command= lambda : press_button(2))\n",
    "bt2.grid(row=4,column=1)\n",
    "bt3=Button(root,text='3',height=2,width=12,command= lambda : press_button(3))\n",
    "bt3.grid(row=4,column=2)\n",
    "bt4=Button(root,text='4',height=2,width=12,command= lambda : press_button(4))\n",
    "bt4.grid(row=4,column=3)\n",
    "bt5=Button(root,text='5',height=2,width=12,command= lambda : press_button(5))\n",
    "bt5.grid(row=1,column=0)\n",
    "bt6=Button(root,text='6',height=2,width=12,command= lambda : press_button(6))\n",
    "bt6.grid(row=1,column=1)\n",
    "bt7=Button(root,text='7',height=2,width=12,command= lambda : press_button(7))\n",
    "bt7.grid(row=1,column=2)\n",
    "bt8=Button(root,text='8',height=2,width=12,command= lambda : press_button(8))\n",
    "bt8.grid(row=1,column=3)\n",
    "bt9=Button(root,text='9',height=2,width=12,command= lambda : press_button(9))\n",
    "bt9.grid(row=2,column=0)\n",
    "bt0=Button(root,text='0',height=2,width=12,command= lambda : press_button(0))\n",
    "bt0.grid(row=2,column=1)\n",
    "\n",
    "plus=Button(root,text='+',height=2,width=12,command= lambda : press_button('+'))\n",
    "plus.grid(row=2,column=2)\n",
    "\n",
    "minus=Button(root,text='-',height=2,width=12,command= lambda : press_button('-'))\n",
    "minus.grid(row=2,column=3)\n",
    "\n",
    "mul=Button(root,text='*',height=2,width=12,command= lambda : press_button('*'))\n",
    "mul.grid(row=3,column=0)\n",
    "\n",
    "div=Button(root,text='/',height=2,width=12,command= lambda : press_button('/'))\n",
    "div.grid(row=3,column=1)\n",
    "\n",
    "equal=Button(root,text='=',height=2,width=12,command=show_result)\n",
    "equal.grid(row=3,column=2)\n",
    "\n",
    "clear=Button(root,text='C',height=2,width=12,command=clear)\n",
    "clear.grid(row=3,column=3)\n",
    "\n",
    "\n",
    "\n",
    "\n",
    "root.mainloop()"
   ]
  },
  {
   "cell_type": "code",
   "execution_count": 20,
   "metadata": {},
   "outputs": [],
   "source": [
    "#1.Complete the remaining work for GUI Calculator"
   ]
  },
  {
   "cell_type": "code",
   "execution_count": 21,
   "metadata": {},
   "outputs": [
    {
     "name": "stdout",
     "output_type": "stream",
     "text": [
      "State,Confirmed,Recovered,Deaths,Active\n",
      "Total,1312551,831059,30821,450253\n",
      "Maharashtra,347502,194253,12854,140093\n",
      "Tamil Nadu,199749,143297,3320,53132\n",
      "Delhi,127364,109065,3745,14554\n",
      "Karnataka,85870,31347,1616,52898\n",
      "Andhra Pradesh,80858,39935,933,39990\n",
      "Uttar Pradesh,58104,35803,1298,21003\n",
      "Gujarat,52563,38059,2256,12248\n",
      "West Bengal,51757,31656,1255,18846\n",
      "Telangana,50826,39327,447,11052\n",
      "Rajasthan,33595,23872,598,9125\n",
      "Bihar,33511,22832,221,10457\n",
      "Haryana,28975,22249,378,6348\n",
      "Assam,28792,20700,70,8019\n",
      "Madhya Pradesh,25474,17359,780,7335\n",
      "Odisha,22693,14393,153,8147\n",
      "Jammu and Kashmir,16782,9217,296,7269\n",
      "Kerala,16111,6594,51,9458\n",
      "Punjab,11739,7741,277,3721\n",
      "Jharkhand,7250,3254,69,3927\n",
      "Chhattisgarh,6370,4387,34,1949\n",
      "Uttarakhand,5445,3399,60,1948\n",
      "Goa,4350,2655,29,1666\n",
      "Tripura,3677,2072,10,1577\n",
      "Puducherry,2515,1483,35,997\n",
      "Manipur,2115,1460,0,655\n",
      "Himachal Pradesh,1848,1141,12,680\n",
      "Ladakh,1210,1025,2,183\n",
      "Nagaland,1239,537,0,702\n",
      "Arunachal Pradesh,991,334,3,654\n",
      "Chandigarh,823,535,13,275\n",
      "Dadra and Nagar Haveli and Daman and Diu,850,516,2,322\n",
      "Meghalaya,558,87,4,467\n",
      "Sikkim,473,122,0,338\n",
      "Mizoram,332,183,0,149\n",
      "Andaman and Nicobar Islands,240,170,0,69\n",
      "State Unassigned,0,0,0,0\n",
      "Lakshadweep,0,0,0,0\n"
     ]
    }
   ],
   "source": [
    "!type state_wise.csv"
   ]
  },
  {
   "cell_type": "code",
   "execution_count": 22,
   "metadata": {},
   "outputs": [],
   "source": [
    "f=open('state_wise.csv')"
   ]
  },
  {
   "cell_type": "code",
   "execution_count": 23,
   "metadata": {},
   "outputs": [],
   "source": [
    "data=f.read()"
   ]
  },
  {
   "cell_type": "code",
   "execution_count": 25,
   "metadata": {},
   "outputs": [],
   "source": [
    "data=data.split('\\n')[2:-2]"
   ]
  },
  {
   "cell_type": "code",
   "execution_count": 27,
   "metadata": {},
   "outputs": [],
   "source": [
    "data=data[:-1]"
   ]
  },
  {
   "cell_type": "code",
   "execution_count": 28,
   "metadata": {},
   "outputs": [
    {
     "data": {
      "text/plain": [
       "['Maharashtra,347502,194253,12854,140093',\n",
       " 'Tamil Nadu,199749,143297,3320,53132',\n",
       " 'Delhi,127364,109065,3745,14554',\n",
       " 'Karnataka,85870,31347,1616,52898',\n",
       " 'Andhra Pradesh,80858,39935,933,39990',\n",
       " 'Uttar Pradesh,58104,35803,1298,21003',\n",
       " 'Gujarat,52563,38059,2256,12248',\n",
       " 'West Bengal,51757,31656,1255,18846',\n",
       " 'Telangana,50826,39327,447,11052',\n",
       " 'Rajasthan,33595,23872,598,9125',\n",
       " 'Bihar,33511,22832,221,10457',\n",
       " 'Haryana,28975,22249,378,6348',\n",
       " 'Assam,28792,20700,70,8019',\n",
       " 'Madhya Pradesh,25474,17359,780,7335',\n",
       " 'Odisha,22693,14393,153,8147',\n",
       " 'Jammu and Kashmir,16782,9217,296,7269',\n",
       " 'Kerala,16111,6594,51,9458',\n",
       " 'Punjab,11739,7741,277,3721',\n",
       " 'Jharkhand,7250,3254,69,3927',\n",
       " 'Chhattisgarh,6370,4387,34,1949',\n",
       " 'Uttarakhand,5445,3399,60,1948',\n",
       " 'Goa,4350,2655,29,1666',\n",
       " 'Tripura,3677,2072,10,1577',\n",
       " 'Puducherry,2515,1483,35,997',\n",
       " 'Manipur,2115,1460,0,655',\n",
       " 'Himachal Pradesh,1848,1141,12,680',\n",
       " 'Ladakh,1210,1025,2,183',\n",
       " 'Nagaland,1239,537,0,702',\n",
       " 'Arunachal Pradesh,991,334,3,654',\n",
       " 'Chandigarh,823,535,13,275',\n",
       " 'Dadra and Nagar Haveli and Daman and Diu,850,516,2,322',\n",
       " 'Meghalaya,558,87,4,467',\n",
       " 'Sikkim,473,122,0,338',\n",
       " 'Mizoram,332,183,0,149',\n",
       " 'Andaman and Nicobar Islands,240,170,0,69']"
      ]
     },
     "execution_count": 28,
     "metadata": {},
     "output_type": "execute_result"
    }
   ],
   "source": [
    "data"
   ]
  },
  {
   "cell_type": "code",
   "execution_count": 34,
   "metadata": {},
   "outputs": [],
   "source": [
    "l=list()\n",
    "for i in data:\n",
    "    l.append((i.split(',')))"
   ]
  },
  {
   "cell_type": "code",
   "execution_count": 4,
   "metadata": {},
   "outputs": [
    {
     "ename": "NameError",
     "evalue": "name 'l' is not defined",
     "output_type": "error",
     "traceback": [
      "\u001b[1;31m---------------------------------------------------------------------------\u001b[0m",
      "\u001b[1;31mNameError\u001b[0m                                 Traceback (most recent call last)",
      "\u001b[1;32m<ipython-input-4-cde25b5e10ad>\u001b[0m in \u001b[0;36m<module>\u001b[1;34m\u001b[0m\n\u001b[1;32m----> 1\u001b[1;33m \u001b[0ml\u001b[0m\u001b[1;33m\u001b[0m\u001b[0m\n\u001b[0m",
      "\u001b[1;31mNameError\u001b[0m: name 'l' is not defined"
     ]
    }
   ],
   "source": [
    "l"
   ]
  },
  {
   "cell_type": "code",
   "execution_count": 37,
   "metadata": {},
   "outputs": [],
   "source": [
    "import pymysql as sql\n",
    "db=sql.connect(host='localhost',port=3306,user='root',password='',database='corona_update')\n",
    "cur=db.cursor()\n",
    "for i in l:\n",
    "    cmd=f\"insert into data values('{i[0]}',{int(i[1])},{int(i[2])},{int(i[3])},{int(i[4])})\"\n",
    "    cur.execute(cmd)\n",
    "    db.commit()"
   ]
  },
  {
   "cell_type": "code",
   "execution_count": 38,
   "metadata": {},
   "outputs": [],
   "source": []
  },
  {
   "cell_type": "code",
   "execution_count": 48,
   "metadata": {},
   "outputs": [],
   "source": [
    "from tkinter import *\n",
    "import pymysql as sql\n",
    "db=sql.connect(host='localhost',port=3306,user='root',password='',database='corona_update')\n",
    "cur=db.cursor()\n",
    "root = Tk()\n",
    "\n",
    "def confirm():\n",
    "    gui = Tk()\n",
    "    gui.config(bg='gray')\n",
    "    cmd='select State,Confirmed from data'\n",
    "    cur.execute(cmd)\n",
    "    data=cur.fetchall()\n",
    "    lb=Listbox(gui,bg='gray',height=100,width=50,font=5)\n",
    "    for i in range(len(data)):\n",
    "        lb.insert(i,f\"{data[i][0]}:{data[i][1] :>10}\")\n",
    "    lb.pack()\n",
    "    gui.geometry('500x600')\n",
    "    gui.mainloop()\n",
    "    \n",
    "    \n",
    "def recover():\n",
    "    gui = Tk()\n",
    "    gui.config(bg='gray')\n",
    "    cmd='select State,recovered from data'\n",
    "    cur.execute(cmd)\n",
    "    data=cur.fetchall()\n",
    "    lb=Listbox(gui,bg='gray',height=100,width=50,font=5)\n",
    "    for i in range(len(data)):\n",
    "        lb.insert(i,f\"{data[i][0]}:{data[i][1] :>10}\")\n",
    "    lb.pack()\n",
    "    gui.geometry('500x600')\n",
    "    gui.mainloop()\n",
    "        \n",
    "def death():\n",
    "    gui = Tk()\n",
    "    gui.config(bg='gray')\n",
    "    cmd='select State,deaths from data'\n",
    "    cur.execute(cmd)\n",
    "    data=cur.fetchall()\n",
    "    lb=Listbox(gui,bg='gray',height=100,width=50,font=5)\n",
    "    for i in range(len(data)):\n",
    "        lb.insert(i,f\"{data[i][0]}:{data[i][1] :>10}\")\n",
    "    lb.pack()\n",
    "    gui.geometry('500x600')\n",
    "    gui.mainloop()\n",
    "    \n",
    "def active():\n",
    "    gui = Tk()\n",
    "    gui.config(bg='gray')\n",
    "    cmd='select State,active from data'\n",
    "    cur.execute(cmd)\n",
    "    data=cur.fetchall()\n",
    "    lb=Listbox(gui,bg='gray',height=100,width=50,font=5)\n",
    "    for i in range(len(data)):\n",
    "        lb.insert(i,f\"{data[i][0]}:{data[i][1] :>10}\")\n",
    "    lb.pack()\n",
    "    gui.geometry('500x600')\n",
    "    gui.mainloop()\n",
    "        \n",
    "\n",
    "bt1=Button(root,height=3,width=30,bg='blue',fg='white',text='State Wise Confirmed',command=confirm)\n",
    "bt1.pack(pady=20)\n",
    "bt2=Button(root,height=3,width=30,bg='blue',fg='white',text='State Wise Recovered',command=recover)\n",
    "bt2.pack(pady=20)\n",
    "bt3=Button(root,height=3,width=30,bg='blue',fg='white',text='State Wise Deaths',command=death)\n",
    "bt3.pack(pady=20)\n",
    "bt4=Button(root,height=3,width=30,bg='blue',fg='white',text='State Wise Active',command=active)\n",
    "bt4.pack(pady=20)\n",
    "\n",
    "root.geometry('400x400')\n",
    "root.mainloop()"
   ]
  },
  {
   "cell_type": "code",
   "execution_count": 49,
   "metadata": {},
   "outputs": [],
   "source": [
    "#IRCTC ----> Train Number, Name , Source destination,Total Time Stopage ----> ',,,,,,, seperated'"
   ]
  },
  {
   "cell_type": "code",
   "execution_count": 50,
   "metadata": {},
   "outputs": [],
   "source": [
    "#GUI Application ----->Train Number -----> Window"
   ]
  },
  {
   "cell_type": "code",
   "execution_count": 51,
   "metadata": {},
   "outputs": [],
   "source": [
    "#Notepad Creation -----> New ----> Window -----> save"
   ]
  },
  {
   "cell_type": "code",
   "execution_count": 52,
   "metadata": {},
   "outputs": [],
   "source": [
    "#Color Game ----> "
   ]
  },
  {
   "cell_type": "markdown",
   "metadata": {},
   "source": [
    "            [show the name of 10 popular colors] -----> rgb cym black gray white orange\n",
    "            \n",
    "            \n",
    "               random.choice[]\n",
    "               \n",
    "               red ---->\n",
    "               \n",
    "               \n",
    "               score - incremented by 1\n",
    "               \n",
    "               time left ---> 60\n",
    "               \n",
    "               \n",
    "              "
   ]
  }
 ],
 "metadata": {
  "kernelspec": {
   "display_name": "Python 3",
   "language": "python",
   "name": "python3"
  },
  "language_info": {
   "codemirror_mode": {
    "name": "ipython",
    "version": 3
   },
   "file_extension": ".py",
   "mimetype": "text/x-python",
   "name": "python",
   "nbconvert_exporter": "python",
   "pygments_lexer": "ipython3",
   "version": "3.6.2"
  }
 },
 "nbformat": 4,
 "nbformat_minor": 2
}
