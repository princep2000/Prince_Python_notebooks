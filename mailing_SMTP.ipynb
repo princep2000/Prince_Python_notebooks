{
 "cells": [
  {
   "cell_type": "markdown",
   "metadata": {},
   "source": [
    "                SMTP----> Simple Mail Transfer Protocol"
   ]
  },
  {
   "cell_type": "markdown",
   "metadata": {},
   "source": [
    "                SSL-----> Secure Socket Layer--->465\n",
    "                \n",
    "                TLS ----> Tranport Layer Security--->587"
   ]
  },
  {
   "cell_type": "code",
   "execution_count": 3,
   "metadata": {},
   "outputs": [
    {
     "name": "stdout",
     "output_type": "stream",
     "text": [
      "Enter your password········\n",
      "Message Sent Successfully\n"
     ]
    }
   ],
   "source": [
    "import smtplib,ssl\n",
    "from getpass import getpass\n",
    "self = 'jainited.1008@gmail.com'\n",
    "\n",
    "dest = ['gauravish151297@gmail.com','shovikbiswas17@gmail.com']\n",
    "\n",
    "password=getpass('Enter your password')\n",
    "\n",
    "host = 'smtp.gmail.com'\n",
    "port = 587\n",
    "\n",
    "message = 'Hello World to Python'\n",
    "try:\n",
    "    server = smtplib.SMTP(host,port)\n",
    "    server.starttls()#Certificate Generation Process\n",
    "    server.login(self,password)\n",
    "    server.sendmail(self,dest,message)\n",
    "except Exception as e:\n",
    "    print(a)\n",
    "else:\n",
    "    print('Message Sent Successfully')"
   ]
  },
  {
   "cell_type": "markdown",
   "metadata": {},
   "source": [
    "            MIME ----> Multipurpose Internet Mail Extensions"
   ]
  },
  {
   "cell_type": "code",
   "execution_count": 2,
   "metadata": {},
   "outputs": [
    {
     "name": "stdout",
     "output_type": "stream",
     "text": [
      "Enter your Password: ········\n",
      "Message sent successfully\n"
     ]
    }
   ],
   "source": [
    "import smtplib,ssl\n",
    "from getpass import getpass\n",
    "from email.mime.multipart import MIMEMultipart\n",
    "from email.mime.text import MIMEText\n",
    "\n",
    "self = 'p2k17k@gmail.com'\n",
    "dest='prince.gce@yahoo.com'\n",
    "password=getpass('Enter your Password: ')\n",
    "host='smtp.gmail.com'\n",
    "port=465\n",
    "\n",
    "message = MIMEMultipart()\n",
    "message['Subject']='Just4Check'\n",
    "#message['To']=dest\n",
    "#message['From']=self\n",
    "\n",
    "content = \"\"\"\n",
    "<html>\n",
    "<body>\n",
    "<h1 style='color:red;font-size:20px'>This is the Response from Python script</h1>\n",
    "<a href='https://www.grras.com' target=_blank;style='font-size:20px;'>Grras</a>\n",
    "<img src='https://images.pexels.com/photos/736230/pexels-photo-736230.jpeg?auto=compress&cs=tinysrgb&dpr=1&w=500' alt='This Image is not supported for your system'>\n",
    "</body>\n",
    "</html>\"\"\"\n",
    "try:\n",
    "    m = MIMEText(content,'html')\n",
    "    message.attach(m)\n",
    "    server=smtplib.SMTP_SSL(host,port)\n",
    "    server.login(self,password)\n",
    "    server.sendmail(self,dest,message.as_string())\n",
    "except Exception as e:\n",
    "    print(e)\n",
    "else:\n",
    "    print('Message sent successfully')"
   ]
  },
  {
   "cell_type": "code",
   "execution_count": 13,
   "metadata": {},
   "outputs": [],
   "source": [
    "#Document---->Pdf Download"
   ]
  },
  {
   "cell_type": "code",
   "execution_count": 17,
   "metadata": {},
   "outputs": [
    {
     "name": "stdout",
     "output_type": "stream",
     "text": [
      "Writing send_email.py\n"
     ]
    }
   ],
   "source": [
    "%%writefile send_email.py\n",
    "import sys\n",
    "import smtplib,ssl\n",
    "from getpass import getpass\n",
    "self = input('Enter Your Email Address: ')\n",
    "\n",
    "dest = sys.argv[1:]\n",
    "\n",
    "password=getpass('Enter your password')\n",
    "\n",
    "host = 'smtp.gmail.com'\n",
    "port = 587\n",
    "\n",
    "message = 'Hello World to Python'\n",
    "try:\n",
    "    server = smtplib.SMTP(host,port)\n",
    "    server.starttls()#Certificate Generation Process\n",
    "    server.login(self,password)\n",
    "    server.sendmail(self,dest,message)\n",
    "except Exception as e:\n",
    "    print(a)\n",
    "else:\n",
    "    print('Message Sent Successfully')"
   ]
  },
  {
   "cell_type": "code",
   "execution_count": 14,
   "metadata": {},
   "outputs": [],
   "source": [
    "import sys"
   ]
  },
  {
   "cell_type": "code",
   "execution_count": 16,
   "metadata": {},
   "outputs": [
    {
     "data": {
      "text/plain": [
       "['C:\\\\Users\\\\hp\\\\Anaconda3\\\\lib\\\\site-packages\\\\ipykernel_launcher.py',\n",
       " '-f',\n",
       " 'C:\\\\Users\\\\hp\\\\AppData\\\\Roaming\\\\jupyter\\\\runtime\\\\kernel-43f1552a-9dc7-434a-9a24-fad89279c2d3.json']"
      ]
     },
     "execution_count": 16,
     "metadata": {},
     "output_type": "execute_result"
    }
   ],
   "source": [
    "sys.argv"
   ]
  },
  {
   "cell_type": "markdown",
   "metadata": {},
   "source": [
    "            GUI---->Graphical User Interface......"
   ]
  },
  {
   "cell_type": "code",
   "execution_count": 3,
   "metadata": {},
   "outputs": [
    {
     "name": "stdout",
     "output_type": "stream",
     "text": [
      "Enter password········\n",
      "[WinError 10060] A connection attempt failed because the connected party did not properly respond after a period of time, or established connection failed because connected host has failed to respond\n"
     ]
    }
   ],
   "source": [
    "import smtplib,ssl\n",
    "from getpass import getpass\n",
    "\n",
    "mine='p2k17k@gmail.com'\n",
    "pwd=getpass('Enter password')\n",
    "dest='sssprince786@gmail.com'\n",
    "host='smtp.google.com'\n",
    "port=587\n",
    "message='This is mail is from python script'\n",
    "try:\n",
    "    \n",
    "    server=smtplib.SMTP(host,port)\n",
    "    server.starttls()\n",
    "    server.login(mine,pwd)\n",
    "    server.sendmail(mine,dest,message)\n",
    "except Exception as e:\n",
    "    print(e)\n",
    "else:\n",
    "    print('Mail sent succesfully')"
   ]
  },
  {
   "cell_type": "code",
   "execution_count": 10,
   "metadata": {},
   "outputs": [
    {
     "name": "stdout",
     "output_type": "stream",
     "text": [
      "Enter your password········\n",
      "Message Sent Successfully\n"
     ]
    }
   ],
   "source": [
    "import smtplib,ssl\n",
    "from getpass import getpass\n",
    "self = 'p2k17k@gmail.com'\n",
    "\n",
    "dest ='sssprince786@gmail.com'\n",
    "\n",
    "password=getpass('Enter your password')\n",
    "\n",
    "host = 'smtp.gmail.com'\n",
    "port = 587\n",
    "\n",
    "message = 'Hello World to Python'\n",
    "try:\n",
    "    server = smtplib.SMTP(host,port)\n",
    "    server.starttls()#Certificate Generation Process\n",
    "    server.login(self,password)\n",
    "    server.sendmail(self,dest,message)\n",
    "except Exception as e:\n",
    "    print(e)\n",
    "else:\n",
    "    print('Message Sent Successfully')"
   ]
  },
  {
   "cell_type": "code",
   "execution_count": 2,
   "metadata": {},
   "outputs": [
    {
     "name": "stdout",
     "output_type": "stream",
     "text": [
      "Enter your Password: ········\n",
      "'_io.BufferedReader' object has no attribute 'encode'\n"
     ]
    }
   ],
   "source": [
    "import smtplib,ssl\n",
    "from getpass import getpass\n",
    "from email.mime.multipart import MIMEMultipart\n",
    "from email.mime.text import MIMEText\n",
    "\n",
    "self = 'p2k17k@gmail.com'\n",
    "dest='prince.gce@yahoo.com'\n",
    "password=getpass('Enter your Password: ')\n",
    "host='smtp.gmail.com'\n",
    "port=465\n",
    "\n",
    "message = MIMEMultipart()\n",
    "message['Subject']='Notice'\n",
    "message['To']=dest\n",
    "message['From']=self\n",
    "pdf=open('prince_assignment1.pdf','rb')\n",
    "\n",
    "try:\n",
    "    m = MIMEText(pdf,'rb')\n",
    "    message.attach(m)\n",
    "    server=smtplib.SMTP_SSL(host,port)\n",
    "    server.login(self,password)\n",
    "    server.sendmail(self,dest,message.as_string())\n",
    "except Exception as e:\n",
    "    print(e)\n",
    "else:\n",
    "    print('Message sent successfully')"
   ]
  },
  {
   "cell_type": "code",
   "execution_count": 11,
   "metadata": {},
   "outputs": [
    {
     "data": {
      "text/plain": [
       "['c:\\\\python36\\\\lib\\\\site-packages\\\\ipykernel_launcher.py',\n",
       " '-f',\n",
       " 'C:\\\\Users\\\\PRINCE PRIYADARSHI\\\\AppData\\\\Roaming\\\\jupyter\\\\runtime\\\\kernel-b3ac6b98-42ed-48f4-b45c-e0f10c3dc2c4.json']"
      ]
     },
     "execution_count": 11,
     "metadata": {},
     "output_type": "execute_result"
    }
   ],
   "source": [
    "import sys\n",
    "sys.argv"
   ]
  },
  {
   "cell_type": "code",
   "execution_count": null,
   "metadata": {},
   "outputs": [],
   "source": []
  }
 ],
 "metadata": {
  "kernelspec": {
   "display_name": "Python 3",
   "language": "python",
   "name": "python3"
  },
  "language_info": {
   "codemirror_mode": {
    "name": "ipython",
    "version": 3
   },
   "file_extension": ".py",
   "mimetype": "text/x-python",
   "name": "python",
   "nbconvert_exporter": "python",
   "pygments_lexer": "ipython3",
   "version": "3.6.2"
  }
 },
 "nbformat": 4,
 "nbformat_minor": 2
}
