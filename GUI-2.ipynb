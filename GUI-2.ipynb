{
 "cells": [
  {
   "cell_type": "markdown",
   "metadata": {},
   "source": [
    "    root ---> main window\n",
    "    \n",
    "    frame ----> inside root window\n",
    "    \n",
    "    button\n",
    "    \n",
    "    entry "
   ]
  },
  {
   "cell_type": "code",
   "execution_count": 1,
   "metadata": {},
   "outputs": [],
   "source": [
    "from tkinter import *"
   ]
  },
  {
   "cell_type": "code",
   "execution_count": 11,
   "metadata": {},
   "outputs": [],
   "source": [
    "root = Tk()\n",
    "\n",
    "label=Label(root,text='Hello World')\n",
    "label.pack(pady=20)\n",
    "root.geometry('500x400')\n",
    "root.config(bg='gray')\n",
    "root.mainloop()"
   ]
  },
  {
   "cell_type": "code",
   "execution_count": 12,
   "metadata": {},
   "outputs": [],
   "source": [
    "#time remaining ---> time automatic "
   ]
  },
  {
   "cell_type": "code",
   "execution_count": 26,
   "metadata": {},
   "outputs": [],
   "source": [
    "import random\n",
    "root = Tk()\n",
    "def press():\n",
    "    color1='#'+''.join([random.choice('abcdef0123456789') for i in range(6)])\n",
    "    color2='#'+''.join([random.choice('abcdef0123456789') for i in range(6)])\n",
    "    label=Label(root,height=2,width=20,text='Hello world',background=color1,foreground=color2)\n",
    "    label.pack()\n",
    "bt=Button(root,height=2,width=10,command=press,text='Enter')\n",
    "bt.pack(anchor='center',pady=20)\n",
    "root.geometry('500x400')\n",
    "root.mainloop()"
   ]
  },
  {
   "cell_type": "code",
   "execution_count": 25,
   "metadata": {},
   "outputs": [
    {
     "data": {
      "text/plain": [
       "'#4d8b05'"
      ]
     },
     "execution_count": 25,
     "metadata": {},
     "output_type": "execute_result"
    }
   ],
   "source": [
    "import random\n",
    "\n"
   ]
  },
  {
   "cell_type": "code",
   "execution_count": 2,
   "metadata": {},
   "outputs": [],
   "source": [
    "root = Tk()\n",
    "msg=Message(root,text='Hello World to Python',bg='lightblue',fg='green')\n",
    "msg.pack()\n",
    "root.geometry('500x300')\n",
    "root.mainloop()"
   ]
  },
  {
   "cell_type": "code",
   "execution_count": 35,
   "metadata": {},
   "outputs": [],
   "source": [
    "root = Tk()\n",
    "v=IntVar()\n",
    "\n",
    "r1=Radiobutton(root,text='Python',variable=v,value=1)\n",
    "r2=Radiobutton(root,text='DS',variable=v,value=2)\n",
    "r1.pack(anchor='w')\n",
    "r2.pack(anchor='w')\n",
    "\n",
    "root.mainloop()"
   ]
  },
  {
   "cell_type": "markdown",
   "metadata": {},
   "source": [
    "    radion button ----> gender ----< Male Female ----> Male Female,name ----> Male ,Female\n",
    "    \n",
    "    check button -----> courses ----> DS python aws ----> value =1"
   ]
  },
  {
   "cell_type": "code",
   "execution_count": 41,
   "metadata": {},
   "outputs": [],
   "source": [
    "root = Tk()\n",
    "\n",
    "sc = Scale(root)\n",
    "sc.config(from_=1,to=50)\n",
    "sc.pack()\n",
    "\n",
    "root.mainloop()"
   ]
  },
  {
   "cell_type": "code",
   "execution_count": 3,
   "metadata": {},
   "outputs": [],
   "source": [
    "root = Tk()\n",
    "\n",
    "txt = Text(root,height=2,width=11,bg='gray')\n",
    "txt.pack()\n",
    "\n",
    "txt.insert(END,'Hello World to Python')\n",
    "root.geometry('500x300')\n",
    "root.mainloop()"
   ]
  },
  {
   "cell_type": "code",
   "execution_count": 14,
   "metadata": {},
   "outputs": [],
   "source": [
    "root = Tk()\n",
    "def new():\n",
    "    gui=Tk()\n",
    "    \n",
    "    gui.mainloop()\n",
    "\n",
    "menu = Menu(root)\n",
    "root.config(background='gray',menu=menu)\n",
    "\n",
    "file=Menu(menu)\n",
    "menu.add_cascade(label='File',menu=file)\n",
    "file.add_cascade(label=\"New\",command=new)\n",
    "file.add_command(label='Open')\n",
    "file.add_separator()\n",
    "file.add_command(label='Exit',command=root.destroy)\n",
    "\n",
    "helpmenu=Menu(menu)\n",
    "menu.add_cascade(label='Help',menu=helpmenu)\n",
    "helpmenu.add_cascade(label='About')\n",
    "\n",
    "txt=Text(root,height=30,width=100)\n",
    "txt.pack()\n",
    "\n",
    "\n",
    "root.mainloop()"
   ]
  },
  {
   "cell_type": "code",
   "execution_count": 67,
   "metadata": {},
   "outputs": [],
   "source": [
    "root = Tk()\n",
    "\n",
    "lb=Listbox(root,fg='red',font=('Calibri',30,'bold'))\n",
    "lb.insert(1,'Python')\n",
    "lb.insert(2,'HTML')\n",
    "lb.insert(3,'DS')\n",
    "lb.pack()\n",
    "root.mainloop()"
   ]
  },
  {
   "cell_type": "code",
   "execution_count": 7,
   "metadata": {},
   "outputs": [
    {
     "name": "stderr",
     "output_type": "stream",
     "text": [
      "Exception in Tkinter callback\n",
      "Traceback (most recent call last):\n",
      "  File \"c:\\python36\\lib\\tkinter\\__init__.py\", line 1699, in __call__\n",
      "    return self.func(*args)\n",
      "  File \"<ipython-input-7-0c805b261d2c>\", line 8, in seconds\n",
      "    sec=int(entry.get())\n",
      "ValueError: invalid literal for int() with base 10: ''\n"
     ]
    }
   ],
   "source": [
    "import time\n",
    "import random\n",
    "\n",
    "root=Tk()\n",
    "sec=0\n",
    "def seconds():\n",
    "    global sec\n",
    "    sec=int(entry.get())\n",
    "    entry.destroy()\n",
    "    bt2.destroy()\n",
    "    \n",
    "#sec=int(input('Enter the Minute: '))*60\n",
    "c=0\n",
    "def start_time():\n",
    "    global c\n",
    "    s=f\"Time Remaining: {sec-c}\"\n",
    "    color1='#'+''.join([random.choice('abcdef0123456789') for i in range(6)])\n",
    "    label.config(text=s,background=color1)\n",
    "    c+=1\n",
    "    if c==sec:\n",
    "        root.destroy()\n",
    "    label.after(1000,start_time)\n",
    "\n",
    "label=Label(root,font=('Times',50,'bold'),fg='white')\n",
    "label.pack()\n",
    "\n",
    "entry=Entry(root)\n",
    "entry.pack(ipady=10)\n",
    "\n",
    "bt=Button(root,text='Start',width=20,height=2,command=start_time,bg='black',fg='red')\n",
    "bt.pack()\n",
    "\n",
    "bt1=Button(root,text='Exit',width=20,height=2,command=root.destroy,bg='gray',fg='white')\n",
    "bt1.pack()\n",
    "bt2=Button(root,text='Get Seconds',width=20,height=2,command=seconds,bg='lightblue',fg='gold')\n",
    "bt2.pack()\n",
    "\n",
    "\n",
    "root.wm_minsize(300,300)\n",
    "root.mainloop()"
   ]
  },
  {
   "cell_type": "code",
   "execution_count": 82,
   "metadata": {},
   "outputs": [],
   "source": [
    "#Calendar ---> year input---> "
   ]
  },
  {
   "cell_type": "code",
   "execution_count": 83,
   "metadata": {},
   "outputs": [],
   "source": [
    "import calendar"
   ]
  },
  {
   "cell_type": "code",
   "execution_count": 85,
   "metadata": {},
   "outputs": [
    {
     "name": "stdout",
     "output_type": "stream",
     "text": [
      "                                  2020\n",
      "\n",
      "      January                   February                   March\n",
      "Mo Tu We Th Fr Sa Su      Mo Tu We Th Fr Sa Su      Mo Tu We Th Fr Sa Su\n",
      "       1  2  3  4  5                      1  2                         1\n",
      " 6  7  8  9 10 11 12       3  4  5  6  7  8  9       2  3  4  5  6  7  8\n",
      "13 14 15 16 17 18 19      10 11 12 13 14 15 16       9 10 11 12 13 14 15\n",
      "20 21 22 23 24 25 26      17 18 19 20 21 22 23      16 17 18 19 20 21 22\n",
      "27 28 29 30 31            24 25 26 27 28 29         23 24 25 26 27 28 29\n",
      "                                                    30 31\n",
      "\n",
      "       April                      May                       June\n",
      "Mo Tu We Th Fr Sa Su      Mo Tu We Th Fr Sa Su      Mo Tu We Th Fr Sa Su\n",
      "       1  2  3  4  5                   1  2  3       1  2  3  4  5  6  7\n",
      " 6  7  8  9 10 11 12       4  5  6  7  8  9 10       8  9 10 11 12 13 14\n",
      "13 14 15 16 17 18 19      11 12 13 14 15 16 17      15 16 17 18 19 20 21\n",
      "20 21 22 23 24 25 26      18 19 20 21 22 23 24      22 23 24 25 26 27 28\n",
      "27 28 29 30               25 26 27 28 29 30 31      29 30\n",
      "\n",
      "        July                     August                  September\n",
      "Mo Tu We Th Fr Sa Su      Mo Tu We Th Fr Sa Su      Mo Tu We Th Fr Sa Su\n",
      "       1  2  3  4  5                      1  2          1  2  3  4  5  6\n",
      " 6  7  8  9 10 11 12       3  4  5  6  7  8  9       7  8  9 10 11 12 13\n",
      "13 14 15 16 17 18 19      10 11 12 13 14 15 16      14 15 16 17 18 19 20\n",
      "20 21 22 23 24 25 26      17 18 19 20 21 22 23      21 22 23 24 25 26 27\n",
      "27 28 29 30 31            24 25 26 27 28 29 30      28 29 30\n",
      "                          31\n",
      "\n",
      "      October                   November                  December\n",
      "Mo Tu We Th Fr Sa Su      Mo Tu We Th Fr Sa Su      Mo Tu We Th Fr Sa Su\n",
      "          1  2  3  4                         1          1  2  3  4  5  6\n",
      " 5  6  7  8  9 10 11       2  3  4  5  6  7  8       7  8  9 10 11 12 13\n",
      "12 13 14 15 16 17 18       9 10 11 12 13 14 15      14 15 16 17 18 19 20\n",
      "19 20 21 22 23 24 25      16 17 18 19 20 21 22      21 22 23 24 25 26 27\n",
      "26 27 28 29 30 31         23 24 25 26 27 28 29      28 29 30 31\n",
      "                          30\n",
      "\n"
     ]
    }
   ],
   "source": [
    "print(calendar.calendar(2020))"
   ]
  },
  {
   "cell_type": "code",
   "execution_count": 86,
   "metadata": {},
   "outputs": [],
   "source": [
    "#Calculator\n",
    "#Color game "
   ]
  },
  {
   "cell_type": "code",
   "execution_count": 46,
   "metadata": {},
   "outputs": [],
   "source": [
    "from tkinter import *\n",
    "import calendar\n",
    "root=Tk()\n",
    "\n",
    "def cld():\n",
    "    new=Tk()\n",
    "    new.config(bg='red')\n",
    "    new.geometry('400x550')\n",
    "    \n",
    "    year=int(entry.get())\n",
    "    cal=calendar.calendar(year)\n",
    "    s=f\"Calendar {year}\"\n",
    "    label=Label(new,text=s,fg='blue')\n",
    "    label.pack()\n",
    "    l=Label(new,text=cal)\n",
    "    l.pack()\n",
    "    new.mainloop()\n",
    "\n",
    "s='''CALENDAR'''\n",
    "label=Label(root,text=s,font=(100),fg='red')\n",
    "label.pack(pady=20)\n",
    "label2=Label(root,text='Enter Year',fg='blue')\n",
    "label2.pack(pady=20)\n",
    "entry=Entry(root)\n",
    "entry.pack(ipady=10)\n",
    "\n",
    "bt=Button(root,text='Show calendar',width=20,height=2,command=cld,bg='black',fg='red')\n",
    "bt.pack()\n",
    "root.mainloop()"
   ]
  },
  {
   "cell_type": "markdown",
   "metadata": {},
   "source": []
  }
 ],
 "metadata": {
  "kernelspec": {
   "display_name": "Python 3",
   "language": "python",
   "name": "python3"
  },
  "language_info": {
   "codemirror_mode": {
    "name": "ipython",
    "version": 3
   },
   "file_extension": ".py",
   "mimetype": "text/x-python",
   "name": "python",
   "nbconvert_exporter": "python",
   "pygments_lexer": "ipython3",
   "version": "3.6.2"
  }
 },
 "nbformat": 4,
 "nbformat_minor": 2
}
