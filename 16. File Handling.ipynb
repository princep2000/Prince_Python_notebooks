{
 "cells": [
  {
   "cell_type": "code",
   "execution_count": 4,
   "metadata": {},
   "outputs": [],
   "source": [
    "#File Theory---->"
   ]
  },
  {
   "cell_type": "code",
   "execution_count": 5,
   "metadata": {},
   "outputs": [],
   "source": [
    "#NOrmal File handling---->Store the data in string format and then retrive in same format."
   ]
  },
  {
   "cell_type": "code",
   "execution_count": 6,
   "metadata": {},
   "outputs": [],
   "source": [
    "#JSON,PICKLe---->str---->store----->retrive---->original format---->Dictionary---->d[1001]"
   ]
  },
  {
   "cell_type": "code",
   "execution_count": 7,
   "metadata": {},
   "outputs": [],
   "source": [
    "#Shleve----->DB---->Dictionary "
   ]
  },
  {
   "cell_type": "code",
   "execution_count": 8,
   "metadata": {},
   "outputs": [],
   "source": [
    "import os\n",
    "import shutil\n",
    "import psutil"
   ]
  },
  {
   "cell_type": "code",
   "execution_count": 9,
   "metadata": {},
   "outputs": [],
   "source": [
    "#os.mkdir()----->Make Directory---->Folders"
   ]
  },
  {
   "cell_type": "code",
   "execution_count": 10,
   "metadata": {},
   "outputs": [],
   "source": [
    "#PResent WOrking Directory\n"
   ]
  },
  {
   "cell_type": "code",
   "execution_count": 11,
   "metadata": {},
   "outputs": [
    {
     "data": {
      "text/plain": [
       "'D:\\\\Grras_Data\\\\Grras_Delhi\\\\classes\\\\Python9PM'"
      ]
     },
     "execution_count": 11,
     "metadata": {},
     "output_type": "execute_result"
    }
   ],
   "source": [
    "pwd"
   ]
  },
  {
   "cell_type": "code",
   "execution_count": 12,
   "metadata": {},
   "outputs": [],
   "source": [
    "os.mkdir('Python_9PM')"
   ]
  },
  {
   "cell_type": "code",
   "execution_count": 14,
   "metadata": {},
   "outputs": [
    {
     "ename": "FileNotFoundError",
     "evalue": "[WinError 2] The system cannot find the file specified: 'Python_9PM/'",
     "output_type": "error",
     "traceback": [
      "\u001b[1;31m---------------------------------------------------------------------------\u001b[0m",
      "\u001b[1;31mFileNotFoundError\u001b[0m                         Traceback (most recent call last)",
      "\u001b[1;32m<ipython-input-14-fb58b1c946b7>\u001b[0m in \u001b[0;36m<module>\u001b[1;34m\u001b[0m\n\u001b[1;32m----> 1\u001b[1;33m \u001b[0mos\u001b[0m\u001b[1;33m.\u001b[0m\u001b[0mrmdir\u001b[0m\u001b[1;33m(\u001b[0m\u001b[1;34m'Python_9PM/'\u001b[0m\u001b[1;33m)\u001b[0m\u001b[1;31m#Remove Directory\u001b[0m\u001b[1;33m\u001b[0m\u001b[1;33m\u001b[0m\u001b[0m\n\u001b[0m",
      "\u001b[1;31mFileNotFoundError\u001b[0m: [WinError 2] The system cannot find the file specified: 'Python_9PM/'"
     ]
    }
   ],
   "source": [
    "os.rmdir('Python_9PM/')#Remove Directory"
   ]
  },
  {
   "cell_type": "code",
   "execution_count": 15,
   "metadata": {},
   "outputs": [],
   "source": [
    "os.chdir('D://Grras_Data//Grras_Delhi//classes//Python8PM/')#Change the Directory"
   ]
  },
  {
   "cell_type": "code",
   "execution_count": 16,
   "metadata": {},
   "outputs": [
    {
     "data": {
      "text/plain": [
       "'D:\\\\Grras_Data\\\\Grras_Delhi\\\\classes\\\\Python8PM'"
      ]
     },
     "execution_count": 16,
     "metadata": {},
     "output_type": "execute_result"
    }
   ],
   "source": [
    "pwd"
   ]
  },
  {
   "cell_type": "code",
   "execution_count": 17,
   "metadata": {},
   "outputs": [],
   "source": [
    "os.chdir('../Python9PM/')"
   ]
  },
  {
   "cell_type": "code",
   "execution_count": 18,
   "metadata": {},
   "outputs": [
    {
     "data": {
      "text/plain": [
       "'D:\\\\Grras_Data\\\\Grras_Delhi\\\\classes\\\\Python9PM'"
      ]
     },
     "execution_count": 18,
     "metadata": {},
     "output_type": "execute_result"
    }
   ],
   "source": [
    "pwd"
   ]
  },
  {
   "cell_type": "code",
   "execution_count": 19,
   "metadata": {},
   "outputs": [
    {
     "data": {
      "text/plain": [
       "['.ipynb_checkpoints',\n",
       " 'Advanced Function.html',\n",
       " 'Advanced Function.ipynb',\n",
       " 'Closures and Decorators.html',\n",
       " 'Closures and Decorators.ipynb',\n",
       " 'Conditional Statements.html',\n",
       " 'Conditional Statements.ipynb',\n",
       " 'Dictionary.html',\n",
       " 'Dictionary.ipynb',\n",
       " 'File Handling.ipynb',\n",
       " 'Functions.html',\n",
       " 'Functions.ipynb',\n",
       " 'guessing_game.py',\n",
       " 'Introduction.ipynb',\n",
       " 'Iteration-For loop.html',\n",
       " 'Iteration-For loop.ipynb',\n",
       " 'List.ipynb',\n",
       " 'List1.html',\n",
       " 'List1.ipynb',\n",
       " 'More on Functions.html',\n",
       " 'More on Functions.ipynb',\n",
       " 'Nested Dictionary.html',\n",
       " 'Nested Dictionary.ipynb',\n",
       " 'Operators.html',\n",
       " 'Operators.ipynb',\n",
       " 'Sets.html',\n",
       " 'Sets.ipynb',\n",
       " 'Slicing.ipynb',\n",
       " 'Star Pattern.html',\n",
       " 'Star Pattern.ipynb',\n",
       " 'String-1.html',\n",
       " 'String-1.ipynb',\n",
       " 'String_DT.ipynb',\n",
       " 'Tuples.html',\n",
       " 'Tuples.ipynb',\n",
       " 'While Loop.html',\n",
       " 'While Loop.ipynb']"
      ]
     },
     "execution_count": 19,
     "metadata": {},
     "output_type": "execute_result"
    }
   ],
   "source": [
    "os.listdir()"
   ]
  },
  {
   "cell_type": "code",
   "execution_count": 20,
   "metadata": {},
   "outputs": [],
   "source": [
    "os.mkdir('Practice')"
   ]
  },
  {
   "cell_type": "code",
   "execution_count": 21,
   "metadata": {},
   "outputs": [],
   "source": [
    "os.chdir('Practice/')"
   ]
  },
  {
   "cell_type": "code",
   "execution_count": 22,
   "metadata": {},
   "outputs": [],
   "source": [
    "f=open('Data.txt','w')\n",
    "f.close()"
   ]
  },
  {
   "cell_type": "code",
   "execution_count": 23,
   "metadata": {},
   "outputs": [],
   "source": [
    "os.chdir('..')"
   ]
  },
  {
   "cell_type": "code",
   "execution_count": 24,
   "metadata": {},
   "outputs": [
    {
     "data": {
      "text/plain": [
       "'D:\\\\Grras_Data\\\\Grras_Delhi\\\\classes\\\\Python9PM'"
      ]
     },
     "execution_count": 24,
     "metadata": {},
     "output_type": "execute_result"
    }
   ],
   "source": [
    "pwd"
   ]
  },
  {
   "cell_type": "code",
   "execution_count": 25,
   "metadata": {},
   "outputs": [
    {
     "ename": "OSError",
     "evalue": "[WinError 145] The directory is not empty: 'Practice/'",
     "output_type": "error",
     "traceback": [
      "\u001b[1;31m---------------------------------------------------------------------------\u001b[0m",
      "\u001b[1;31mOSError\u001b[0m                                   Traceback (most recent call last)",
      "\u001b[1;32m<ipython-input-25-b6902121751d>\u001b[0m in \u001b[0;36m<module>\u001b[1;34m\u001b[0m\n\u001b[1;32m----> 1\u001b[1;33m \u001b[0mos\u001b[0m\u001b[1;33m.\u001b[0m\u001b[0mrmdir\u001b[0m\u001b[1;33m(\u001b[0m\u001b[1;34m'Practice/'\u001b[0m\u001b[1;33m)\u001b[0m\u001b[1;33m\u001b[0m\u001b[1;33m\u001b[0m\u001b[0m\n\u001b[0m",
      "\u001b[1;31mOSError\u001b[0m: [WinError 145] The directory is not empty: 'Practice/'"
     ]
    }
   ],
   "source": [
    "os.rmdir('Practice/')"
   ]
  },
  {
   "cell_type": "code",
   "execution_count": 26,
   "metadata": {},
   "outputs": [],
   "source": [
    "shutil.rmtree('Practice/')"
   ]
  },
  {
   "cell_type": "code",
   "execution_count": 27,
   "metadata": {},
   "outputs": [
    {
     "data": {
      "text/plain": [
       "'D:\\\\Grras_Data\\\\Grras_Delhi\\\\classes\\\\Python9PM'"
      ]
     },
     "execution_count": 27,
     "metadata": {},
     "output_type": "execute_result"
    }
   ],
   "source": [
    "pwd"
   ]
  },
  {
   "cell_type": "code",
   "execution_count": 28,
   "metadata": {},
   "outputs": [],
   "source": [
    "f=open('helll12343.txt','w')\n",
    "f.close()"
   ]
  },
  {
   "cell_type": "code",
   "execution_count": 29,
   "metadata": {},
   "outputs": [],
   "source": [
    "os.chdir('../..')"
   ]
  },
  {
   "cell_type": "code",
   "execution_count": 30,
   "metadata": {},
   "outputs": [
    {
     "data": {
      "text/plain": [
       "'D:\\\\Grras_Data\\\\Grras_Delhi'"
      ]
     },
     "execution_count": 30,
     "metadata": {},
     "output_type": "execute_result"
    }
   ],
   "source": [
    "pwd"
   ]
  },
  {
   "cell_type": "code",
   "execution_count": 32,
   "metadata": {},
   "outputs": [],
   "source": [
    "f=open('classes/Python9PM/hello123456765432.txt','w')\n",
    "f.close()"
   ]
  },
  {
   "cell_type": "code",
   "execution_count": 33,
   "metadata": {},
   "outputs": [
    {
     "data": {
      "text/plain": [
       "['.filename.py.un~',\n",
       " '.ipynb_checkpoints',\n",
       " '.polygon.py.un~',\n",
       " 'Assignments',\n",
       " 'books',\n",
       " 'classes',\n",
       " 'Daily_Quiz',\n",
       " 'debug.log',\n",
       " 'Decorator.ipynb',\n",
       " 'Demo',\n",
       " 'django_project',\n",
       " 'filename.py~',\n",
       " 'filename.txt',\n",
       " 'GUI',\n",
       " 'hackerrank',\n",
       " 'helll12343.txt',\n",
       " 'Introduction To Data Science And Machine Learning.ipynb',\n",
       " 'iterator_gen in python.ipynb',\n",
       " 'Mysqldb.ipynb',\n",
       " 'NewGit',\n",
       " 'Notes',\n",
       " 'polygon.py~',\n",
       " 'Practice',\n",
       " 'Social_Post',\n",
       " 'Untitled.ipynb',\n",
       " '__pycache__']"
      ]
     },
     "execution_count": 33,
     "metadata": {},
     "output_type": "execute_result"
    }
   ],
   "source": [
    "os.listdir()"
   ]
  },
  {
   "cell_type": "code",
   "execution_count": 34,
   "metadata": {},
   "outputs": [
    {
     "data": {
      "text/plain": [
       "'D:\\\\Grras_Data\\\\Grras_Delhi'"
      ]
     },
     "execution_count": 34,
     "metadata": {},
     "output_type": "execute_result"
    }
   ],
   "source": [
    "pwd"
   ]
  },
  {
   "cell_type": "code",
   "execution_count": 36,
   "metadata": {},
   "outputs": [],
   "source": [
    "os.chdir('classes/Python9PM/')"
   ]
  },
  {
   "cell_type": "code",
   "execution_count": 37,
   "metadata": {},
   "outputs": [],
   "source": [
    "os.mkdir('Files')"
   ]
  },
  {
   "cell_type": "code",
   "execution_count": 38,
   "metadata": {},
   "outputs": [
    {
     "data": {
      "text/plain": [
       "'D:\\\\Grras_Data\\\\Grras_Delhi\\\\classes\\\\Python9PM'"
      ]
     },
     "execution_count": 38,
     "metadata": {},
     "output_type": "execute_result"
    }
   ],
   "source": [
    "pwd"
   ]
  },
  {
   "cell_type": "code",
   "execution_count": 39,
   "metadata": {},
   "outputs": [
    {
     "data": {
      "text/plain": [
       "['.ipynb_checkpoints',\n",
       " 'Advanced Function.html',\n",
       " 'Advanced Function.ipynb',\n",
       " 'Closures and Decorators.html',\n",
       " 'Closures and Decorators.ipynb',\n",
       " 'Conditional Statements.html',\n",
       " 'Conditional Statements.ipynb',\n",
       " 'Dictionary.html',\n",
       " 'Dictionary.ipynb',\n",
       " 'File Handling.ipynb',\n",
       " 'Files',\n",
       " 'Functions.html',\n",
       " 'Functions.ipynb',\n",
       " 'guessing_game.py',\n",
       " 'Introduction.ipynb',\n",
       " 'Iteration-For loop.html',\n",
       " 'Iteration-For loop.ipynb',\n",
       " 'List.ipynb',\n",
       " 'List1.html',\n",
       " 'List1.ipynb',\n",
       " 'More on Functions.html',\n",
       " 'More on Functions.ipynb',\n",
       " 'Nested Dictionary.html',\n",
       " 'Nested Dictionary.ipynb',\n",
       " 'Operators.html',\n",
       " 'Operators.ipynb',\n",
       " 'Sets.html',\n",
       " 'Sets.ipynb',\n",
       " 'Slicing.ipynb',\n",
       " 'Star Pattern.html',\n",
       " 'Star Pattern.ipynb',\n",
       " 'String-1.html',\n",
       " 'String-1.ipynb',\n",
       " 'String_DT.ipynb',\n",
       " 'Tuples.html',\n",
       " 'Tuples.ipynb',\n",
       " 'While Loop.html',\n",
       " 'While Loop.ipynb']"
      ]
     },
     "execution_count": 39,
     "metadata": {},
     "output_type": "execute_result"
    }
   ],
   "source": [
    "os.listdir()"
   ]
  },
  {
   "cell_type": "code",
   "execution_count": 44,
   "metadata": {},
   "outputs": [
    {
     "data": {
      "text/plain": [
       "'C:Users/hp/Desktop/Files'"
      ]
     },
     "execution_count": 44,
     "metadata": {},
     "output_type": "execute_result"
    }
   ],
   "source": [
    "shutil.copytree('Files/','C:Users/hp/Desktop/Files')"
   ]
  },
  {
   "cell_type": "code",
   "execution_count": 45,
   "metadata": {},
   "outputs": [
    {
     "data": {
      "text/plain": [
       "'../Files'"
      ]
     },
     "execution_count": 45,
     "metadata": {},
     "output_type": "execute_result"
    }
   ],
   "source": [
    "shutil.move('C:Users/hp/Desktop/Files/','../')"
   ]
  },
  {
   "cell_type": "code",
   "execution_count": 46,
   "metadata": {},
   "outputs": [
    {
     "data": {
      "text/plain": [
       "['.ipynb_checkpoints',\n",
       " 'Backups',\n",
       " 'classes',\n",
       " 'Data Visualization-2.ipynb',\n",
       " 'Data Visualization.ipynb',\n",
       " 'Data Wrangling.ipynb',\n",
       " 'data.txt',\n",
       " 'data1.txt',\n",
       " 'Devops_Python_4PM',\n",
       " 'Doubts.ipynb',\n",
       " 'Files',\n",
       " 'Gaurav_Mittal.ipynb',\n",
       " 'gui_clock.py',\n",
       " 'hello.MTS',\n",
       " 'hello.py',\n",
       " 'Iteration.ipynb',\n",
       " 'JEC',\n",
       " 'Jec DS',\n",
       " 'Job Oriented',\n",
       " 'KIIT-SCHOOL OF COMPUTER ENGINEERING-CGPA CALC.ipynb',\n",
       " 'mobile.db.bak',\n",
       " 'mobile.db.dat',\n",
       " 'mobile.db.dir',\n",
       " 'OOPS.ipynb',\n",
       " 'Pandas.ipynb',\n",
       " 'Python4PM',\n",
       " 'Python8PM',\n",
       " 'Python9PM',\n",
       " 'Python_10-30',\n",
       " 'Python_Django',\n",
       " 'python_weekends',\n",
       " 'shadi.MTS',\n",
       " 'shadi1.MTS',\n",
       " 'Shahil',\n",
       " 'Shahnawaz',\n",
       " 'Shaswat',\n",
       " 'STUDENT_STATUS',\n",
       " 'supermarket.ipynb',\n",
       " 'supermarket.py',\n",
       " 'Untitled.ipynb',\n",
       " 'Untitled1.ipynb',\n",
       " 'Untitled2.ipynb',\n",
       " 'video.MTS',\n",
       " 'While Loop.html']"
      ]
     },
     "execution_count": 46,
     "metadata": {},
     "output_type": "execute_result"
    }
   ],
   "source": [
    "os.listdir('../')"
   ]
  },
  {
   "cell_type": "code",
   "execution_count": 47,
   "metadata": {},
   "outputs": [],
   "source": [
    "shutil.rmtree('../Files')"
   ]
  },
  {
   "cell_type": "code",
   "execution_count": 48,
   "metadata": {},
   "outputs": [],
   "source": [
    "f=open('filename','w')#f---->File Pointer,open---->file open,'w'---->Mode"
   ]
  },
  {
   "cell_type": "code",
   "execution_count": 49,
   "metadata": {},
   "outputs": [],
   "source": [
    "f.close()"
   ]
  },
  {
   "cell_type": "code",
   "execution_count": 50,
   "metadata": {},
   "outputs": [
    {
     "data": {
      "text/plain": [
       "['.ipynb_checkpoints',\n",
       " 'Advanced Function.html',\n",
       " 'Advanced Function.ipynb',\n",
       " 'Closures and Decorators.html',\n",
       " 'Closures and Decorators.ipynb',\n",
       " 'Conditional Statements.html',\n",
       " 'Conditional Statements.ipynb',\n",
       " 'Dictionary.html',\n",
       " 'Dictionary.ipynb',\n",
       " 'File Handling.ipynb',\n",
       " 'filename',\n",
       " 'Files',\n",
       " 'Functions.html',\n",
       " 'Functions.ipynb',\n",
       " 'guessing_game.py',\n",
       " 'Introduction.ipynb',\n",
       " 'Iteration-For loop.html',\n",
       " 'Iteration-For loop.ipynb',\n",
       " 'List.ipynb',\n",
       " 'List1.html',\n",
       " 'List1.ipynb',\n",
       " 'More on Functions.html',\n",
       " 'More on Functions.ipynb',\n",
       " 'Nested Dictionary.html',\n",
       " 'Nested Dictionary.ipynb',\n",
       " 'Operators.html',\n",
       " 'Operators.ipynb',\n",
       " 'Sets.html',\n",
       " 'Sets.ipynb',\n",
       " 'Slicing.ipynb',\n",
       " 'Star Pattern.html',\n",
       " 'Star Pattern.ipynb',\n",
       " 'String-1.html',\n",
       " 'String-1.ipynb',\n",
       " 'String_DT.ipynb',\n",
       " 'Tuples.html',\n",
       " 'Tuples.ipynb',\n",
       " 'While Loop.html',\n",
       " 'While Loop.ipynb']"
      ]
     },
     "execution_count": 50,
     "metadata": {},
     "output_type": "execute_result"
    }
   ],
   "source": [
    "os.listdir()"
   ]
  },
  {
   "cell_type": "code",
   "execution_count": 51,
   "metadata": {},
   "outputs": [
    {
     "data": {
      "text/plain": [
       "True"
      ]
     },
     "execution_count": 51,
     "metadata": {},
     "output_type": "execute_result"
    }
   ],
   "source": [
    "os.path.isdir('Files/')"
   ]
  },
  {
   "cell_type": "code",
   "execution_count": 52,
   "metadata": {},
   "outputs": [],
   "source": [
    "os.chdir('..')"
   ]
  },
  {
   "cell_type": "code",
   "execution_count": 53,
   "metadata": {},
   "outputs": [
    {
     "data": {
      "text/plain": [
       "'D:\\\\Grras_Data\\\\Grras_Delhi\\\\classes'"
      ]
     },
     "execution_count": 53,
     "metadata": {},
     "output_type": "execute_result"
    }
   ],
   "source": [
    "pwd"
   ]
  },
  {
   "cell_type": "code",
   "execution_count": 55,
   "metadata": {},
   "outputs": [
    {
     "data": {
      "text/plain": [
       "['.ipynb_checkpoints',\n",
       " 'Backups',\n",
       " 'classes',\n",
       " 'Data Visualization-2.ipynb',\n",
       " 'Data Visualization.ipynb',\n",
       " 'Data Wrangling.ipynb',\n",
       " 'data.txt',\n",
       " 'data1.txt',\n",
       " 'Devops_Python_4PM',\n",
       " 'Doubts.ipynb',\n",
       " 'Gaurav_Mittal.ipynb',\n",
       " 'gui_clock.py',\n",
       " 'hello.MTS',\n",
       " 'hello.py',\n",
       " 'Iteration.ipynb',\n",
       " 'JEC',\n",
       " 'Jec DS',\n",
       " 'Job Oriented',\n",
       " 'KIIT-SCHOOL OF COMPUTER ENGINEERING-CGPA CALC.ipynb',\n",
       " 'mobile.db.bak',\n",
       " 'mobile.db.dat',\n",
       " 'mobile.db.dir',\n",
       " 'OOPS.ipynb',\n",
       " 'Pandas.ipynb',\n",
       " 'Python4PM',\n",
       " 'Python8PM',\n",
       " 'Python9PM',\n",
       " 'Python_10-30',\n",
       " 'Python_Django',\n",
       " 'python_weekends',\n",
       " 'shadi.MTS',\n",
       " 'shadi1.MTS',\n",
       " 'Shahil',\n",
       " 'Shahnawaz',\n",
       " 'Shaswat',\n",
       " 'STUDENT_STATUS',\n",
       " 'supermarket.ipynb',\n",
       " 'supermarket.py',\n",
       " 'Untitled.ipynb',\n",
       " 'Untitled1.ipynb',\n",
       " 'Untitled2.ipynb',\n",
       " 'video.MTS',\n",
       " 'While Loop.html']"
      ]
     },
     "execution_count": 55,
     "metadata": {},
     "output_type": "execute_result"
    }
   ],
   "source": [
    "os.listdir()"
   ]
  },
  {
   "cell_type": "code",
   "execution_count": 56,
   "metadata": {},
   "outputs": [
    {
     "data": {
      "text/plain": [
       "True"
      ]
     },
     "execution_count": 56,
     "metadata": {},
     "output_type": "execute_result"
    }
   ],
   "source": [
    "os.path.isdir('Shahil/')"
   ]
  },
  {
   "cell_type": "code",
   "execution_count": 57,
   "metadata": {},
   "outputs": [
    {
     "data": {
      "text/plain": [
       "False"
      ]
     },
     "execution_count": 57,
     "metadata": {},
     "output_type": "execute_result"
    }
   ],
   "source": [
    "os.path.isdir('supermarket.py')"
   ]
  },
  {
   "cell_type": "code",
   "execution_count": 58,
   "metadata": {},
   "outputs": [
    {
     "data": {
      "text/plain": [
       "True"
      ]
     },
     "execution_count": 58,
     "metadata": {},
     "output_type": "execute_result"
    }
   ],
   "source": [
    "os.path.isfile('supermarket.py')"
   ]
  },
  {
   "cell_type": "code",
   "execution_count": 59,
   "metadata": {},
   "outputs": [
    {
     "data": {
      "text/plain": [
       "'D:\\\\Grras_Data\\\\Grras_Delhi\\\\classes'"
      ]
     },
     "execution_count": 59,
     "metadata": {},
     "output_type": "execute_result"
    }
   ],
   "source": [
    "pwd"
   ]
  },
  {
   "cell_type": "code",
   "execution_count": 60,
   "metadata": {
    "scrolled": true
   },
   "outputs": [
    {
     "data": {
      "text/plain": [
       "'.\\\\Python9PM/Files/'"
      ]
     },
     "execution_count": 60,
     "metadata": {},
     "output_type": "execute_result"
    }
   ],
   "source": [
    "os.path.join('.','Python9PM/Files/')"
   ]
  },
  {
   "cell_type": "code",
   "execution_count": 62,
   "metadata": {},
   "outputs": [],
   "source": [
    "dirs=[]\n",
    "files=[]\n",
    "for i in os.listdir():\n",
    "    if os.path.isdir(i):\n",
    "        dirs.append(i)\n",
    "    else:\n",
    "        files.append(i)"
   ]
  },
  {
   "cell_type": "code",
   "execution_count": 63,
   "metadata": {},
   "outputs": [
    {
     "data": {
      "text/plain": [
       "['classes',\n",
       " 'Data Visualization-2.ipynb',\n",
       " 'Data Visualization.ipynb',\n",
       " 'Data Wrangling.ipynb',\n",
       " 'data.txt',\n",
       " 'data1.txt',\n",
       " 'Doubts.ipynb',\n",
       " 'Gaurav_Mittal.ipynb',\n",
       " 'gui_clock.py',\n",
       " 'hello.MTS',\n",
       " 'hello.py',\n",
       " 'Iteration.ipynb',\n",
       " 'KIIT-SCHOOL OF COMPUTER ENGINEERING-CGPA CALC.ipynb',\n",
       " 'mobile.db.bak',\n",
       " 'mobile.db.dat',\n",
       " 'mobile.db.dir',\n",
       " 'OOPS.ipynb',\n",
       " 'Pandas.ipynb',\n",
       " 'shadi.MTS',\n",
       " 'shadi1.MTS',\n",
       " 'supermarket.ipynb',\n",
       " 'supermarket.py',\n",
       " 'Untitled.ipynb',\n",
       " 'Untitled1.ipynb',\n",
       " 'Untitled2.ipynb',\n",
       " 'video.MTS',\n",
       " 'While Loop.html']"
      ]
     },
     "execution_count": 63,
     "metadata": {},
     "output_type": "execute_result"
    }
   ],
   "source": [
    "files"
   ]
  },
  {
   "cell_type": "code",
   "execution_count": 64,
   "metadata": {},
   "outputs": [
    {
     "data": {
      "text/plain": [
       "['.ipynb_checkpoints',\n",
       " 'Backups',\n",
       " 'Devops_Python_4PM',\n",
       " 'JEC',\n",
       " 'Jec DS',\n",
       " 'Job Oriented',\n",
       " 'Python4PM',\n",
       " 'Python8PM',\n",
       " 'Python9PM',\n",
       " 'Python_10-30',\n",
       " 'Python_Django',\n",
       " 'python_weekends',\n",
       " 'Shahil',\n",
       " 'Shahnawaz',\n",
       " 'Shaswat',\n",
       " 'STUDENT_STATUS']"
      ]
     },
     "execution_count": 64,
     "metadata": {},
     "output_type": "execute_result"
    }
   ],
   "source": [
    "dirs"
   ]
  },
  {
   "cell_type": "code",
   "execution_count": 65,
   "metadata": {},
   "outputs": [
    {
     "data": {
      "text/plain": [
       "'C:Users/hp\\\\desktop'"
      ]
     },
     "execution_count": 65,
     "metadata": {},
     "output_type": "execute_result"
    }
   ],
   "source": [
    "os.path.join('C:Users/hp','desktop')"
   ]
  },
  {
   "cell_type": "code",
   "execution_count": 69,
   "metadata": {},
   "outputs": [
    {
     "name": "stdout",
     "output_type": "stream",
     "text": [
      "Enter file namehello123321.txt\n"
     ]
    }
   ],
   "source": [
    "x=os.path.join('C:users/hp',input('Enter file name'))"
   ]
  },
  {
   "cell_type": "code",
   "execution_count": 70,
   "metadata": {},
   "outputs": [
    {
     "data": {
      "text/plain": [
       "'C:users/hp\\\\hello123321.txt'"
      ]
     },
     "execution_count": 70,
     "metadata": {},
     "output_type": "execute_result"
    }
   ],
   "source": [
    "x"
   ]
  },
  {
   "cell_type": "code",
   "execution_count": 71,
   "metadata": {},
   "outputs": [],
   "source": [
    "f=open(x,'w')"
   ]
  },
  {
   "cell_type": "code",
   "execution_count": 72,
   "metadata": {},
   "outputs": [],
   "source": [
    "f.close()"
   ]
  },
  {
   "cell_type": "code",
   "execution_count": 73,
   "metadata": {
    "scrolled": true
   },
   "outputs": [
    {
     "data": {
      "text/plain": [
       "'C:users/hp\\\\Hiii'"
      ]
     },
     "execution_count": 73,
     "metadata": {},
     "output_type": "execute_result"
    }
   ],
   "source": [
    "os.path.join('C:users/hp','Hiii')"
   ]
  },
  {
   "cell_type": "code",
   "execution_count": 74,
   "metadata": {},
   "outputs": [],
   "source": [
    "path='D:grras_data/grras_delhi/classes/python9PM'"
   ]
  },
  {
   "cell_type": "code",
   "execution_count": 75,
   "metadata": {},
   "outputs": [],
   "source": [
    "#1001.json"
   ]
  },
  {
   "cell_type": "code",
   "execution_count": 76,
   "metadata": {},
   "outputs": [],
   "source": [
    "#path=os.path.join(path,file)"
   ]
  },
  {
   "cell_type": "code",
   "execution_count": 77,
   "metadata": {},
   "outputs": [],
   "source": [
    "#f=open(path)"
   ]
  },
  {
   "cell_type": "code",
   "execution_count": 78,
   "metadata": {},
   "outputs": [],
   "source": [
    "os.rename(\"Data Wrangling.ipynb\",'DWrangling')"
   ]
  },
  {
   "cell_type": "code",
   "execution_count": 79,
   "metadata": {},
   "outputs": [
    {
     "data": {
      "text/plain": [
       "['.ipynb_checkpoints',\n",
       " 'Backups',\n",
       " 'classes',\n",
       " 'Data Visualization-2.ipynb',\n",
       " 'Data Visualization.ipynb',\n",
       " 'data.txt',\n",
       " 'data1.txt',\n",
       " 'Devops_Python_4PM',\n",
       " 'Doubts.ipynb',\n",
       " 'DWrangling',\n",
       " 'Gaurav_Mittal.ipynb',\n",
       " 'gui_clock.py',\n",
       " 'hello.MTS',\n",
       " 'hello.py',\n",
       " 'Iteration.ipynb',\n",
       " 'JEC',\n",
       " 'Jec DS',\n",
       " 'Job Oriented',\n",
       " 'KIIT-SCHOOL OF COMPUTER ENGINEERING-CGPA CALC.ipynb',\n",
       " 'mobile.db.bak',\n",
       " 'mobile.db.dat',\n",
       " 'mobile.db.dir',\n",
       " 'OOPS.ipynb',\n",
       " 'Pandas.ipynb',\n",
       " 'Python4PM',\n",
       " 'Python8PM',\n",
       " 'Python9PM',\n",
       " 'Python_10-30',\n",
       " 'Python_Django',\n",
       " 'python_weekends',\n",
       " 'shadi.MTS',\n",
       " 'shadi1.MTS',\n",
       " 'Shahil',\n",
       " 'Shahnawaz',\n",
       " 'Shaswat',\n",
       " 'STUDENT_STATUS',\n",
       " 'supermarket.ipynb',\n",
       " 'supermarket.py',\n",
       " 'Untitled.ipynb',\n",
       " 'Untitled1.ipynb',\n",
       " 'Untitled2.ipynb',\n",
       " 'video.MTS',\n",
       " 'While Loop.html']"
      ]
     },
     "execution_count": 79,
     "metadata": {},
     "output_type": "execute_result"
    }
   ],
   "source": [
    "os.listdir()"
   ]
  },
  {
   "cell_type": "code",
   "execution_count": 80,
   "metadata": {},
   "outputs": [],
   "source": [
    "import psutil"
   ]
  },
  {
   "cell_type": "code",
   "execution_count": 81,
   "metadata": {},
   "outputs": [
    {
     "name": "stdout",
     "output_type": "stream",
     "text": [
      "['ABOVE_NORMAL_PRIORITY_CLASS', 'AF_LINK', 'AIX', 'AccessDenied', 'BELOW_NORMAL_PRIORITY_CLASS', 'BSD', 'CONN_CLOSE', 'CONN_CLOSE_WAIT', 'CONN_CLOSING', 'CONN_DELETE_TCB', 'CONN_ESTABLISHED', 'CONN_FIN_WAIT1', 'CONN_FIN_WAIT2', 'CONN_LAST_ACK', 'CONN_LISTEN', 'CONN_NONE', 'CONN_SYN_RECV', 'CONN_SYN_SENT', 'CONN_TIME_WAIT', 'Error', 'FREEBSD', 'HIGH_PRIORITY_CLASS', 'IDLE_PRIORITY_CLASS', 'LINUX', 'MACOS', 'NETBSD', 'NIC_DUPLEX_FULL', 'NIC_DUPLEX_HALF', 'NIC_DUPLEX_UNKNOWN', 'NORMAL_PRIORITY_CLASS', 'NoSuchProcess', 'OPENBSD', 'OSX', 'POSIX', 'POWER_TIME_UNKNOWN', 'POWER_TIME_UNLIMITED', 'Popen', 'Process', 'REALTIME_PRIORITY_CLASS', 'STATUS_DEAD', 'STATUS_DISK_SLEEP', 'STATUS_IDLE', 'STATUS_LOCKED', 'STATUS_PARKED', 'STATUS_RUNNING', 'STATUS_SLEEPING', 'STATUS_STOPPED', 'STATUS_TRACING_STOP', 'STATUS_WAITING', 'STATUS_WAKING', 'STATUS_ZOMBIE', 'SUNOS', 'TimeoutExpired', 'WINDOWS', 'ZombieProcess', '_LOWEST_PID', '_PY3', '_TOTAL_PHYMEM', '__all__', '__author__', '__builtins__', '__cached__', '__doc__', '__file__', '__loader__', '__name__', '__package__', '__path__', '__spec__', '__version__', '_as_dict_attrnames', '_assert_pid_not_reused', '_common', '_compat', '_cpu_busy_time', '_cpu_times_deltas', '_cpu_tot_time', '_last_cpu_times', '_last_cpu_times_2', '_last_per_cpu_times', '_last_per_cpu_times_2', '_lock', '_pmap', '_ppid_map', '_pprint_secs', '_psplatform', '_psutil_windows', '_pswindows', '_timer', '_wrap_numbers', 'boot_time', 'collections', 'contextlib', 'cpu_count', 'cpu_freq', 'cpu_percent', 'cpu_stats', 'cpu_times', 'cpu_times_percent', 'datetime', 'disk_io_counters', 'disk_partitions', 'disk_usage', 'errno', 'functools', 'long', 'net_connections', 'net_if_addrs', 'net_if_stats', 'net_io_counters', 'os', 'pid_exists', 'pids', 'process_iter', 'pwd', 'sensors_battery', 'signal', 'subprocess', 'swap_memory', 'sys', 'test', 'threading', 'time', 'users', 'version_info', 'virtual_memory', 'wait_procs', 'win_service_get', 'win_service_iter']\n"
     ]
    }
   ],
   "source": [
    "print(dir(psutil))"
   ]
  },
  {
   "cell_type": "code",
   "execution_count": 82,
   "metadata": {},
   "outputs": [
    {
     "data": {
      "text/plain": [
       "30.9"
      ]
     },
     "execution_count": 82,
     "metadata": {},
     "output_type": "execute_result"
    }
   ],
   "source": [
    "psutil.cpu_percent()"
   ]
  },
  {
   "cell_type": "code",
   "execution_count": 83,
   "metadata": {},
   "outputs": [
    {
     "name": "stdout",
     "output_type": "stream",
     "text": [
      "20.8\n",
      "18.8\n",
      "23.8\n",
      "18.6\n",
      "25.0\n",
      "26.8\n",
      "26.9\n",
      "25.4\n",
      "26.6\n",
      "24.1\n"
     ]
    }
   ],
   "source": [
    "import time\n",
    "for i in range(10):\n",
    "    time.sleep(1)\n",
    "    print(psutil.cpu_percent())"
   ]
  },
  {
   "cell_type": "code",
   "execution_count": 84,
   "metadata": {},
   "outputs": [
    {
     "data": {
      "text/plain": [
       "8"
      ]
     },
     "execution_count": 84,
     "metadata": {},
     "output_type": "execute_result"
    }
   ],
   "source": [
    "psutil.cpu_count()"
   ]
  },
  {
   "cell_type": "code",
   "execution_count": 86,
   "metadata": {},
   "outputs": [
    {
     "data": {
      "text/plain": [
       "[sdiskpart(device='C:\\\\', mountpoint='C:\\\\', fstype='NTFS', opts='rw,fixed'),\n",
       " sdiskpart(device='D:\\\\', mountpoint='D:\\\\', fstype='NTFS', opts='rw,fixed')]"
      ]
     },
     "execution_count": 86,
     "metadata": {},
     "output_type": "execute_result"
    }
   ],
   "source": [
    "psutil.disk_partitions()"
   ]
  },
  {
   "cell_type": "code",
   "execution_count": 88,
   "metadata": {},
   "outputs": [
    {
     "data": {
      "text/plain": [
       "sdiskusage(total=255252754432, used=68878610432, free=186374144000, percent=27.0)"
      ]
     },
     "execution_count": 88,
     "metadata": {},
     "output_type": "execute_result"
    }
   ],
   "source": [
    "psutil.disk_usage('C:')"
   ]
  },
  {
   "cell_type": "code",
   "execution_count": 89,
   "metadata": {},
   "outputs": [
    {
     "data": {
      "text/plain": [
       "[sconn(fd=-1, family=<AddressFamily.AF_INET: 2>, type=1, laddr=addr(ip='127.0.0.1', port=61284), raddr=addr(ip='127.0.0.1', port=61283), status='ESTABLISHED', pid=6940),\n",
       " sconn(fd=-1, family=<AddressFamily.AF_INET: 2>, type=1, laddr=addr(ip='127.0.0.1', port=62284), raddr=addr(ip='127.0.0.1', port=62280), status='ESTABLISHED', pid=13396),\n",
       " sconn(fd=-1, family=<AddressFamily.AF_INET: 2>, type=1, laddr=addr(ip='127.0.0.1', port=61167), raddr=addr(ip='127.0.0.1', port=61166), status='ESTABLISHED', pid=13396),\n",
       " sconn(fd=-1, family=<AddressFamily.AF_INET: 2>, type=1, laddr=addr(ip='127.0.0.1', port=61203), raddr=addr(ip='127.0.0.1', port=61202), status='ESTABLISHED', pid=8540),\n",
       " sconn(fd=-1, family=<AddressFamily.AF_INET: 2>, type=1, laddr=addr(ip='192.168.43.202', port=62802), raddr=addr(ip='52.95.115.208', port=443), status='ESTABLISHED', pid=14996),\n",
       " sconn(fd=-1, family=<AddressFamily.AF_INET: 2>, type=1, laddr=addr(ip='127.0.0.1', port=61574), raddr=addr(ip='127.0.0.1', port=61575), status='ESTABLISHED', pid=11272),\n",
       " sconn(fd=-1, family=<AddressFamily.AF_INET: 2>, type=1, laddr=addr(ip='127.0.0.1', port=61770), raddr=addr(ip='127.0.0.1', port=61771), status='ESTABLISHED', pid=4076),\n",
       " sconn(fd=-1, family=<AddressFamily.AF_INET: 2>, type=1, laddr=addr(ip='127.0.0.1', port=61161), raddr=addr(ip='127.0.0.1', port=61225), status='ESTABLISHED', pid=8540),\n",
       " sconn(fd=-1, family=<AddressFamily.AF_INET: 2>, type=1, laddr=addr(ip='127.0.0.1', port=61692), raddr=addr(ip='127.0.0.1', port=61693), status='ESTABLISHED', pid=16308),\n",
       " sconn(fd=-1, family=<AddressFamily.AF_INET: 2>, type=1, laddr=addr(ip='127.0.0.1', port=62022), raddr=(), status='LISTEN', pid=16948),\n",
       " sconn(fd=-1, family=<AddressFamily.AF_INET: 2>, type=2, laddr=addr(ip='0.0.0.0', port=4500), raddr=(), status='NONE', pid=4880),\n",
       " sconn(fd=-1, family=<AddressFamily.AF_INET6: 23>, type=2, laddr=addr(ip='fe80::8c0a:f62c:9ab7:f23c', port=1900), raddr=(), status='NONE', pid=3636),\n",
       " sconn(fd=-1, family=<AddressFamily.AF_INET: 2>, type=1, laddr=addr(ip='127.0.0.1', port=62277), raddr=addr(ip='127.0.0.1', port=62327), status='ESTABLISHED', pid=2536),\n",
       " sconn(fd=-1, family=<AddressFamily.AF_INET: 2>, type=1, laddr=addr(ip='127.0.0.1', port=62315), raddr=addr(ip='127.0.0.1', port=62316), status='ESTABLISHED', pid=2536),\n",
       " sconn(fd=-1, family=<AddressFamily.AF_INET: 2>, type=1, laddr=addr(ip='127.0.0.1', port=62089), raddr=addr(ip='127.0.0.1', port=62088), status='ESTABLISHED', pid=13396),\n",
       " sconn(fd=-1, family=<AddressFamily.AF_INET: 2>, type=1, laddr=addr(ip='127.0.0.1', port=61724), raddr=addr(ip='127.0.0.1', port=61723), status='ESTABLISHED', pid=16308),\n",
       " sconn(fd=-1, family=<AddressFamily.AF_INET: 2>, type=1, laddr=addr(ip='127.0.0.1', port=62131), raddr=addr(ip='127.0.0.1', port=62130), status='ESTABLISHED', pid=13396),\n",
       " sconn(fd=-1, family=<AddressFamily.AF_INET: 2>, type=1, laddr=addr(ip='127.0.0.1', port=61739), raddr=addr(ip='127.0.0.1', port=61740), status='ESTABLISHED', pid=13396),\n",
       " sconn(fd=-1, family=<AddressFamily.AF_INET: 2>, type=1, laddr=addr(ip='127.0.0.1', port=61730), raddr=addr(ip='127.0.0.1', port=61678), status='ESTABLISHED', pid=13396),\n",
       " sconn(fd=-1, family=<AddressFamily.AF_INET: 2>, type=1, laddr=addr(ip='127.0.0.1', port=61543), raddr=addr(ip='127.0.0.1', port=61555), status='ESTABLISHED', pid=11272),\n",
       " sconn(fd=-1, family=<AddressFamily.AF_INET: 2>, type=1, laddr=addr(ip='127.0.0.1', port=61576), raddr=(), status='LISTEN', pid=11272),\n",
       " sconn(fd=-1, family=<AddressFamily.AF_INET: 2>, type=1, laddr=addr(ip='127.0.0.1', port=62099), raddr=addr(ip='127.0.0.1', port=62100), status='ESTABLISHED', pid=8216),\n",
       " sconn(fd=-1, family=<AddressFamily.AF_INET: 2>, type=1, laddr=addr(ip='127.0.0.1', port=61239), raddr=(), status='LISTEN', pid=6940),\n",
       " sconn(fd=-1, family=<AddressFamily.AF_INET: 2>, type=1, laddr=addr(ip='127.0.0.1', port=61767), raddr=(), status='LISTEN', pid=4076),\n",
       " sconn(fd=-1, family=<AddressFamily.AF_INET: 2>, type=1, laddr=addr(ip='127.0.0.1', port=62118), raddr=addr(ip='127.0.0.1', port=62119), status='ESTABLISHED', pid=8216),\n",
       " sconn(fd=-1, family=<AddressFamily.AF_INET: 2>, type=1, laddr=addr(ip='127.0.0.1', port=62067), raddr=addr(ip='127.0.0.1', port=62066), status='ESTABLISHED', pid=16948),\n",
       " sconn(fd=-1, family=<AddressFamily.AF_INET: 2>, type=1, laddr=addr(ip='127.0.0.1', port=61766), raddr=addr(ip='127.0.0.1', port=61765), status='ESTABLISHED', pid=4076),\n",
       " sconn(fd=-1, family=<AddressFamily.AF_INET: 2>, type=1, laddr=addr(ip='127.0.0.1', port=61214), raddr=addr(ip='127.0.0.1', port=61215), status='ESTABLISHED', pid=8540),\n",
       " sconn(fd=-1, family=<AddressFamily.AF_INET: 2>, type=1, laddr=addr(ip='127.0.0.1', port=62095), raddr=addr(ip='127.0.0.1', port=62094), status='ESTABLISHED', pid=13396),\n",
       " sconn(fd=-1, family=<AddressFamily.AF_INET: 2>, type=1, laddr=addr(ip='127.0.0.1', port=62111), raddr=addr(ip='127.0.0.1', port=62112), status='ESTABLISHED', pid=8216),\n",
       " sconn(fd=-1, family=<AddressFamily.AF_INET: 2>, type=1, laddr=addr(ip='127.0.0.1', port=61204), raddr=addr(ip='127.0.0.1', port=61205), status='ESTABLISHED', pid=8540),\n",
       " sconn(fd=-1, family=<AddressFamily.AF_INET: 2>, type=1, laddr=addr(ip='127.0.0.1', port=62088), raddr=addr(ip='127.0.0.1', port=62089), status='ESTABLISHED', pid=13396),\n",
       " sconn(fd=-1, family=<AddressFamily.AF_INET: 2>, type=1, laddr=addr(ip='127.0.0.1', port=61190), raddr=addr(ip='127.0.0.1', port=61189), status='ESTABLISHED', pid=8540),\n",
       " sconn(fd=-1, family=<AddressFamily.AF_INET: 2>, type=1, laddr=addr(ip='127.0.0.1', port=61278), raddr=addr(ip='127.0.0.1', port=61277), status='ESTABLISHED', pid=6940),\n",
       " sconn(fd=-1, family=<AddressFamily.AF_INET: 2>, type=1, laddr=addr(ip='127.0.0.1', port=61682), raddr=addr(ip='127.0.0.1', port=61683), status='ESTABLISHED', pid=13396),\n",
       " sconn(fd=-1, family=<AddressFamily.AF_INET: 2>, type=1, laddr=addr(ip='127.0.0.1', port=61583), raddr=addr(ip='127.0.0.1', port=61584), status='ESTABLISHED', pid=11272),\n",
       " sconn(fd=-1, family=<AddressFamily.AF_INET: 2>, type=1, laddr=addr(ip='127.0.0.1', port=61701), raddr=addr(ip='127.0.0.1', port=61700), status='ESTABLISHED', pid=16308),\n",
       " sconn(fd=-1, family=<AddressFamily.AF_INET: 2>, type=1, laddr=addr(ip='127.0.0.1', port=61765), raddr=addr(ip='127.0.0.1', port=61766), status='ESTABLISHED', pid=4076),\n",
       " sconn(fd=-1, family=<AddressFamily.AF_INET: 2>, type=1, laddr=addr(ip='127.0.0.1', port=61678), raddr=addr(ip='127.0.0.1', port=61730), status='ESTABLISHED', pid=16308),\n",
       " sconn(fd=-1, family=<AddressFamily.AF_INET: 2>, type=1, laddr=addr(ip='127.0.0.1', port=62019), raddr=addr(ip='127.0.0.1', port=62090), status='ESTABLISHED', pid=16948),\n",
       " sconn(fd=-1, family=<AddressFamily.AF_INET: 2>, type=1, laddr=addr(ip='127.0.0.1', port=62062), raddr=addr(ip='127.0.0.1', port=62063), status='ESTABLISHED', pid=16948),\n",
       " sconn(fd=-1, family=<AddressFamily.AF_INET: 2>, type=1, laddr=addr(ip='127.0.0.1', port=61189), raddr=addr(ip='127.0.0.1', port=61190), status='ESTABLISHED', pid=8540),\n",
       " sconn(fd=-1, family=<AddressFamily.AF_INET: 2>, type=1, laddr=addr(ip='127.0.0.1', port=61194), raddr=addr(ip='127.0.0.1', port=61193), status='ESTABLISHED', pid=8540),\n",
       " sconn(fd=-1, family=<AddressFamily.AF_INET: 2>, type=1, laddr=addr(ip='0.0.0.0', port=49664), raddr=(), status='LISTEN', pid=928),\n",
       " sconn(fd=-1, family=<AddressFamily.AF_INET: 2>, type=1, laddr=addr(ip='127.0.0.1', port=61727), raddr=addr(ip='127.0.0.1', port=61677), status='ESTABLISHED', pid=13396),\n",
       " sconn(fd=-1, family=<AddressFamily.AF_INET: 2>, type=1, laddr=addr(ip='127.0.0.1', port=62061), raddr=addr(ip='127.0.0.1', port=62060), status='ESTABLISHED', pid=16948),\n",
       " sconn(fd=-1, family=<AddressFamily.AF_INET: 2>, type=1, laddr=addr(ip='127.0.0.1', port=61206), raddr=addr(ip='127.0.0.1', port=61207), status='ESTABLISHED', pid=8540),\n",
       " sconn(fd=-1, family=<AddressFamily.AF_INET: 2>, type=1, laddr=addr(ip='127.0.0.1', port=61540), raddr=(), status='LISTEN', pid=11272),\n",
       " sconn(fd=-1, family=<AddressFamily.AF_INET: 2>, type=1, laddr=addr(ip='127.0.0.1', port=62309), raddr=addr(ip='127.0.0.1', port=62308), status='ESTABLISHED', pid=2536),\n",
       " sconn(fd=-1, family=<AddressFamily.AF_INET: 2>, type=1, laddr=addr(ip='192.168.43.202', port=139), raddr=(), status='LISTEN', pid=4),\n",
       " sconn(fd=-1, family=<AddressFamily.AF_INET: 2>, type=1, laddr=addr(ip='127.0.0.1', port=61162), raddr=addr(ip='127.0.0.1', port=61172), status='ESTABLISHED', pid=8540),\n",
       " sconn(fd=-1, family=<AddressFamily.AF_INET: 2>, type=1, laddr=addr(ip='127.0.0.1', port=62025), raddr=addr(ip='127.0.0.1', port=62024), status='ESTABLISHED', pid=13396),\n",
       " sconn(fd=-1, family=<AddressFamily.AF_INET: 2>, type=1, laddr=addr(ip='127.0.0.1', port=61171), raddr=addr(ip='127.0.0.1', port=61170), status='ESTABLISHED', pid=13396),\n",
       " sconn(fd=-1, family=<AddressFamily.AF_INET: 2>, type=1, laddr=addr(ip='127.0.0.1', port=61683), raddr=addr(ip='127.0.0.1', port=61682), status='ESTABLISHED', pid=13396),\n",
       " sconn(fd=-1, family=<AddressFamily.AF_INET: 2>, type=1, laddr=addr(ip='127.0.0.1', port=62294), raddr=addr(ip='127.0.0.1', port=62295), status='ESTABLISHED', pid=2536),\n",
       " sconn(fd=-1, family=<AddressFamily.AF_INET: 2>, type=1, laddr=addr(ip='127.0.0.1', port=62307), raddr=addr(ip='127.0.0.1', port=62306), status='ESTABLISHED', pid=2536),\n",
       " sconn(fd=-1, family=<AddressFamily.AF_INET: 2>, type=1, laddr=addr(ip='127.0.0.1', port=61741), raddr=addr(ip='127.0.0.1', port=61737), status='ESTABLISHED', pid=13396),\n",
       " sconn(fd=-1, family=<AddressFamily.AF_INET: 2>, type=1, laddr=addr(ip='127.0.0.1', port=61244), raddr=addr(ip='127.0.0.1', port=61245), status='ESTABLISHED', pid=13396),\n",
       " sconn(fd=-1, family=<AddressFamily.AF_INET: 2>, type=1, laddr=addr(ip='0.0.0.0', port=49668), raddr=(), status='LISTEN', pid=4416),\n",
       " sconn(fd=-1, family=<AddressFamily.AF_INET: 2>, type=1, laddr=addr(ip='127.0.0.1', port=61729), raddr=addr(ip='127.0.0.1', port=61728), status='ESTABLISHED', pid=13396),\n",
       " sconn(fd=-1, family=<AddressFamily.AF_INET: 2>, type=1, laddr=addr(ip='127.0.0.1', port=61686), raddr=addr(ip='127.0.0.1', port=61680), status='ESTABLISHED', pid=13396),\n",
       " sconn(fd=-1, family=<AddressFamily.AF_INET: 2>, type=1, laddr=addr(ip='192.168.43.202', port=62761), raddr=addr(ip='3.235.72.148', port=443), status='CLOSE_WAIT', pid=11080),\n",
       " sconn(fd=-1, family=<AddressFamily.AF_INET: 2>, type=1, laddr=addr(ip='127.0.0.1', port=61242), raddr=(), status='LISTEN', pid=6940),\n",
       " sconn(fd=-1, family=<AddressFamily.AF_INET: 2>, type=1, laddr=addr(ip='127.0.0.1', port=62086), raddr=addr(ip='127.0.0.1', port=62087), status='ESTABLISHED', pid=16948),\n",
       " sconn(fd=-1, family=<AddressFamily.AF_INET: 2>, type=2, laddr=addr(ip='0.0.0.0', port=62683), raddr=(), status='NONE', pid=11080),\n",
       " sconn(fd=-1, family=<AddressFamily.AF_INET: 2>, type=1, laddr=addr(ip='127.0.0.1', port=62035), raddr=addr(ip='127.0.0.1', port=62053), status='ESTABLISHED', pid=8216),\n",
       " sconn(fd=-1, family=<AddressFamily.AF_INET: 2>, type=1, laddr=addr(ip='127.0.0.1', port=61264), raddr=addr(ip='127.0.0.1', port=61265), status='ESTABLISHED', pid=6940),\n",
       " sconn(fd=-1, family=<AddressFamily.AF_INET: 2>, type=1, laddr=addr(ip='127.0.0.1', port=62297), raddr=addr(ip='127.0.0.1', port=62296), status='ESTABLISHED', pid=2536),\n",
       " sconn(fd=-1, family=<AddressFamily.AF_INET: 2>, type=1, laddr=addr(ip='127.0.0.1', port=62301), raddr=addr(ip='127.0.0.1', port=62300), status='ESTABLISHED', pid=2536),\n",
       " sconn(fd=-1, family=<AddressFamily.AF_INET: 2>, type=1, laddr=addr(ip='0.0.0.0', port=445), raddr=(), status='LISTEN', pid=4),\n",
       " sconn(fd=-1, family=<AddressFamily.AF_INET: 2>, type=1, laddr=addr(ip='127.0.0.1', port=62024), raddr=addr(ip='127.0.0.1', port=62025), status='ESTABLISHED', pid=13396),\n",
       " sconn(fd=-1, family=<AddressFamily.AF_INET: 2>, type=1, laddr=addr(ip='0.0.0.0', port=49665), raddr=(), status='LISTEN', pid=836),\n",
       " sconn(fd=-1, family=<AddressFamily.AF_INET: 2>, type=1, laddr=addr(ip='127.0.0.1', port=61737), raddr=addr(ip='127.0.0.1', port=61741), status='ESTABLISHED', pid=4076),\n",
       " sconn(fd=-1, family=<AddressFamily.AF_INET: 2>, type=1, laddr=addr(ip='127.0.0.1', port=61716), raddr=addr(ip='127.0.0.1', port=61715), status='ESTABLISHED', pid=16308),\n",
       " sconn(fd=-1, family=<AddressFamily.AF_INET: 2>, type=1, laddr=addr(ip='127.0.0.1', port=61595), raddr=addr(ip='127.0.0.1', port=61594), status='ESTABLISHED', pid=13396),\n",
       " sconn(fd=-1, family=<AddressFamily.AF_INET6: 23>, type=1, laddr=addr(ip='::', port=49670), raddr=(), status='LISTEN', pid=908),\n",
       " sconn(fd=-1, family=<AddressFamily.AF_INET: 2>, type=1, laddr=addr(ip='127.0.0.1', port=61711), raddr=addr(ip='127.0.0.1', port=61712), status='ESTABLISHED', pid=16308),\n",
       " sconn(fd=-1, family=<AddressFamily.AF_INET: 2>, type=1, laddr=addr(ip='127.0.0.1', port=62323), raddr=addr(ip='127.0.0.1', port=62324), status='ESTABLISHED', pid=2536),\n",
       " sconn(fd=-1, family=<AddressFamily.AF_INET: 2>, type=1, laddr=addr(ip='127.0.0.1', port=61734), raddr=(), status='LISTEN', pid=4076),\n",
       " sconn(fd=-1, family=<AddressFamily.AF_INET: 2>, type=1, laddr=addr(ip='127.0.0.1', port=61714), raddr=addr(ip='127.0.0.1', port=61713), status='ESTABLISHED', pid=16308),\n",
       " sconn(fd=-1, family=<AddressFamily.AF_INET: 2>, type=1, laddr=addr(ip='127.0.0.1', port=61722), raddr=addr(ip='127.0.0.1', port=61721), status='ESTABLISHED', pid=16308),\n",
       " sconn(fd=-1, family=<AddressFamily.AF_INET6: 23>, type=1, laddr=addr(ip='::', port=49668), raddr=(), status='LISTEN', pid=4416),\n",
       " sconn(fd=-1, family=<AddressFamily.AF_INET: 2>, type=1, laddr=addr(ip='127.0.0.1', port=62108), raddr=addr(ip='127.0.0.1', port=62107), status='ESTABLISHED', pid=8216),\n",
       " sconn(fd=-1, family=<AddressFamily.AF_INET: 2>, type=1, laddr=addr(ip='127.0.0.1', port=61733), raddr=addr(ip='127.0.0.1', port=61679), status='ESTABLISHED', pid=13396),\n",
       " sconn(fd=-1, family=<AddressFamily.AF_INET: 2>, type=1, laddr=addr(ip='127.0.0.1', port=61719), raddr=addr(ip='127.0.0.1', port=61720), status='ESTABLISHED', pid=16308),\n",
       " sconn(fd=-1, family=<AddressFamily.AF_INET: 2>, type=1, laddr=addr(ip='127.0.0.1', port=62329), raddr=addr(ip='127.0.0.1', port=62328), status='ESTABLISHED', pid=13396),\n",
       " sconn(fd=-1, family=<AddressFamily.AF_INET: 2>, type=1, laddr=addr(ip='127.0.0.1', port=61694), raddr=addr(ip='127.0.0.1', port=61695), status='ESTABLISHED', pid=16308),\n",
       " sconn(fd=-1, family=<AddressFamily.AF_INET: 2>, type=1, laddr=addr(ip='127.0.0.1', port=61188), raddr=addr(ip='127.0.0.1', port=61187), status='ESTABLISHED', pid=8540),\n",
       " sconn(fd=-1, family=<AddressFamily.AF_INET: 2>, type=1, laddr=addr(ip='127.0.0.1', port=61289), raddr=addr(ip='127.0.0.1', port=61290), status='ESTABLISHED', pid=13396),\n",
       " sconn(fd=-1, family=<AddressFamily.AF_INET: 2>, type=1, laddr=addr(ip='127.0.0.1', port=61259), raddr=addr(ip='127.0.0.1', port=61258), status='ESTABLISHED', pid=6940),\n",
       " sconn(fd=-1, family=<AddressFamily.AF_INET: 2>, type=1, laddr=addr(ip='127.0.0.1', port=61543), raddr=(), status='LISTEN', pid=11272),\n",
       " sconn(fd=-1, family=<AddressFamily.AF_INET: 2>, type=1, laddr=addr(ip='127.0.0.1', port=61545), raddr=addr(ip='127.0.0.1', port=61546), status='ESTABLISHED', pid=13396),\n",
       " sconn(fd=-1, family=<AddressFamily.AF_INET: 2>, type=1, laddr=addr(ip='127.0.0.1', port=61594), raddr=addr(ip='127.0.0.1', port=61595), status='ESTABLISHED', pid=13396),\n",
       " sconn(fd=-1, family=<AddressFamily.AF_INET: 2>, type=1, laddr=addr(ip='127.0.0.1', port=61268), raddr=addr(ip='127.0.0.1', port=61269), status='ESTABLISHED', pid=6940),\n",
       " sconn(fd=-1, family=<AddressFamily.AF_INET: 2>, type=1, laddr=addr(ip='127.0.0.1', port=61571), raddr=addr(ip='127.0.0.1', port=61570), status='ESTABLISHED', pid=11272),\n",
       " sconn(fd=-1, family=<AddressFamily.AF_INET: 2>, type=1, laddr=addr(ip='127.0.0.1', port=62077), raddr=addr(ip='127.0.0.1', port=62078), status='ESTABLISHED', pid=16948),\n",
       " sconn(fd=-1, family=<AddressFamily.AF_INET: 2>, type=1, laddr=addr(ip='127.0.0.1', port=62318), raddr=addr(ip='127.0.0.1', port=62317), status='ESTABLISHED', pid=2536),\n",
       " sconn(fd=-1, family=<AddressFamily.AF_INET: 2>, type=1, laddr=addr(ip='127.0.0.1', port=61213), raddr=addr(ip='127.0.0.1', port=61212), status='ESTABLISHED', pid=8540),\n",
       " sconn(fd=-1, family=<AddressFamily.AF_INET: 2>, type=1, laddr=addr(ip='127.0.0.1', port=61184), raddr=addr(ip='127.0.0.1', port=61183), status='ESTABLISHED', pid=8540),\n",
       " sconn(fd=-1, family=<AddressFamily.AF_INET: 2>, type=1, laddr=addr(ip='127.0.0.1', port=62020), raddr=(), status='LISTEN', pid=16948),\n",
       " sconn(fd=-1, family=<AddressFamily.AF_INET: 2>, type=1, laddr=addr(ip='127.0.0.1', port=61241), raddr=addr(ip='127.0.0.1', port=61297), status='ESTABLISHED', pid=6940),\n",
       " sconn(fd=-1, family=<AddressFamily.AF_INET: 2>, type=1, laddr=addr(ip='127.0.0.1', port=61275), raddr=addr(ip='127.0.0.1', port=61276), status='ESTABLISHED', pid=6940),\n",
       " sconn(fd=-1, family=<AddressFamily.AF_INET: 2>, type=1, laddr=addr(ip='127.0.0.1', port=62091), raddr=addr(ip='127.0.0.1', port=62092), status='ESTABLISHED', pid=13396),\n",
       " sconn(fd=-1, family=<AddressFamily.AF_INET: 2>, type=1, laddr=addr(ip='127.0.0.1', port=62311), raddr=addr(ip='127.0.0.1', port=62312), status='ESTABLISHED', pid=2536),\n",
       " sconn(fd=-1, family=<AddressFamily.AF_INET6: 23>, type=1, laddr=addr(ip='2409:4052:78f:81fb:bd4d:d6d1:178d:1519', port=62810), raddr=addr(ip='2404:6800:4003:c04::bc', port=443), status='ESTABLISHED', pid=13556),\n",
       " sconn(fd=-1, family=<AddressFamily.AF_INET: 2>, type=1, laddr=addr(ip='127.0.0.1', port=61261), raddr=addr(ip='127.0.0.1', port=61260), status='ESTABLISHED', pid=6940),\n",
       " sconn(fd=-1, family=<AddressFamily.AF_INET: 2>, type=1, laddr=addr(ip='127.0.0.1', port=61717), raddr=addr(ip='127.0.0.1', port=61718), status='ESTABLISHED', pid=16308),\n",
       " sconn(fd=-1, family=<AddressFamily.AF_INET: 2>, type=1, laddr=addr(ip='127.0.0.1', port=61779), raddr=addr(ip='127.0.0.1', port=61778), status='ESTABLISHED', pid=4076),\n",
       " sconn(fd=-1, family=<AddressFamily.AF_INET: 2>, type=1, laddr=addr(ip='127.0.0.1', port=61709), raddr=addr(ip='127.0.0.1', port=61708), status='ESTABLISHED', pid=16308),\n",
       " sconn(fd=-1, family=<AddressFamily.AF_INET: 2>, type=1, laddr=addr(ip='127.0.0.1', port=62084), raddr=addr(ip='127.0.0.1', port=62083), status='ESTABLISHED', pid=16948),\n",
       " sconn(fd=-1, family=<AddressFamily.AF_INET: 2>, type=1, laddr=addr(ip='127.0.0.1', port=62054), raddr=addr(ip='127.0.0.1', port=62055), status='ESTABLISHED', pid=16948),\n",
       " sconn(fd=-1, family=<AddressFamily.AF_INET: 2>, type=1, laddr=addr(ip='127.0.0.1', port=61737), raddr=(), status='LISTEN', pid=4076),\n",
       " sconn(fd=-1, family=<AddressFamily.AF_INET: 2>, type=1, laddr=addr(ip='127.0.0.1', port=62064), raddr=addr(ip='127.0.0.1', port=62065), status='ESTABLISHED', pid=16948),\n",
       " sconn(fd=-1, family=<AddressFamily.AF_INET: 2>, type=1, laddr=addr(ip='127.0.0.1', port=62277), raddr=(), status='LISTEN', pid=2536),\n",
       " sconn(fd=-1, family=<AddressFamily.AF_INET: 2>, type=1, laddr=addr(ip='127.0.0.1', port=62279), raddr=addr(ip='127.0.0.1', port=62333), status='ESTABLISHED', pid=2536),\n",
       " sconn(fd=-1, family=<AddressFamily.AF_INET: 2>, type=1, laddr=addr(ip='127.0.0.1', port=61541), raddr=addr(ip='127.0.0.1', port=61556), status='ESTABLISHED', pid=11272),\n",
       " sconn(fd=-1, family=<AddressFamily.AF_INET: 2>, type=1, laddr=addr(ip='127.0.0.1', port=61224), raddr=addr(ip='127.0.0.1', port=61160), status='ESTABLISHED', pid=13396),\n",
       " sconn(fd=-1, family=<AddressFamily.AF_INET: 2>, type=1, laddr=addr(ip='127.0.0.1', port=61684), raddr=addr(ip='127.0.0.1', port=61685), status='ESTABLISHED', pid=13396),\n",
       " sconn(fd=-1, family=<AddressFamily.AF_INET: 2>, type=1, laddr=addr(ip='127.0.0.1', port=62119), raddr=addr(ip='127.0.0.1', port=62118), status='ESTABLISHED', pid=8216),\n",
       " sconn(fd=-1, family=<AddressFamily.AF_INET: 2>, type=1, laddr=addr(ip='127.0.0.1', port=62281), raddr=(), status='LISTEN', pid=2536),\n",
       " sconn(fd=-1, family=<AddressFamily.AF_INET: 2>, type=1, laddr=addr(ip='127.0.0.1', port=61570), raddr=addr(ip='127.0.0.1', port=61571), status='ESTABLISHED', pid=11272),\n",
       " sconn(fd=-1, family=<AddressFamily.AF_INET: 2>, type=1, laddr=addr(ip='127.0.0.1', port=62116), raddr=addr(ip='127.0.0.1', port=62117), status='ESTABLISHED', pid=8216),\n",
       " sconn(fd=-1, family=<AddressFamily.AF_INET: 2>, type=1, laddr=addr(ip='127.0.0.1', port=61272), raddr=addr(ip='127.0.0.1', port=61273), status='ESTABLISHED', pid=6940),\n",
       " sconn(fd=-1, family=<AddressFamily.AF_INET: 2>, type=1, laddr=addr(ip='127.0.0.1', port=62126), raddr=addr(ip='127.0.0.1', port=62127), status='ESTABLISHED', pid=8216),\n",
       " sconn(fd=-1, family=<AddressFamily.AF_INET: 2>, type=1, laddr=addr(ip='127.0.0.1', port=61761), raddr=addr(ip='127.0.0.1', port=61762), status='ESTABLISHED', pid=4076),\n",
       " sconn(fd=-1, family=<AddressFamily.AF_INET: 2>, type=1, laddr=addr(ip='127.0.0.1', port=61295), raddr=addr(ip='127.0.0.1', port=61296), status='ESTABLISHED', pid=13396),\n",
       " sconn(fd=-1, family=<AddressFamily.AF_INET: 2>, type=1, laddr=addr(ip='127.0.0.1', port=61721), raddr=addr(ip='127.0.0.1', port=61722), status='ESTABLISHED', pid=16308),\n",
       " sconn(fd=-1, family=<AddressFamily.AF_INET: 2>, type=1, laddr=addr(ip='127.0.0.1', port=61218), raddr=addr(ip='127.0.0.1', port=61217), status='ESTABLISHED', pid=13396),\n",
       " sconn(fd=-1, family=<AddressFamily.AF_INET: 2>, type=1, laddr=addr(ip='127.0.0.1', port=61599), raddr=addr(ip='127.0.0.1', port=61542), status='ESTABLISHED', pid=13396),\n",
       " sconn(fd=-1, family=<AddressFamily.AF_INET: 2>, type=1, laddr=addr(ip='127.0.0.1', port=61764), raddr=addr(ip='127.0.0.1', port=61763), status='ESTABLISHED', pid=4076),\n",
       " sconn(fd=-1, family=<AddressFamily.AF_INET: 2>, type=1, laddr=addr(ip='127.0.0.1', port=62039), raddr=addr(ip='127.0.0.1', port=62040), status='ESTABLISHED', pid=13396),\n",
       " sconn(fd=-1, family=<AddressFamily.AF_INET: 2>, type=1, laddr=addr(ip='127.0.0.1', port=62034), raddr=(), status='LISTEN', pid=8216),\n",
       " sconn(fd=-1, family=<AddressFamily.AF_INET: 2>, type=2, laddr=addr(ip='0.0.0.0', port=5355), raddr=(), status='NONE', pid=2908),\n",
       " sconn(fd=-1, family=<AddressFamily.AF_INET: 2>, type=1, laddr=addr(ip='127.0.0.1', port=61162), raddr=(), status='LISTEN', pid=8540),\n",
       " sconn(fd=-1, family=<AddressFamily.AF_INET: 2>, type=1, laddr=addr(ip='127.0.0.1', port=62100), raddr=addr(ip='127.0.0.1', port=62099), status='ESTABLISHED', pid=8216),\n",
       " sconn(fd=-1, family=<AddressFamily.AF_INET6: 23>, type=1, laddr=addr(ip='::1', port=8888), raddr=(), status='LISTEN', pid=13396),\n",
       " sconn(fd=-1, family=<AddressFamily.AF_INET: 2>, type=1, laddr=addr(ip='127.0.0.1', port=62319), raddr=addr(ip='127.0.0.1', port=62320), status='ESTABLISHED', pid=2536),\n",
       " sconn(fd=-1, family=<AddressFamily.AF_INET: 2>, type=1, laddr=addr(ip='127.0.0.1', port=62114), raddr=addr(ip='127.0.0.1', port=62113), status='ESTABLISHED', pid=8216),\n",
       " sconn(fd=-1, family=<AddressFamily.AF_INET: 2>, type=1, laddr=addr(ip='127.0.0.1', port=61736), raddr=addr(ip='127.0.0.1', port=61790), status='ESTABLISHED', pid=4076),\n",
       " sconn(fd=-1, family=<AddressFamily.AF_INET: 2>, type=1, laddr=addr(ip='127.0.0.1', port=61735), raddr=addr(ip='127.0.0.1', port=61744), status='ESTABLISHED', pid=4076),\n",
       " sconn(fd=-1, family=<AddressFamily.AF_INET: 2>, type=1, laddr=addr(ip='127.0.0.1', port=61267), raddr=addr(ip='127.0.0.1', port=61266), status='ESTABLISHED', pid=6940),\n",
       " sconn(fd=-1, family=<AddressFamily.AF_INET: 2>, type=1, laddr=addr(ip='127.0.0.1', port=61098), raddr=addr(ip='127.0.0.1', port=61097), status='ESTABLISHED', pid=13396),\n",
       " sconn(fd=-1, family=<AddressFamily.AF_INET: 2>, type=1, laddr=addr(ip='127.0.0.1', port=62037), raddr=(), status='LISTEN', pid=8216),\n",
       " sconn(fd=-1, family=<AddressFamily.AF_INET: 2>, type=1, laddr=addr(ip='127.0.0.1', port=62093), raddr=addr(ip='127.0.0.1', port=62020), status='ESTABLISHED', pid=13396),\n",
       " sconn(fd=-1, family=<AddressFamily.AF_INET: 2>, type=1, laddr=addr(ip='127.0.0.1', port=62325), raddr=addr(ip='127.0.0.1', port=62326), status='ESTABLISHED', pid=13396),\n",
       " sconn(fd=-1, family=<AddressFamily.AF_INET: 2>, type=1, laddr=addr(ip='127.0.0.1', port=61677), raddr=(), status='LISTEN', pid=16308),\n",
       " sconn(fd=-1, family=<AddressFamily.AF_INET: 2>, type=1, laddr=addr(ip='127.0.0.1', port=61199), raddr=addr(ip='127.0.0.1', port=61200), status='ESTABLISHED', pid=8540),\n",
       " sconn(fd=-1, family=<AddressFamily.AF_INET: 2>, type=1, laddr=addr(ip='127.0.0.1', port=62094), raddr=addr(ip='127.0.0.1', port=62095), status='ESTABLISHED', pid=13396),\n",
       " sconn(fd=-1, family=<AddressFamily.AF_INET: 2>, type=1, laddr=addr(ip='127.0.0.1', port=61588), raddr=addr(ip='127.0.0.1', port=61587), status='ESTABLISHED', pid=11272),\n",
       " sconn(fd=-1, family=<AddressFamily.AF_INET: 2>, type=1, laddr=addr(ip='127.0.0.1', port=61572), raddr=addr(ip='127.0.0.1', port=61573), status='ESTABLISHED', pid=11272),\n",
       " sconn(fd=-1, family=<AddressFamily.AF_INET: 2>, type=1, laddr=addr(ip='127.0.0.1', port=61296), raddr=addr(ip='127.0.0.1', port=61295), status='ESTABLISHED', pid=13396),\n",
       " sconn(fd=-1, family=<AddressFamily.AF_INET: 2>, type=1, laddr=addr(ip='127.0.0.1', port=62134), raddr=addr(ip='127.0.0.1', port=62133), status='ESTABLISHED', pid=13396),\n",
       " sconn(fd=-1, family=<AddressFamily.AF_INET: 2>, type=1, laddr=addr(ip='127.0.0.1', port=62317), raddr=addr(ip='127.0.0.1', port=62318), status='ESTABLISHED', pid=2536),\n",
       " sconn(fd=-1, family=<AddressFamily.AF_INET6: 23>, type=1, laddr=addr(ip='::', port=49664), raddr=(), status='LISTEN', pid=928),\n",
       " sconn(fd=-1, family=<AddressFamily.AF_INET: 2>, type=1, laddr=addr(ip='127.0.0.1', port=62285), raddr=addr(ip='127.0.0.1', port=62286), status='ESTABLISHED', pid=13396),\n",
       " sconn(fd=-1, family=<AddressFamily.AF_INET: 2>, type=1, laddr=addr(ip='127.0.0.1', port=61589), raddr=addr(ip='127.0.0.1', port=61590), status='ESTABLISHED', pid=11272),\n",
       " sconn(fd=-1, family=<AddressFamily.AF_INET: 2>, type=1, laddr=addr(ip='127.0.0.1', port=61198), raddr=addr(ip='127.0.0.1', port=61197), status='ESTABLISHED', pid=8540),\n",
       " sconn(fd=-1, family=<AddressFamily.AF_INET: 2>, type=1, laddr=addr(ip='127.0.0.1', port=61591), raddr=addr(ip='127.0.0.1', port=61592), status='ESTABLISHED', pid=13396),\n",
       " sconn(fd=-1, family=<AddressFamily.AF_INET: 2>, type=1, laddr=addr(ip='127.0.0.1', port=61165), raddr=addr(ip='127.0.0.1', port=61164), status='ESTABLISHED', pid=13396),\n",
       " sconn(fd=-1, family=<AddressFamily.AF_INET: 2>, type=1, laddr=addr(ip='127.0.0.1', port=62102), raddr=addr(ip='127.0.0.1', port=62101), status='ESTABLISHED', pid=8216),\n",
       " sconn(fd=-1, family=<AddressFamily.AF_INET: 2>, type=1, laddr=addr(ip='192.168.43.202', port=62812), raddr=addr(ip='40.119.211.203', port=443), status='ESTABLISHED', pid=1112),\n",
       " sconn(fd=-1, family=<AddressFamily.AF_INET: 2>, type=1, laddr=addr(ip='127.0.0.1', port=61696), raddr=addr(ip='127.0.0.1', port=61697), status='ESTABLISHED', pid=16308),\n",
       " sconn(fd=-1, family=<AddressFamily.AF_INET: 2>, type=1, laddr=addr(ip='127.0.0.1', port=62333), raddr=addr(ip='127.0.0.1', port=62279), status='ESTABLISHED', pid=13396),\n",
       " sconn(fd=-1, family=<AddressFamily.AF_INET: 2>, type=1, laddr=addr(ip='192.168.43.202', port=62223), raddr=addr(ip='40.90.189.152', port=443), status='ESTABLISHED', pid=11868),\n",
       " sconn(fd=-1, family=<AddressFamily.AF_INET: 2>, type=1, laddr=addr(ip='127.0.0.1', port=61202), raddr=addr(ip='127.0.0.1', port=61203), status='ESTABLISHED', pid=8540),\n",
       " sconn(fd=-1, family=<AddressFamily.AF_INET: 2>, type=1, laddr=addr(ip='127.0.0.1', port=61265), raddr=addr(ip='127.0.0.1', port=61264), status='ESTABLISHED', pid=6940),\n",
       " sconn(fd=-1, family=<AddressFamily.AF_INET: 2>, type=2, laddr=addr(ip='192.168.43.202', port=62986), raddr=(), status='NONE', pid=11080),\n",
       " sconn(fd=-1, family=<AddressFamily.AF_INET: 2>, type=1, laddr=addr(ip='127.0.0.1', port=62101), raddr=addr(ip='127.0.0.1', port=62102), status='ESTABLISHED', pid=8216),\n",
       " sconn(fd=-1, family=<AddressFamily.AF_INET: 2>, type=1, laddr=addr(ip='127.0.0.1', port=61208), raddr=addr(ip='127.0.0.1', port=61209), status='ESTABLISHED', pid=8540),\n",
       " sconn(fd=-1, family=<AddressFamily.AF_INET: 2>, type=1, laddr=addr(ip='127.0.0.1', port=61279), raddr=addr(ip='127.0.0.1', port=61280), status='ESTABLISHED', pid=6940),\n",
       " sconn(fd=-1, family=<AddressFamily.AF_INET: 2>, type=1, laddr=addr(ip='127.0.0.1', port=61702), raddr=addr(ip='127.0.0.1', port=61703), status='ESTABLISHED', pid=16308),\n",
       " sconn(fd=-1, family=<AddressFamily.AF_INET: 2>, type=1, laddr=addr(ip='127.0.0.1', port=61612), raddr=addr(ip='127.0.0.1', port=61611), status='ESTABLISHED', pid=11272),\n",
       " sconn(fd=-1, family=<AddressFamily.AF_INET: 2>, type=1, laddr=addr(ip='127.0.0.1', port=61679), raddr=addr(ip='127.0.0.1', port=61733), status='ESTABLISHED', pid=16308),\n",
       " sconn(fd=-1, family=<AddressFamily.AF_INET: 2>, type=1, laddr=addr(ip='127.0.0.1', port=62279), raddr=(), status='LISTEN', pid=2536),\n",
       " sconn(fd=-1, family=<AddressFamily.AF_INET: 2>, type=1, laddr=addr(ip='127.0.0.1', port=61270), raddr=addr(ip='127.0.0.1', port=61271), status='ESTABLISHED', pid=6940),\n",
       " sconn(fd=-1, family=<AddressFamily.AF_INET: 2>, type=1, laddr=addr(ip='127.0.0.1', port=61593), raddr=addr(ip='127.0.0.1', port=61540), status='ESTABLISHED', pid=13396),\n",
       " sconn(fd=-1, family=<AddressFamily.AF_INET6: 23>, type=2, laddr=addr(ip='::', port=4500), raddr=(), status='NONE', pid=4880),\n",
       " sconn(fd=-1, family=<AddressFamily.AF_INET: 2>, type=1, laddr=addr(ip='127.0.0.1', port=61294), raddr=addr(ip='127.0.0.1', port=61240), status='ESTABLISHED', pid=13396),\n",
       " sconn(fd=-1, family=<AddressFamily.AF_INET: 2>, type=1, laddr=addr(ip='127.0.0.1', port=61677), raddr=addr(ip='127.0.0.1', port=61727), status='ESTABLISHED', pid=16308),\n",
       " sconn(fd=-1, family=<AddressFamily.AF_INET: 2>, type=1, laddr=addr(ip='127.0.0.1', port=61273), raddr=addr(ip='127.0.0.1', port=61272), status='ESTABLISHED', pid=6940),\n",
       " sconn(fd=-1, family=<AddressFamily.AF_INET: 2>, type=1, laddr=addr(ip='127.0.0.1', port=62021), raddr=(), status='LISTEN', pid=16948),\n",
       " sconn(fd=-1, family=<AddressFamily.AF_INET: 2>, type=1, laddr=addr(ip='127.0.0.1', port=61731), raddr=addr(ip='127.0.0.1', port=61732), status='ESTABLISHED', pid=13396),\n",
       " sconn(fd=-1, family=<AddressFamily.AF_INET: 2>, type=1, laddr=addr(ip='127.0.0.1', port=62136), raddr=addr(ip='127.0.0.1', port=62137), status='ESTABLISHED', pid=13396),\n",
       " sconn(fd=-1, family=<AddressFamily.AF_INET: 2>, type=1, laddr=addr(ip='127.0.0.1', port=61698), raddr=addr(ip='127.0.0.1', port=61699), status='ESTABLISHED', pid=16308),\n",
       " sconn(fd=-1, family=<AddressFamily.AF_INET6: 23>, type=2, laddr=addr(ip='::', port=5355), raddr=(), status='NONE', pid=2908),\n",
       " sconn(fd=-1, family=<AddressFamily.AF_INET: 2>, type=1, laddr=addr(ip='127.0.0.1', port=61247), raddr=addr(ip='127.0.0.1', port=61248), status='ESTABLISHED', pid=13396),\n",
       " sconn(fd=-1, family=<AddressFamily.AF_INET: 2>, type=1, laddr=addr(ip='127.0.0.1', port=62124), raddr=addr(ip='127.0.0.1', port=62125), status='ESTABLISHED', pid=8216),\n",
       " sconn(fd=-1, family=<AddressFamily.AF_INET: 2>, type=1, laddr=addr(ip='127.0.0.1', port=62299), raddr=addr(ip='127.0.0.1', port=62298), status='ESTABLISHED', pid=2536),\n",
       " sconn(fd=-1, family=<AddressFamily.AF_INET: 2>, type=1, laddr=addr(ip='127.0.0.1', port=61573), raddr=addr(ip='127.0.0.1', port=61572), status='ESTABLISHED', pid=11272),\n",
       " sconn(fd=-1, family=<AddressFamily.AF_INET: 2>, type=1, laddr=addr(ip='127.0.0.1', port=61556), raddr=addr(ip='127.0.0.1', port=61541), status='ESTABLISHED', pid=13396),\n",
       " sconn(fd=-1, family=<AddressFamily.AF_INET: 2>, type=1, laddr=addr(ip='127.0.0.1', port=61784), raddr=addr(ip='127.0.0.1', port=61734), status='ESTABLISHED', pid=13396),\n",
       " sconn(fd=-1, family=<AddressFamily.AF_INET: 2>, type=1, laddr=addr(ip='127.0.0.1', port=61788), raddr=addr(ip='127.0.0.1', port=61789), status='ESTABLISHED', pid=13396),\n",
       " sconn(fd=-1, family=<AddressFamily.AF_INET: 2>, type=1, laddr=addr(ip='127.0.0.1', port=61687), raddr=addr(ip='127.0.0.1', port=61678), status='ESTABLISHED', pid=13396),\n",
       " sconn(fd=-1, family=<AddressFamily.AF_INET: 2>, type=1, laddr=addr(ip='127.0.0.1', port=62059), raddr=addr(ip='127.0.0.1', port=62058), status='ESTABLISHED', pid=16948),\n",
       " sconn(fd=-1, family=<AddressFamily.AF_INET: 2>, type=1, laddr=addr(ip='127.0.0.1', port=61736), raddr=(), status='LISTEN', pid=4076),\n",
       " sconn(fd=-1, family=<AddressFamily.AF_INET: 2>, type=1, laddr=addr(ip='127.0.0.1', port=61542), raddr=addr(ip='127.0.0.1', port=61599), status='ESTABLISHED', pid=11272),\n",
       " sconn(fd=-1, family=<AddressFamily.AF_INET6: 23>, type=1, laddr=addr(ip='::1', port=8888), raddr=addr(ip='::1', port=62863), status='ESTABLISHED', pid=13396),\n",
       " sconn(fd=-1, family=<AddressFamily.AF_INET: 2>, type=1, laddr=addr(ip='127.0.0.1', port=61678), raddr=addr(ip='127.0.0.1', port=61687), status='ESTABLISHED', pid=16308),\n",
       " sconn(fd=-1, family=<AddressFamily.AF_INET: 2>, type=1, laddr=addr(ip='127.0.0.1', port=62042), raddr=addr(ip='127.0.0.1', port=62043), status='ESTABLISHED', pid=13396),\n",
       " sconn(fd=-1, family=<AddressFamily.AF_INET: 2>, type=1, laddr=addr(ip='127.0.0.1', port=62078), raddr=addr(ip='127.0.0.1', port=62077), status='ESTABLISHED', pid=16948),\n",
       " sconn(fd=-1, family=<AddressFamily.AF_INET: 2>, type=1, laddr=addr(ip='127.0.0.1', port=61286), raddr=addr(ip='127.0.0.1', port=61285), status='ESTABLISHED', pid=6940),\n",
       " sconn(fd=-1, family=<AddressFamily.AF_INET: 2>, type=1, laddr=addr(ip='127.0.0.1', port=62096), raddr=addr(ip='127.0.0.1', port=62021), status='ESTABLISHED', pid=13396),\n",
       " sconn(fd=-1, family=<AddressFamily.AF_INET: 2>, type=2, laddr=addr(ip='192.168.43.202', port=62985), raddr=(), status='NONE', pid=11080),\n",
       " sconn(fd=-1, family=<AddressFamily.AF_INET: 2>, type=1, laddr=addr(ip='127.0.0.1', port=61581), raddr=addr(ip='127.0.0.1', port=61582), status='ESTABLISHED', pid=11272),\n",
       " sconn(fd=-1, family=<AddressFamily.AF_INET: 2>, type=1, laddr=addr(ip='127.0.0.1', port=62020), raddr=addr(ip='127.0.0.1', port=62050), status='ESTABLISHED', pid=16948),\n",
       " sconn(fd=-1, family=<AddressFamily.AF_INET: 2>, type=1, laddr=addr(ip='127.0.0.1', port=61597), raddr=addr(ip='127.0.0.1', port=61598), status='ESTABLISHED', pid=13396),\n",
       " sconn(fd=-1, family=<AddressFamily.AF_INET: 2>, type=1, laddr=addr(ip='127.0.0.1', port=62075), raddr=addr(ip='127.0.0.1', port=62076), status='ESTABLISHED', pid=16948),\n",
       " sconn(fd=-1, family=<AddressFamily.AF_INET: 2>, type=1, laddr=addr(ip='127.0.0.1', port=61585), raddr=addr(ip='127.0.0.1', port=61586), status='ESTABLISHED', pid=11272),\n",
       " sconn(fd=-1, family=<AddressFamily.AF_INET: 2>, type=1, laddr=addr(ip='127.0.0.1', port=61248), raddr=addr(ip='127.0.0.1', port=61247), status='ESTABLISHED', pid=13396),\n",
       " sconn(fd=-1, family=<AddressFamily.AF_INET: 2>, type=1, laddr=addr(ip='127.0.0.1', port=61285), raddr=addr(ip='127.0.0.1', port=61286), status='ESTABLISHED', pid=6940),\n",
       " sconn(fd=-1, family=<AddressFamily.AF_INET: 2>, type=1, laddr=addr(ip='127.0.0.1', port=62074), raddr=addr(ip='127.0.0.1', port=62073), status='ESTABLISHED', pid=16948),\n",
       " sconn(fd=-1, family=<AddressFamily.AF_INET: 2>, type=1, laddr=addr(ip='0.0.0.0', port=49667), raddr=(), status='LISTEN', pid=2140),\n",
       " sconn(fd=-1, family=<AddressFamily.AF_INET: 2>, type=1, laddr=addr(ip='192.168.43.202', port=62853), raddr=addr(ip='3.235.73.93', port=443), status='CLOSE_WAIT', pid=1768),\n",
       " sconn(fd=-1, family=<AddressFamily.AF_INET: 2>, type=1, laddr=addr(ip='127.0.0.1', port=62052), raddr=addr(ip='127.0.0.1', port=62037), status='ESTABLISHED', pid=13396),\n",
       " sconn(fd=-1, family=<AddressFamily.AF_INET: 2>, type=1, laddr=addr(ip='0.0.0.0', port=135), raddr=(), status='LISTEN', pid=1184),\n",
       " sconn(fd=-1, family=<AddressFamily.AF_INET: 2>, type=1, laddr=addr(ip='127.0.0.1', port=61744), raddr=addr(ip='127.0.0.1', port=61735), status='ESTABLISHED', pid=13396),\n",
       " sconn(fd=-1, family=<AddressFamily.AF_INET: 2>, type=1, laddr=addr(ip='127.0.0.1', port=61566), raddr=addr(ip='127.0.0.1', port=61567), status='ESTABLISHED', pid=11272),\n",
       " sconn(fd=-1, family=<AddressFamily.AF_INET: 2>, type=1, laddr=addr(ip='127.0.0.1', port=61596), raddr=addr(ip='127.0.0.1', port=61541), status='ESTABLISHED', pid=13396),\n",
       " sconn(fd=-1, family=<AddressFamily.AF_INET: 2>, type=1, laddr=addr(ip='127.0.0.1', port=61734), raddr=addr(ip='127.0.0.1', port=61784), status='ESTABLISHED', pid=4076),\n",
       " sconn(fd=-1, family=<AddressFamily.AF_INET: 2>, type=1, laddr=addr(ip='127.0.0.1', port=62320), raddr=addr(ip='127.0.0.1', port=62319), status='ESTABLISHED', pid=2536),\n",
       " sconn(fd=-1, family=<AddressFamily.AF_INET: 2>, type=1, laddr=addr(ip='127.0.0.1', port=62328), raddr=addr(ip='127.0.0.1', port=62329), status='ESTABLISHED', pid=13396),\n",
       " sconn(fd=-1, family=<AddressFamily.AF_INET: 2>, type=1, laddr=addr(ip='127.0.0.1', port=62081), raddr=addr(ip='127.0.0.1', port=62082), status='ESTABLISHED', pid=16948),\n",
       " sconn(fd=-1, family=<AddressFamily.AF_INET: 2>, type=1, laddr=addr(ip='127.0.0.1', port=61219), raddr=addr(ip='127.0.0.1', port=61159), status='ESTABLISHED', pid=13396),\n",
       " sconn(fd=-1, family=<AddressFamily.AF_INET: 2>, type=1, laddr=addr(ip='127.0.0.1', port=62128), raddr=addr(ip='127.0.0.1', port=62129), status='ESTABLISHED', pid=8216),\n",
       " sconn(fd=-1, family=<AddressFamily.AF_INET: 2>, type=1, laddr=addr(ip='127.0.0.1', port=62034), raddr=addr(ip='127.0.0.1', port=62132), status='ESTABLISHED', pid=8216),\n",
       " sconn(fd=-1, family=<AddressFamily.AF_INET: 2>, type=1, laddr=addr(ip='127.0.0.1', port=61577), raddr=addr(ip='127.0.0.1', port=61578), status='ESTABLISHED', pid=11272),\n",
       " sconn(fd=-1, family=<AddressFamily.AF_INET: 2>, type=1, laddr=addr(ip='127.0.0.1', port=61166), raddr=addr(ip='127.0.0.1', port=61167), status='ESTABLISHED', pid=13396),\n",
       " sconn(fd=-1, family=<AddressFamily.AF_INET: 2>, type=1, laddr=addr(ip='127.0.0.1', port=61742), raddr=addr(ip='127.0.0.1', port=61743), status='ESTABLISHED', pid=13396),\n",
       " sconn(fd=-1, family=<AddressFamily.AF_INET: 2>, type=1, laddr=addr(ip='127.0.0.1', port=62043), raddr=addr(ip='127.0.0.1', port=62042), status='ESTABLISHED', pid=13396),\n",
       " sconn(fd=-1, family=<AddressFamily.AF_INET6: 23>, type=1, laddr=addr(ip='::1', port=62863), raddr=addr(ip='::1', port=8888), status='ESTABLISHED', pid=13556),\n",
       " sconn(fd=-1, family=<AddressFamily.AF_INET: 2>, type=1, laddr=addr(ip='127.0.0.1', port=62021), raddr=addr(ip='127.0.0.1', port=62096), status='ESTABLISHED', pid=16948),\n",
       " sconn(fd=-1, family=<AddressFamily.AF_INET: 2>, type=1, laddr=addr(ip='127.0.0.1', port=61240), raddr=addr(ip='127.0.0.1', port=61294), status='ESTABLISHED', pid=6940),\n",
       " sconn(fd=-1, family=<AddressFamily.AF_INET: 2>, type=1, laddr=addr(ip='127.0.0.1', port=62065), raddr=addr(ip='127.0.0.1', port=62064), status='ESTABLISHED', pid=16948),\n",
       " sconn(fd=-1, family=<AddressFamily.AF_INET: 2>, type=1, laddr=addr(ip='127.0.0.1', port=61728), raddr=addr(ip='127.0.0.1', port=61729), status='ESTABLISHED', pid=13396),\n",
       " sconn(fd=-1, family=<AddressFamily.AF_INET: 2>, type=1, laddr=addr(ip='127.0.0.1', port=62020), raddr=addr(ip='127.0.0.1', port=62093), status='ESTABLISHED', pid=16948),\n",
       " sconn(fd=-1, family=<AddressFamily.AF_INET6: 23>, type=1, laddr=addr(ip='::', port=49665), raddr=(), status='LISTEN', pid=836),\n",
       " sconn(fd=-1, family=<AddressFamily.AF_INET: 2>, type=1, laddr=addr(ip='127.0.0.1', port=61775), raddr=addr(ip='127.0.0.1', port=61774), status='ESTABLISHED', pid=4076),\n",
       " sconn(fd=-1, family=<AddressFamily.AF_INET: 2>, type=1, laddr=addr(ip='127.0.0.1', port=61209), raddr=addr(ip='127.0.0.1', port=61208), status='ESTABLISHED', pid=8540),\n",
       " sconn(fd=-1, family=<AddressFamily.AF_INET: 2>, type=1, laddr=addr(ip='127.0.0.1', port=62035), raddr=(), status='LISTEN', pid=8216),\n",
       " sconn(fd=-1, family=<AddressFamily.AF_INET6: 23>, type=2, laddr=addr(ip='::1', port=1900), raddr=(), status='NONE', pid=3636),\n",
       " sconn(fd=-1, family=<AddressFamily.AF_INET: 2>, type=1, laddr=addr(ip='127.0.0.1', port=62092), raddr=addr(ip='127.0.0.1', port=62091), status='ESTABLISHED', pid=13396),\n",
       " sconn(fd=-1, family=<AddressFamily.AF_INET: 2>, type=1, laddr=addr(ip='127.0.0.1', port=62117), raddr=addr(ip='127.0.0.1', port=62116), status='ESTABLISHED', pid=8216),\n",
       " sconn(fd=-1, family=<AddressFamily.AF_INET: 2>, type=1, laddr=addr(ip='127.0.0.1', port=61973), raddr=addr(ip='127.0.0.1', port=61972), status='ESTABLISHED', pid=4076),\n",
       " sconn(fd=-1, family=<AddressFamily.AF_INET: 2>, type=1, laddr=addr(ip='127.0.0.1', port=61754), raddr=addr(ip='127.0.0.1', port=61753), status='ESTABLISHED', pid=4076),\n",
       " sconn(fd=-1, family=<AddressFamily.AF_INET: 2>, type=1, laddr=addr(ip='127.0.0.1', port=61726), raddr=addr(ip='127.0.0.1', port=61725), status='ESTABLISHED', pid=13396),\n",
       " sconn(fd=-1, family=<AddressFamily.AF_INET: 2>, type=1, laddr=addr(ip='127.0.0.1', port=61205), raddr=addr(ip='127.0.0.1', port=61204), status='ESTABLISHED', pid=8540),\n",
       " sconn(fd=-1, family=<AddressFamily.AF_INET: 2>, type=1, laddr=addr(ip='127.0.0.1', port=61548), raddr=addr(ip='127.0.0.1', port=61549), status='ESTABLISHED', pid=13396),\n",
       " sconn(fd=-1, family=<AddressFamily.AF_INET: 2>, type=1, laddr=addr(ip='127.0.0.1', port=61282), raddr=addr(ip='127.0.0.1', port=61281), status='ESTABLISHED', pid=6940),\n",
       " sconn(fd=-1, family=<AddressFamily.AF_INET: 2>, type=1, laddr=addr(ip='127.0.0.1', port=61783), raddr=addr(ip='127.0.0.1', port=61782), status='ESTABLISHED', pid=13396),\n",
       " sconn(fd=-1, family=<AddressFamily.AF_INET: 2>, type=2, laddr=addr(ip='0.0.0.0', port=62682), raddr=(), status='NONE', pid=11080),\n",
       " sconn(fd=-1, family=<AddressFamily.AF_INET: 2>, type=1, laddr=addr(ip='127.0.0.1', port=61195), raddr=addr(ip='127.0.0.1', port=61196), status='ESTABLISHED', pid=8540),\n",
       " sconn(fd=-1, family=<AddressFamily.AF_INET: 2>, type=1, laddr=addr(ip='127.0.0.1', port=61243), raddr=(), status='LISTEN', pid=6940),\n",
       " sconn(fd=-1, family=<AddressFamily.AF_INET: 2>, type=2, laddr=addr(ip='192.168.43.202', port=1900), raddr=(), status='NONE', pid=3636),\n",
       " sconn(fd=-1, family=<AddressFamily.AF_INET6: 23>, type=1, laddr=addr(ip='::1', port=49669), raddr=(), status='LISTEN', pid=5696),\n",
       " sconn(fd=-1, family=<AddressFamily.AF_INET: 2>, type=1, laddr=addr(ip='127.0.0.1', port=61718), raddr=addr(ip='127.0.0.1', port=61717), status='ESTABLISHED', pid=16308),\n",
       " sconn(fd=-1, family=<AddressFamily.AF_INET: 2>, type=1, laddr=addr(ip='127.0.0.1', port=61786), raddr=addr(ip='127.0.0.1', port=61785), status='ESTABLISHED', pid=13396),\n",
       " sconn(fd=-1, family=<AddressFamily.AF_INET: 2>, type=1, laddr=addr(ip='127.0.0.1', port=61972), raddr=addr(ip='127.0.0.1', port=61973), status='ESTABLISHED', pid=4076),\n",
       " sconn(fd=-1, family=<AddressFamily.AF_INET: 2>, type=1, laddr=addr(ip='127.0.0.1', port=62283), raddr=addr(ip='127.0.0.1', port=62282), status='ESTABLISHED', pid=13396),\n",
       " sconn(fd=-1, family=<AddressFamily.AF_INET: 2>, type=1, laddr=addr(ip='127.0.0.1', port=61241), raddr=(), status='LISTEN', pid=6940),\n",
       " sconn(fd=-1, family=<AddressFamily.AF_INET: 2>, type=1, laddr=addr(ip='127.0.0.1', port=62314), raddr=addr(ip='127.0.0.1', port=62313), status='ESTABLISHED', pid=2536),\n",
       " sconn(fd=-1, family=<AddressFamily.AF_INET: 2>, type=1, laddr=addr(ip='127.0.0.1', port=61269), raddr=addr(ip='127.0.0.1', port=61268), status='ESTABLISHED', pid=6940),\n",
       " sconn(fd=-1, family=<AddressFamily.AF_INET: 2>, type=1, laddr=addr(ip='127.0.0.1', port=62278), raddr=addr(ip='127.0.0.1', port=62287), status='ESTABLISHED', pid=2536),\n",
       " sconn(fd=-1, family=<AddressFamily.AF_INET: 2>, type=1, laddr=addr(ip='127.0.0.1', port=61774), raddr=addr(ip='127.0.0.1', port=61775), status='ESTABLISHED', pid=4076),\n",
       " sconn(fd=-1, family=<AddressFamily.AF_INET: 2>, type=1, laddr=addr(ip='127.0.0.1', port=62296), raddr=addr(ip='127.0.0.1', port=62297), status='ESTABLISHED', pid=2536),\n",
       " sconn(fd=-1, family=<AddressFamily.AF_INET: 2>, type=1, laddr=addr(ip='127.0.0.1', port=61160), raddr=addr(ip='127.0.0.1', port=61224), status='ESTABLISHED', pid=8540),\n",
       " sconn(fd=-1, family=<AddressFamily.AF_INET: 2>, type=1, laddr=addr(ip='192.168.43.202', port=62811), raddr=addr(ip='15.206.149.93', port=443), status='ESTABLISHED', pid=11080),\n",
       " sconn(fd=-1, family=<AddressFamily.AF_INET: 2>, type=1, laddr=addr(ip='127.0.0.1', port=62331), raddr=addr(ip='127.0.0.1', port=62332), status='ESTABLISHED', pid=13396),\n",
       " sconn(fd=-1, family=<AddressFamily.AF_INET6: 23>, type=1, laddr=addr(ip='::', port=9001), raddr=(), status='LISTEN', pid=4),\n",
       " sconn(fd=-1, family=<AddressFamily.AF_INET: 2>, type=1, laddr=addr(ip='127.0.0.1', port=61541), raddr=addr(ip='127.0.0.1', port=61596), status='ESTABLISHED', pid=11272),\n",
       " sconn(fd=-1, family=<AddressFamily.AF_INET: 2>, type=1, laddr=addr(ip='127.0.0.1', port=61743), raddr=addr(ip='127.0.0.1', port=61742), status='ESTABLISHED', pid=13396),\n",
       " sconn(fd=-1, family=<AddressFamily.AF_INET: 2>, type=1, laddr=addr(ip='127.0.0.1', port=61713), raddr=addr(ip='127.0.0.1', port=61714), status='ESTABLISHED', pid=16308),\n",
       " sconn(fd=-1, family=<AddressFamily.AF_INET: 2>, type=1, laddr=addr(ip='127.0.0.1', port=62135), raddr=addr(ip='127.0.0.1', port=62035), status='ESTABLISHED', pid=13396),\n",
       " sconn(fd=-1, family=<AddressFamily.AF_INET: 2>, type=1, laddr=addr(ip='127.0.0.1', port=61223), raddr=addr(ip='127.0.0.1', port=61222), status='ESTABLISHED', pid=13396),\n",
       " sconn(fd=-1, family=<AddressFamily.AF_INET: 2>, type=1, laddr=addr(ip='127.0.0.1', port=62071), raddr=addr(ip='127.0.0.1', port=62070), status='ESTABLISHED', pid=16948),\n",
       " sconn(fd=-1, family=<AddressFamily.AF_INET: 2>, type=1, laddr=addr(ip='127.0.0.1', port=62132), raddr=addr(ip='127.0.0.1', port=62034), status='ESTABLISHED', pid=13396),\n",
       " sconn(fd=-1, family=<AddressFamily.AF_INET: 2>, type=1, laddr=addr(ip='127.0.0.1', port=61781), raddr=addr(ip='127.0.0.1', port=61780), status='ESTABLISHED', pid=4076),\n",
       " sconn(fd=-1, family=<AddressFamily.AF_INET: 2>, type=1, laddr=addr(ip='127.0.0.1', port=61160), raddr=addr(ip='127.0.0.1', port=61175), status='ESTABLISHED', pid=8540),\n",
       " sconn(fd=-1, family=<AddressFamily.AF_INET: 2>, type=1, laddr=addr(ip='127.0.0.1', port=61225), raddr=addr(ip='127.0.0.1', port=61161), status='ESTABLISHED', pid=13396),\n",
       " sconn(fd=-1, family=<AddressFamily.AF_INET: 2>, type=1, laddr=addr(ip='127.0.0.1', port=61186), raddr=addr(ip='127.0.0.1', port=61185), status='ESTABLISHED', pid=8540),\n",
       " sconn(fd=-1, family=<AddressFamily.AF_INET: 2>, type=1, laddr=addr(ip='0.0.0.0', port=5040), raddr=(), status='LISTEN', pid=6216),\n",
       " sconn(fd=-1, family=<AddressFamily.AF_INET: 2>, type=1, laddr=addr(ip='127.0.0.1', port=61211), raddr=addr(ip='127.0.0.1', port=61210), status='ESTABLISHED', pid=8540),\n",
       " sconn(fd=-1, family=<AddressFamily.AF_INET: 2>, type=1, laddr=addr(ip='127.0.0.1', port=61185), raddr=addr(ip='127.0.0.1', port=61186), status='ESTABLISHED', pid=8540),\n",
       " sconn(fd=-1, family=<AddressFamily.AF_INET: 2>, type=1, laddr=addr(ip='127.0.0.1', port=61290), raddr=addr(ip='127.0.0.1', port=61289), status='ESTABLISHED', pid=13396),\n",
       " sconn(fd=-1, family=<AddressFamily.AF_INET: 2>, type=1, laddr=addr(ip='127.0.0.1', port=61544), raddr=(), status='LISTEN', pid=11272),\n",
       " sconn(fd=-1, family=<AddressFamily.AF_INET: 2>, type=1, laddr=addr(ip='127.0.0.1', port=61780), raddr=addr(ip='127.0.0.1', port=61781), status='ESTABLISHED', pid=4076),\n",
       " sconn(fd=-1, family=<AddressFamily.AF_INET: 2>, type=1, laddr=addr(ip='127.0.0.1', port=61732), raddr=addr(ip='127.0.0.1', port=61731), status='ESTABLISHED', pid=13396),\n",
       " sconn(fd=-1, family=<AddressFamily.AF_INET: 2>, type=1, laddr=addr(ip='127.0.0.1', port=62292), raddr=addr(ip='127.0.0.1', port=62293), status='ESTABLISHED', pid=2536),\n",
       " sconn(fd=-1, family=<AddressFamily.AF_INET: 2>, type=1, laddr=addr(ip='127.0.0.1', port=61287), raddr=addr(ip='127.0.0.1', port=61288), status='ESTABLISHED', pid=6940),\n",
       " sconn(fd=-1, family=<AddressFamily.AF_INET: 2>, type=1, laddr=addr(ip='127.0.0.1', port=61584), raddr=addr(ip='127.0.0.1', port=61583), status='ESTABLISHED', pid=11272),\n",
       " sconn(fd=-1, family=<AddressFamily.AF_INET: 2>, type=1, laddr=addr(ip='127.0.0.1', port=62022), raddr=addr(ip='127.0.0.1', port=62049), status='ESTABLISHED', pid=16948),\n",
       " sconn(fd=-1, family=<AddressFamily.AF_INET: 2>, type=2, laddr=addr(ip='0.0.0.0', port=500), raddr=(), status='NONE', pid=4880),\n",
       " sconn(fd=-1, family=<AddressFamily.AF_INET: 2>, type=1, laddr=addr(ip='127.0.0.1', port=62066), raddr=addr(ip='127.0.0.1', port=62067), status='ESTABLISHED', pid=16948),\n",
       " sconn(fd=-1, family=<AddressFamily.AF_INET: 2>, type=1, laddr=addr(ip='127.0.0.1', port=61705), raddr=addr(ip='127.0.0.1', port=61704), status='ESTABLISHED', pid=16308),\n",
       " sconn(fd=-1, family=<AddressFamily.AF_INET: 2>, type=1, laddr=addr(ip='0.0.0.0', port=808), raddr=(), status='LISTEN', pid=4432),\n",
       " sconn(fd=-1, family=<AddressFamily.AF_INET: 2>, type=1, laddr=addr(ip='127.0.0.1', port=62068), raddr=addr(ip='127.0.0.1', port=62069), status='ESTABLISHED', pid=16948),\n",
       " sconn(fd=-1, family=<AddressFamily.AF_INET: 2>, type=1, laddr=addr(ip='127.0.0.1', port=62073), raddr=addr(ip='127.0.0.1', port=62074), status='ESTABLISHED', pid=16948),\n",
       " sconn(fd=-1, family=<AddressFamily.AF_INET: 2>, type=1, laddr=addr(ip='127.0.0.1', port=61587), raddr=addr(ip='127.0.0.1', port=61588), status='ESTABLISHED', pid=11272),\n",
       " sconn(fd=-1, family=<AddressFamily.AF_INET: 2>, type=1, laddr=addr(ip='127.0.0.1', port=62109), raddr=addr(ip='127.0.0.1', port=62110), status='ESTABLISHED', pid=8216),\n",
       " sconn(fd=-1, family=<AddressFamily.AF_INET6: 23>, type=1, laddr=addr(ip='::', port=49667), raddr=(), status='LISTEN', pid=2140),\n",
       " sconn(fd=-1, family=<AddressFamily.AF_INET: 2>, type=1, laddr=addr(ip='127.0.0.1', port=62023), raddr=(), status='LISTEN', pid=16948),\n",
       " sconn(fd=-1, family=<AddressFamily.AF_INET: 2>, type=1, laddr=addr(ip='127.0.0.1', port=61679), raddr=(), status='LISTEN', pid=16308),\n",
       " sconn(fd=-1, family=<AddressFamily.AF_INET: 2>, type=1, laddr=addr(ip='127.0.0.1', port=61260), raddr=addr(ip='127.0.0.1', port=61261), status='ESTABLISHED', pid=6940),\n",
       " sconn(fd=-1, family=<AddressFamily.AF_INET: 2>, type=1, laddr=addr(ip='127.0.0.1', port=62050), raddr=addr(ip='127.0.0.1', port=62020), status='ESTABLISHED', pid=13396),\n",
       " sconn(fd=-1, family=<AddressFamily.AF_INET: 2>, type=1, laddr=addr(ip='127.0.0.1', port=62076), raddr=addr(ip='127.0.0.1', port=62075), status='ESTABLISHED', pid=16948),\n",
       " sconn(fd=-1, family=<AddressFamily.AF_INET: 2>, type=1, laddr=addr(ip='127.0.0.1', port=61222), raddr=addr(ip='127.0.0.1', port=61223), status='ESTABLISHED', pid=13396),\n",
       " sconn(fd=-1, family=<AddressFamily.AF_INET: 2>, type=1, laddr=addr(ip='192.168.43.202', port=62879), raddr=addr(ip='99.86.49.183', port=443), status='CLOSE_WAIT', pid=14996),\n",
       " sconn(fd=-1, family=<AddressFamily.AF_INET: 2>, type=1, laddr=addr(ip='127.0.0.1', port=61568), raddr=addr(ip='127.0.0.1', port=61569), status='ESTABLISHED', pid=11272),\n",
       " sconn(fd=-1, family=<AddressFamily.AF_INET: 2>, type=1, laddr=addr(ip='127.0.0.1', port=61695), raddr=addr(ip='127.0.0.1', port=61694), status='ESTABLISHED', pid=16308),\n",
       " sconn(fd=-1, family=<AddressFamily.AF_INET: 2>, type=1, laddr=addr(ip='0.0.0.0', port=49666), raddr=(), status='LISTEN', pid=1824),\n",
       " sconn(fd=-1, family=<AddressFamily.AF_INET: 2>, type=1, laddr=addr(ip='127.0.0.1', port=61561), raddr=addr(ip='127.0.0.1', port=61560), status='ESTABLISHED', pid=11272),\n",
       " sconn(fd=-1, family=<AddressFamily.AF_INET: 2>, type=1, laddr=addr(ip='127.0.0.1', port=62037), raddr=addr(ip='127.0.0.1', port=62052), status='ESTABLISHED', pid=8216),\n",
       " sconn(fd=-1, family=<AddressFamily.AF_INET: 2>, type=1, laddr=addr(ip='127.0.0.1', port=61559), raddr=addr(ip='127.0.0.1', port=61558), status='ESTABLISHED', pid=11272),\n",
       " sconn(fd=-1, family=<AddressFamily.AF_INET: 2>, type=1, laddr=addr(ip='127.0.0.1', port=62298), raddr=addr(ip='127.0.0.1', port=62299), status='ESTABLISHED', pid=2536),\n",
       " sconn(fd=-1, family=<AddressFamily.AF_INET: 2>, type=1, laddr=addr(ip='127.0.0.1', port=61170), raddr=addr(ip='127.0.0.1', port=61171), status='ESTABLISHED', pid=13396),\n",
       " sconn(fd=-1, family=<AddressFamily.AF_INET: 2>, type=1, laddr=addr(ip='127.0.0.1', port=62130), raddr=addr(ip='127.0.0.1', port=62131), status='ESTABLISHED', pid=13396),\n",
       " sconn(fd=-1, family=<AddressFamily.AF_INET: 2>, type=1, laddr=addr(ip='127.0.0.1', port=62300), raddr=addr(ip='127.0.0.1', port=62301), status='ESTABLISHED', pid=2536),\n",
       " sconn(fd=-1, family=<AddressFamily.AF_INET: 2>, type=1, laddr=addr(ip='127.0.0.1', port=61212), raddr=addr(ip='127.0.0.1', port=61213), status='ESTABLISHED', pid=8540),\n",
       " sconn(fd=-1, family=<AddressFamily.AF_INET: 2>, type=1, laddr=addr(ip='127.0.0.1', port=61685), raddr=addr(ip='127.0.0.1', port=61684), status='ESTABLISHED', pid=13396),\n",
       " sconn(fd=-1, family=<AddressFamily.AF_INET: 2>, type=1, laddr=addr(ip='127.0.0.1', port=61562), raddr=addr(ip='127.0.0.1', port=61563), status='ESTABLISHED', pid=11272),\n",
       " sconn(fd=-1, family=<AddressFamily.AF_INET: 2>, type=1, laddr=addr(ip='127.0.0.1', port=61762), raddr=addr(ip='127.0.0.1', port=61761), status='ESTABLISHED', pid=4076),\n",
       " sconn(fd=-1, family=<AddressFamily.AF_INET: 2>, type=1, laddr=addr(ip='127.0.0.1', port=61569), raddr=addr(ip='127.0.0.1', port=61568), status='ESTABLISHED', pid=11272),\n",
       " sconn(fd=-1, family=<AddressFamily.AF_INET: 2>, type=1, laddr=addr(ip='127.0.0.1', port=61256), raddr=addr(ip='127.0.0.1', port=61257), status='ESTABLISHED', pid=6940),\n",
       " sconn(fd=-1, family=<AddressFamily.AF_INET: 2>, type=1, laddr=addr(ip='127.0.0.1', port=61277), raddr=addr(ip='127.0.0.1', port=61278), status='ESTABLISHED', pid=6940),\n",
       " sconn(fd=-1, family=<AddressFamily.AF_INET: 2>, type=1, laddr=addr(ip='127.0.0.1', port=62303), raddr=addr(ip='127.0.0.1', port=62302), status='ESTABLISHED', pid=2536),\n",
       " sconn(fd=-1, family=<AddressFamily.AF_INET: 2>, type=1, laddr=addr(ip='127.0.0.1', port=62751), raddr=addr(ip='127.0.0.1', port=62750), status='ESTABLISHED', pid=2536),\n",
       " sconn(fd=-1, family=<AddressFamily.AF_INET: 2>, type=1, laddr=addr(ip='127.0.0.1', port=61760), raddr=addr(ip='127.0.0.1', port=61759), status='ESTABLISHED', pid=4076),\n",
       " sconn(fd=-1, family=<AddressFamily.AF_INET: 2>, type=1, laddr=addr(ip='127.0.0.1', port=62120), raddr=addr(ip='127.0.0.1', port=62121), status='ESTABLISHED', pid=8216),\n",
       " sconn(fd=-1, family=<AddressFamily.AF_INET: 2>, type=2, laddr=addr(ip='0.0.0.0', port=5353), raddr=(), status='NONE', pid=3404),\n",
       " sconn(fd=-1, family=<AddressFamily.AF_INET: 2>, type=1, laddr=addr(ip='127.0.0.1', port=61239), raddr=addr(ip='127.0.0.1', port=61291), status='ESTABLISHED', pid=6940),\n",
       " sconn(fd=-1, family=<AddressFamily.AF_INET: 2>, type=1, laddr=addr(ip='127.0.0.1', port=61725), raddr=addr(ip='127.0.0.1', port=61726), status='ESTABLISHED', pid=13396),\n",
       " sconn(fd=-1, family=<AddressFamily.AF_INET: 2>, type=1, laddr=addr(ip='127.0.0.1', port=62058), raddr=addr(ip='127.0.0.1', port=62059), status='ESTABLISHED', pid=16948),\n",
       " sconn(fd=-1, family=<AddressFamily.AF_INET: 2>, type=1, laddr=addr(ip='127.0.0.1', port=62115), raddr=(), status='LISTEN', pid=8216),\n",
       " sconn(fd=-1, family=<AddressFamily.AF_INET: 2>, type=1, laddr=addr(ip='127.0.0.1', port=61191), raddr=addr(ip='127.0.0.1', port=61192), status='ESTABLISHED', pid=8540),\n",
       " sconn(fd=-1, family=<AddressFamily.AF_INET: 2>, type=1, laddr=addr(ip='127.0.0.1', port=61582), raddr=addr(ip='127.0.0.1', port=61581), status='ESTABLISHED', pid=11272),\n",
       " sconn(fd=-1, family=<AddressFamily.AF_INET6: 23>, type=2, laddr=addr(ip='::', port=5353), raddr=(), status='NONE', pid=2908),\n",
       " sconn(fd=-1, family=<AddressFamily.AF_INET: 2>, type=1, laddr=addr(ip='127.0.0.1', port=61778), raddr=addr(ip='127.0.0.1', port=61779), status='ESTABLISHED', pid=4076),\n",
       " sconn(fd=-1, family=<AddressFamily.AF_INET: 2>, type=1, laddr=addr(ip='127.0.0.1', port=61759), raddr=addr(ip='127.0.0.1', port=61760), status='ESTABLISHED', pid=4076),\n",
       " sconn(fd=-1, family=<AddressFamily.AF_INET: 2>, type=1, laddr=addr(ip='127.0.0.1', port=61575), raddr=addr(ip='127.0.0.1', port=61574), status='ESTABLISHED', pid=11272),\n",
       " sconn(fd=-1, family=<AddressFamily.AF_INET: 2>, type=1, laddr=addr(ip='127.0.0.1', port=62327), raddr=addr(ip='127.0.0.1', port=62277), status='ESTABLISHED', pid=13396),\n",
       " sconn(fd=-1, family=<AddressFamily.AF_INET: 2>, type=1, laddr=addr(ip='127.0.0.1', port=62110), raddr=addr(ip='127.0.0.1', port=62109), status='ESTABLISHED', pid=8216),\n",
       " sconn(fd=-1, family=<AddressFamily.AF_INET: 2>, type=1, laddr=addr(ip='127.0.0.1', port=62112), raddr=addr(ip='127.0.0.1', port=62111), status='ESTABLISHED', pid=8216),\n",
       " sconn(fd=-1, family=<AddressFamily.AF_INET: 2>, type=1, laddr=addr(ip='127.0.0.1', port=61777), raddr=addr(ip='127.0.0.1', port=61776), status='ESTABLISHED', pid=4076),\n",
       " sconn(fd=-1, family=<AddressFamily.AF_INET: 2>, type=1, laddr=addr(ip='127.0.0.1', port=62316), raddr=addr(ip='127.0.0.1', port=62315), status='ESTABLISHED', pid=2536),\n",
       " sconn(fd=-1, family=<AddressFamily.AF_INET: 2>, type=2, laddr=addr(ip='0.0.0.0', port=63540), raddr=(), status='NONE', pid=11764),\n",
       " sconn(fd=-1, family=<AddressFamily.AF_INET: 2>, type=1, laddr=addr(ip='127.0.0.1', port=61706), raddr=addr(ip='127.0.0.1', port=61707), status='ESTABLISHED', pid=16308),\n",
       " sconn(fd=-1, family=<AddressFamily.AF_INET6: 23>, type=2, laddr=addr(ip='::', port=500), raddr=(), status='NONE', pid=4880),\n",
       " sconn(fd=-1, family=<AddressFamily.AF_INET: 2>, type=1, laddr=addr(ip='127.0.0.1', port=61720), raddr=addr(ip='127.0.0.1', port=61719), status='ESTABLISHED', pid=16308),\n",
       " sconn(fd=-1, family=<AddressFamily.AF_INET: 2>, type=1, laddr=addr(ip='127.0.0.1', port=61680), raddr=(), status='LISTEN', pid=16308),\n",
       " sconn(fd=-1, family=<AddressFamily.AF_INET6: 23>, type=1, laddr=addr(ip='::1', port=8888), raddr=addr(ip='::1', port=62288), status='ESTABLISHED', pid=13396),\n",
       " sconn(fd=-1, family=<AddressFamily.AF_INET: 2>, type=1, laddr=addr(ip='127.0.0.1', port=61192), raddr=addr(ip='127.0.0.1', port=61191), status='ESTABLISHED', pid=8540),\n",
       " sconn(fd=-1, family=<AddressFamily.AF_INET: 2>, type=1, laddr=addr(ip='127.0.0.1', port=62104), raddr=addr(ip='127.0.0.1', port=62103), status='ESTABLISHED', pid=8216),\n",
       " sconn(fd=-1, family=<AddressFamily.AF_INET: 2>, type=1, laddr=addr(ip='127.0.0.1', port=62087), raddr=addr(ip='127.0.0.1', port=62086), status='ESTABLISHED', pid=16948),\n",
       " sconn(fd=-1, family=<AddressFamily.AF_INET: 2>, type=1, laddr=addr(ip='127.0.0.1', port=62103), raddr=addr(ip='127.0.0.1', port=62104), status='ESTABLISHED', pid=8216),\n",
       " sconn(fd=-1, family=<AddressFamily.AF_INET: 2>, type=1, laddr=addr(ip='127.0.0.1', port=62137), raddr=addr(ip='127.0.0.1', port=62136), status='ESTABLISHED', pid=13396),\n",
       " sconn(fd=-1, family=<AddressFamily.AF_INET: 2>, type=2, laddr=addr(ip='192.168.43.202', port=138), raddr=(), status='NONE', pid=4),\n",
       " sconn(fd=-1, family=<AddressFamily.AF_INET: 2>, type=1, laddr=addr(ip='127.0.0.1', port=61478), raddr=addr(ip='127.0.0.1', port=61479), status='ESTABLISHED', pid=8540),\n",
       " sconn(fd=-1, family=<AddressFamily.AF_INET: 2>, type=1, laddr=addr(ip='127.0.0.1', port=62308), raddr=addr(ip='127.0.0.1', port=62309), status='ESTABLISHED', pid=2536),\n",
       " sconn(fd=-1, family=<AddressFamily.AF_INET: 2>, type=1, laddr=addr(ip='127.0.0.1', port=62321), raddr=addr(ip='127.0.0.1', port=62322), status='ESTABLISHED', pid=2536),\n",
       " sconn(fd=-1, family=<AddressFamily.AF_INET: 2>, type=1, laddr=addr(ip='127.0.0.1', port=61753), raddr=addr(ip='127.0.0.1', port=61754), status='ESTABLISHED', pid=4076),\n",
       " sconn(fd=-1, family=<AddressFamily.AF_INET: 2>, type=1, laddr=addr(ip='127.0.0.1', port=61242), raddr=addr(ip='127.0.0.1', port=61246), status='ESTABLISHED', pid=6940),\n",
       " sconn(fd=-1, family=<AddressFamily.AF_INET: 2>, type=1, laddr=addr(ip='127.0.0.1', port=62280), raddr=addr(ip='127.0.0.1', port=62284), status='ESTABLISHED', pid=2536),\n",
       " sconn(fd=-1, family=<AddressFamily.AF_INET: 2>, type=1, laddr=addr(ip='127.0.0.1', port=61172), raddr=addr(ip='127.0.0.1', port=61162), status='ESTABLISHED', pid=13396),\n",
       " sconn(fd=-1, family=<AddressFamily.AF_INET: 2>, type=1, laddr=addr(ip='127.0.0.1', port=61735), raddr=(), status='LISTEN', pid=4076),\n",
       " sconn(fd=-1, family=<AddressFamily.AF_INET: 2>, type=1, laddr=addr(ip='127.0.0.1', port=61693), raddr=addr(ip='127.0.0.1', port=61692), status='ESTABLISHED', pid=16308),\n",
       " sconn(fd=-1, family=<AddressFamily.AF_INET: 2>, type=1, laddr=addr(ip='127.0.0.1', port=61291), raddr=addr(ip='127.0.0.1', port=61239), status='ESTABLISHED', pid=13396),\n",
       " sconn(fd=-1, family=<AddressFamily.AF_INET: 2>, type=1, laddr=addr(ip='127.0.0.1', port=61297), raddr=addr(ip='127.0.0.1', port=61241), status='ESTABLISHED', pid=13396),\n",
       " sconn(fd=-1, family=<AddressFamily.AF_INET: 2>, type=1, laddr=addr(ip='127.0.0.1', port=61755), raddr=addr(ip='127.0.0.1', port=61756), status='ESTABLISHED', pid=4076),\n",
       " sconn(fd=-1, family=<AddressFamily.AF_INET: 2>, type=1, laddr=addr(ip='127.0.0.1', port=61715), raddr=addr(ip='127.0.0.1', port=61716), status='ESTABLISHED', pid=16308),\n",
       " sconn(fd=-1, family=<AddressFamily.AF_INET: 2>, type=1, laddr=addr(ip='127.0.0.1', port=62055), raddr=addr(ip='127.0.0.1', port=62054), status='ESTABLISHED', pid=16948),\n",
       " sconn(fd=-1, family=<AddressFamily.AF_INET: 2>, type=1, laddr=addr(ip='127.0.0.1', port=62072), raddr=(), status='LISTEN', pid=16948),\n",
       " sconn(fd=-1, family=<AddressFamily.AF_INET: 2>, type=1, laddr=addr(ip='127.0.0.1', port=61221), raddr=addr(ip='127.0.0.1', port=61220), status='ESTABLISHED', pid=13396),\n",
       " sconn(fd=-1, family=<AddressFamily.AF_INET: 2>, type=1, laddr=addr(ip='127.0.0.1', port=62069), raddr=addr(ip='127.0.0.1', port=62068), status='ESTABLISHED', pid=16948),\n",
       " sconn(fd=-1, family=<AddressFamily.AF_INET: 2>, type=1, laddr=addr(ip='127.0.0.1', port=62332), raddr=addr(ip='127.0.0.1', port=62331), status='ESTABLISHED', pid=13396),\n",
       " sconn(fd=-1, family=<AddressFamily.AF_INET: 2>, type=1, laddr=addr(ip='127.0.0.1', port=61246), raddr=addr(ip='127.0.0.1', port=61242), status='ESTABLISHED', pid=13396),\n",
       " sconn(fd=-1, family=<AddressFamily.AF_INET: 2>, type=1, laddr=addr(ip='127.0.0.1', port=62282), raddr=addr(ip='127.0.0.1', port=62283), status='ESTABLISHED', pid=13396),\n",
       " sconn(fd=-1, family=<AddressFamily.AF_INET: 2>, type=1, laddr=addr(ip='127.0.0.1', port=62304), raddr=addr(ip='127.0.0.1', port=62305), status='ESTABLISHED', pid=2536),\n",
       " sconn(fd=-1, family=<AddressFamily.AF_INET: 2>, type=1, laddr=addr(ip='127.0.0.1', port=61592), raddr=addr(ip='127.0.0.1', port=61591), status='ESTABLISHED', pid=13396),\n",
       " sconn(fd=-1, family=<AddressFamily.AF_INET: 2>, type=1, laddr=addr(ip='127.0.0.1', port=62040), raddr=addr(ip='127.0.0.1', port=62039), status='ESTABLISHED', pid=13396),\n",
       " sconn(fd=-1, family=<AddressFamily.AF_INET: 2>, type=1, laddr=addr(ip='127.0.0.1', port=8888), raddr=(), status='LISTEN', pid=13396),\n",
       " sconn(fd=-1, family=<AddressFamily.AF_INET: 2>, type=1, laddr=addr(ip='127.0.0.1', port=61193), raddr=addr(ip='127.0.0.1', port=61194), status='ESTABLISHED', pid=8540),\n",
       " sconn(fd=-1, family=<AddressFamily.AF_INET: 2>, type=1, laddr=addr(ip='127.0.0.1', port=61681), raddr=(), status='LISTEN', pid=16308),\n",
       " sconn(fd=-1, family=<AddressFamily.AF_INET: 2>, type=1, laddr=addr(ip='127.0.0.1', port=62312), raddr=addr(ip='127.0.0.1', port=62311), status='ESTABLISHED', pid=2536),\n",
       " sconn(fd=-1, family=<AddressFamily.AF_INET: 2>, type=2, laddr=addr(ip='192.168.43.202', port=49965), raddr=(), status='NONE', pid=3636),\n",
       " sconn(fd=-1, family=<AddressFamily.AF_INET: 2>, type=1, laddr=addr(ip='127.0.0.1', port=61680), raddr=addr(ip='127.0.0.1', port=61686), status='ESTABLISHED', pid=16308),\n",
       " sconn(fd=-1, family=<AddressFamily.AF_INET: 2>, type=1, laddr=addr(ip='127.0.0.1', port=61758), raddr=addr(ip='127.0.0.1', port=61757), status='ESTABLISHED', pid=4076),\n",
       " sconn(fd=-1, family=<AddressFamily.AF_INET: 2>, type=1, laddr=addr(ip='127.0.0.1', port=61262), raddr=addr(ip='127.0.0.1', port=61263), status='ESTABLISHED', pid=6940),\n",
       " sconn(fd=-1, family=<AddressFamily.AF_INET: 2>, type=1, laddr=addr(ip='127.0.0.1', port=61558), raddr=addr(ip='127.0.0.1', port=61559), status='ESTABLISHED', pid=11272),\n",
       " sconn(fd=-1, family=<AddressFamily.AF_INET: 2>, type=1, laddr=addr(ip='127.0.0.1', port=61271), raddr=addr(ip='127.0.0.1', port=61270), status='ESTABLISHED', pid=6940),\n",
       " sconn(fd=-1, family=<AddressFamily.AF_INET: 2>, type=1, laddr=addr(ip='127.0.0.1', port=62060), raddr=addr(ip='127.0.0.1', port=62061), status='ESTABLISHED', pid=16948),\n",
       " sconn(fd=-1, family=<AddressFamily.AF_INET: 2>, type=2, laddr=addr(ip='127.0.0.1', port=1900), raddr=(), status='NONE', pid=3636),\n",
       " sconn(fd=-1, family=<AddressFamily.AF_INET: 2>, type=1, laddr=addr(ip='127.0.0.1', port=61283), raddr=addr(ip='127.0.0.1', port=61284), status='ESTABLISHED', pid=6940),\n",
       " sconn(fd=-1, family=<AddressFamily.AF_INET: 2>, type=1, laddr=addr(ip='127.0.0.1', port=62286), raddr=addr(ip='127.0.0.1', port=62285), status='ESTABLISHED', pid=13396),\n",
       " sconn(fd=-1, family=<AddressFamily.AF_INET: 2>, type=1, laddr=addr(ip='127.0.0.1', port=62322), raddr=addr(ip='127.0.0.1', port=62321), status='ESTABLISHED', pid=2536),\n",
       " sconn(fd=-1, family=<AddressFamily.AF_INET: 2>, type=1, laddr=addr(ip='192.168.43.202', port=62266), raddr=addr(ip='18.205.93.223', port=443), status='ESTABLISHED', pid=1768),\n",
       " sconn(fd=-1, family=<AddressFamily.AF_INET: 2>, type=1, laddr=addr(ip='127.0.0.1', port=61175), raddr=addr(ip='127.0.0.1', port=61160), status='ESTABLISHED', pid=13396),\n",
       " sconn(fd=-1, family=<AddressFamily.AF_INET: 2>, type=1, laddr=addr(ip='127.0.0.1', port=61555), raddr=addr(ip='127.0.0.1', port=61543), status='ESTABLISHED', pid=13396),\n",
       " sconn(fd=-1, family=<AddressFamily.AF_INET: 2>, type=1, laddr=addr(ip='127.0.0.1', port=61281), raddr=addr(ip='127.0.0.1', port=61282), status='ESTABLISHED', pid=6940),\n",
       " sconn(fd=-1, family=<AddressFamily.AF_INET: 2>, type=1, laddr=addr(ip='127.0.0.1', port=62127), raddr=addr(ip='127.0.0.1', port=62126), status='ESTABLISHED', pid=8216),\n",
       " sconn(fd=-1, family=<AddressFamily.AF_INET: 2>, type=1, laddr=addr(ip='127.0.0.1', port=62133), raddr=addr(ip='127.0.0.1', port=62134), status='ESTABLISHED', pid=13396),\n",
       " sconn(fd=-1, family=<AddressFamily.AF_INET: 2>, type=1, laddr=addr(ip='127.0.0.1', port=62019), raddr=(), status='LISTEN', pid=16948),\n",
       " sconn(fd=-1, family=<AddressFamily.AF_INET: 2>, type=1, laddr=addr(ip='127.0.0.1', port=61700), raddr=addr(ip='127.0.0.1', port=61701), status='ESTABLISHED', pid=16308),\n",
       " sconn(fd=-1, family=<AddressFamily.AF_INET: 2>, type=1, laddr=addr(ip='127.0.0.1', port=61735), raddr=addr(ip='127.0.0.1', port=61787), status='ESTABLISHED', pid=4076),\n",
       " sconn(fd=-1, family=<AddressFamily.AF_INET: 2>, type=1, laddr=addr(ip='127.0.0.1', port=62326), raddr=addr(ip='127.0.0.1', port=62325), status='ESTABLISHED', pid=13396),\n",
       " sconn(fd=-1, family=<AddressFamily.AF_INET: 2>, type=1, laddr=addr(ip='0.0.0.0', port=9001), raddr=(), status='LISTEN', pid=4),\n",
       " sconn(fd=-1, family=<AddressFamily.AF_INET: 2>, type=1, laddr=addr(ip='127.0.0.1', port=61590), raddr=addr(ip='127.0.0.1', port=61589), status='ESTABLISHED', pid=11272),\n",
       " sconn(fd=-1, family=<AddressFamily.AF_INET: 2>, type=1, laddr=addr(ip='127.0.0.1', port=61771), raddr=addr(ip='127.0.0.1', port=61770), status='ESTABLISHED', pid=4076),\n",
       " sconn(fd=-1, family=<AddressFamily.AF_INET: 2>, type=1, laddr=addr(ip='127.0.0.1', port=61789), raddr=addr(ip='127.0.0.1', port=61788), status='ESTABLISHED', pid=13396),\n",
       " sconn(fd=-1, family=<AddressFamily.AF_INET: 2>, type=1, laddr=addr(ip='127.0.0.1', port=62123), raddr=addr(ip='127.0.0.1', port=62122), status='ESTABLISHED', pid=8216),\n",
       " sconn(fd=-1, family=<AddressFamily.AF_INET: 2>, type=1, laddr=addr(ip='127.0.0.1', port=62129), raddr=addr(ip='127.0.0.1', port=62128), status='ESTABLISHED', pid=8216),\n",
       " sconn(fd=-1, family=<AddressFamily.AF_INET: 2>, type=1, laddr=addr(ip='127.0.0.1', port=61580), raddr=addr(ip='127.0.0.1', port=61579), status='ESTABLISHED', pid=11272),\n",
       " sconn(fd=-1, family=<AddressFamily.AF_INET: 2>, type=1, laddr=addr(ip='127.0.0.1', port=62106), raddr=addr(ip='127.0.0.1', port=62105), status='ESTABLISHED', pid=8216),\n",
       " sconn(fd=-1, family=<AddressFamily.AF_INET: 2>, type=1, laddr=addr(ip='127.0.0.1', port=61196), raddr=addr(ip='127.0.0.1', port=61195), status='ESTABLISHED', pid=8540),\n",
       " sconn(fd=-1, family=<AddressFamily.AF_INET: 2>, type=1, laddr=addr(ip='127.0.0.1', port=61790), raddr=addr(ip='127.0.0.1', port=61736), status='ESTABLISHED', pid=13396),\n",
       " sconn(fd=-1, family=<AddressFamily.AF_INET: 2>, type=1, laddr=addr(ip='127.0.0.1', port=61542), raddr=(), status='LISTEN', pid=11272),\n",
       " sconn(fd=-1, family=<AddressFamily.AF_INET: 2>, type=1, laddr=addr(ip='127.0.0.1', port=61293), raddr=addr(ip='127.0.0.1', port=61292), status='ESTABLISHED', pid=13396),\n",
       " sconn(fd=-1, family=<AddressFamily.AF_INET: 2>, type=1, laddr=addr(ip='127.0.0.1', port=61549), raddr=addr(ip='127.0.0.1', port=61548), status='ESTABLISHED', pid=13396),\n",
       " sconn(fd=-1, family=<AddressFamily.AF_INET: 2>, type=1, laddr=addr(ip='127.0.0.1', port=61776), raddr=addr(ip='127.0.0.1', port=61777), status='ESTABLISHED', pid=4076),\n",
       " sconn(fd=-1, family=<AddressFamily.AF_INET: 2>, type=1, laddr=addr(ip='127.0.0.1', port=61210), raddr=addr(ip='127.0.0.1', port=61211), status='ESTABLISHED', pid=8540),\n",
       " sconn(fd=-1, family=<AddressFamily.AF_INET: 2>, type=1, laddr=addr(ip='127.0.0.1', port=61263), raddr=addr(ip='127.0.0.1', port=61262), status='ESTABLISHED', pid=6940),\n",
       " sconn(fd=-1, family=<AddressFamily.AF_INET: 2>, type=1, laddr=addr(ip='127.0.0.1', port=61782), raddr=addr(ip='127.0.0.1', port=61783), status='ESTABLISHED', pid=13396),\n",
       " sconn(fd=-1, family=<AddressFamily.AF_INET6: 23>, type=1, laddr=addr(ip='::', port=808), raddr=(), status='LISTEN', pid=4432),\n",
       " sconn(fd=-1, family=<AddressFamily.AF_INET: 2>, type=1, laddr=addr(ip='127.0.0.1', port=61168), raddr=addr(ip='127.0.0.1', port=61169), status='ESTABLISHED', pid=13396),\n",
       " sconn(fd=-1, family=<AddressFamily.AF_INET: 2>, type=1, laddr=addr(ip='127.0.0.1', port=62107), raddr=addr(ip='127.0.0.1', port=62108), status='ESTABLISHED', pid=8216),\n",
       " sconn(fd=-1, family=<AddressFamily.AF_INET: 2>, type=1, laddr=addr(ip='127.0.0.1', port=61598), raddr=addr(ip='127.0.0.1', port=61597), status='ESTABLISHED', pid=13396),\n",
       " sconn(fd=-1, family=<AddressFamily.AF_INET: 2>, type=1, laddr=addr(ip='127.0.0.1', port=61565), raddr=addr(ip='127.0.0.1', port=61564), status='ESTABLISHED', pid=11272),\n",
       " sconn(fd=-1, family=<AddressFamily.AF_INET: 2>, type=1, laddr=addr(ip='127.0.0.1', port=61164), raddr=addr(ip='127.0.0.1', port=61165), status='ESTABLISHED', pid=13396),\n",
       " sconn(fd=-1, family=<AddressFamily.AF_INET: 2>, type=1, laddr=addr(ip='127.0.0.1', port=62083), raddr=addr(ip='127.0.0.1', port=62084), status='ESTABLISHED', pid=16948),\n",
       " sconn(fd=-1, family=<AddressFamily.AF_INET: 2>, type=1, laddr=addr(ip='127.0.0.1', port=62313), raddr=addr(ip='127.0.0.1', port=62314), status='ESTABLISHED', pid=2536),\n",
       " sconn(fd=-1, family=<AddressFamily.AF_INET: 2>, type=1, laddr=addr(ip='127.0.0.1', port=61710), raddr=(), status='LISTEN', pid=16308),\n",
       " sconn(fd=-1, family=<AddressFamily.AF_INET6: 23>, type=1, laddr=addr(ip='::', port=135), raddr=(), status='LISTEN', pid=1184),\n",
       " sconn(fd=-1, family=<AddressFamily.AF_INET: 2>, type=1, laddr=addr(ip='127.0.0.1', port=62070), raddr=addr(ip='127.0.0.1', port=62071), status='ESTABLISHED', pid=16948),\n",
       " sconn(fd=-1, family=<AddressFamily.AF_INET: 2>, type=1, laddr=addr(ip='127.0.0.1', port=62121), raddr=addr(ip='127.0.0.1', port=62120), status='ESTABLISHED', pid=8216),\n",
       " sconn(fd=-1, family=<AddressFamily.AF_INET: 2>, type=1, laddr=addr(ip='127.0.0.1', port=61220), raddr=addr(ip='127.0.0.1', port=61221), status='ESTABLISHED', pid=13396),\n",
       " sconn(fd=-1, family=<AddressFamily.AF_INET: 2>, type=1, laddr=addr(ip='127.0.0.1', port=61240), raddr=addr(ip='127.0.0.1', port=61249), status='ESTABLISHED', pid=6940),\n",
       " sconn(fd=-1, family=<AddressFamily.AF_INET: 2>, type=1, laddr=addr(ip='127.0.0.1', port=61201), raddr=(), status='LISTEN', pid=8540),\n",
       " sconn(fd=-1, family=<AddressFamily.AF_INET: 2>, type=1, laddr=addr(ip='127.0.0.1', port=61563), raddr=addr(ip='127.0.0.1', port=61562), status='ESTABLISHED', pid=11272),\n",
       " sconn(fd=-1, family=<AddressFamily.AF_INET: 2>, type=1, laddr=addr(ip='127.0.0.1', port=61541), raddr=(), status='LISTEN', pid=11272),\n",
       " sconn(fd=-1, family=<AddressFamily.AF_INET: 2>, type=1, laddr=addr(ip='127.0.0.1', port=61708), raddr=addr(ip='127.0.0.1', port=61709), status='ESTABLISHED', pid=16308),\n",
       " sconn(fd=-1, family=<AddressFamily.AF_INET: 2>, type=1, laddr=addr(ip='127.0.0.1', port=61697), raddr=addr(ip='127.0.0.1', port=61696), status='ESTABLISHED', pid=16308),\n",
       " sconn(fd=-1, family=<AddressFamily.AF_INET: 2>, type=1, laddr=addr(ip='127.0.0.1', port=61763), raddr=addr(ip='127.0.0.1', port=61764), status='ESTABLISHED', pid=4076),\n",
       " sconn(fd=-1, family=<AddressFamily.AF_INET: 2>, type=1, laddr=addr(ip='127.0.0.1', port=61768), raddr=addr(ip='127.0.0.1', port=61769), status='ESTABLISHED', pid=4076),\n",
       " sconn(fd=-1, family=<AddressFamily.AF_INET: 2>, type=1, laddr=addr(ip='127.0.0.1', port=61266), raddr=addr(ip='127.0.0.1', port=61267), status='ESTABLISHED', pid=6940),\n",
       " sconn(fd=-1, family=<AddressFamily.AF_INET: 2>, type=1, laddr=addr(ip='127.0.0.1', port=61160), raddr=(), status='LISTEN', pid=8540),\n",
       " sconn(fd=-1, family=<AddressFamily.AF_INET: 2>, type=1, laddr=addr(ip='127.0.0.1', port=61257), raddr=addr(ip='127.0.0.1', port=61256), status='ESTABLISHED', pid=6940),\n",
       " sconn(fd=-1, family=<AddressFamily.AF_INET: 2>, type=1, laddr=addr(ip='127.0.0.1', port=61703), raddr=addr(ip='127.0.0.1', port=61702), status='ESTABLISHED', pid=16308),\n",
       " sconn(fd=-1, family=<AddressFamily.AF_INET: 2>, type=1, laddr=addr(ip='127.0.0.1', port=61183), raddr=addr(ip='127.0.0.1', port=61184), status='ESTABLISHED', pid=8540),\n",
       " sconn(fd=-1, family=<AddressFamily.AF_INET: 2>, type=1, laddr=addr(ip='127.0.0.1', port=61738), raddr=(), status='LISTEN', pid=4076),\n",
       " sconn(fd=-1, family=<AddressFamily.AF_INET: 2>, type=1, laddr=addr(ip='127.0.0.1', port=61097), raddr=addr(ip='127.0.0.1', port=61098), status='ESTABLISHED', pid=13396),\n",
       " sconn(fd=-1, family=<AddressFamily.AF_INET: 2>, type=1, laddr=addr(ip='127.0.0.1', port=62105), raddr=addr(ip='127.0.0.1', port=62106), status='ESTABLISHED', pid=8216),\n",
       " sconn(fd=-1, family=<AddressFamily.AF_INET6: 23>, type=1, laddr=addr(ip='2409:4052:78f:81fb:bd4d:d6d1:178d:1519', port=62894), raddr=addr(ip='2404:6800:4002:80f::200a', port=443), status='TIME_WAIT', pid=0),\n",
       " sconn(fd=-1, family=<AddressFamily.AF_INET: 2>, type=1, laddr=addr(ip='127.0.0.1', port=18171), raddr=(), status='LISTEN', pid=11468),\n",
       " sconn(fd=-1, family=<AddressFamily.AF_INET: 2>, type=1, laddr=addr(ip='0.0.0.0', port=49670), raddr=(), status='LISTEN', pid=908),\n",
       " sconn(fd=-1, family=<AddressFamily.AF_INET: 2>, type=1, laddr=addr(ip='127.0.0.1', port=62278), raddr=(), status='LISTEN', pid=2536),\n",
       " sconn(fd=-1, family=<AddressFamily.AF_INET: 2>, type=2, laddr=addr(ip='0.0.0.0', port=5050), raddr=(), status='NONE', pid=6216),\n",
       " sconn(fd=-1, family=<AddressFamily.AF_INET: 2>, type=1, laddr=addr(ip='127.0.0.1', port=61197), raddr=addr(ip='127.0.0.1', port=61198), status='ESTABLISHED', pid=8540),\n",
       " sconn(fd=-1, family=<AddressFamily.AF_INET: 2>, type=1, laddr=addr(ip='127.0.0.1', port=61751), raddr=addr(ip='127.0.0.1', port=61752), status='ESTABLISHED', pid=4076),\n",
       " sconn(fd=-1, family=<AddressFamily.AF_INET: 2>, type=1, laddr=addr(ip='127.0.0.1', port=61274), raddr=(), status='LISTEN', pid=6940),\n",
       " sconn(fd=-1, family=<AddressFamily.AF_INET6: 23>, type=1, laddr=addr(ip='2409:4052:78f:81fb:bd4d:d6d1:178d:1519', port=62809), raddr=addr(ip='2a03:2880:f244:c2:face:b00c:0:167', port=443), status='ESTABLISHED', pid=13556),\n",
       " sconn(fd=-1, family=<AddressFamily.AF_INET: 2>, type=1, laddr=addr(ip='127.0.0.1', port=61769), raddr=addr(ip='127.0.0.1', port=61768), status='ESTABLISHED', pid=4076),\n",
       " sconn(fd=-1, family=<AddressFamily.AF_INET: 2>, type=1, laddr=addr(ip='127.0.0.1', port=61785), raddr=addr(ip='127.0.0.1', port=61786), status='ESTABLISHED', pid=13396),\n",
       " sconn(fd=-1, family=<AddressFamily.AF_INET: 2>, type=1, laddr=addr(ip='127.0.0.1', port=61479), raddr=addr(ip='127.0.0.1', port=61478), status='ESTABLISHED', pid=8540),\n",
       " sconn(fd=-1, family=<AddressFamily.AF_INET: 2>, type=1, laddr=addr(ip='127.0.0.1', port=62138), raddr=addr(ip='127.0.0.1', port=62036), status='ESTABLISHED', pid=13396),\n",
       " sconn(fd=-1, family=<AddressFamily.AF_INET: 2>, type=1, laddr=addr(ip='127.0.0.1', port=62310), raddr=(), status='LISTEN', pid=2536),\n",
       " sconn(fd=-1, family=<AddressFamily.AF_INET: 2>, type=1, laddr=addr(ip='127.0.0.1', port=61579), raddr=addr(ip='127.0.0.1', port=61580), status='ESTABLISHED', pid=11272),\n",
       " sconn(fd=-1, family=<AddressFamily.AF_INET: 2>, type=1, laddr=addr(ip='127.0.0.1', port=61611), raddr=addr(ip='127.0.0.1', port=61612), status='ESTABLISHED', pid=11272),\n",
       " sconn(fd=-1, family=<AddressFamily.AF_INET: 2>, type=1, laddr=addr(ip='127.0.0.1', port=62057), raddr=addr(ip='127.0.0.1', port=62056), status='ESTABLISHED', pid=16948),\n",
       " sconn(fd=-1, family=<AddressFamily.AF_INET: 2>, type=2, laddr=addr(ip='0.0.0.0', port=5353), raddr=(), status='NONE', pid=2908),\n",
       " sconn(fd=-1, family=<AddressFamily.AF_INET: 2>, type=1, laddr=addr(ip='127.0.0.1', port=61750), raddr=addr(ip='127.0.0.1', port=61749), status='ESTABLISHED', pid=4076),\n",
       " sconn(fd=-1, family=<AddressFamily.AF_INET: 2>, type=1, laddr=addr(ip='127.0.0.1', port=62079), raddr=addr(ip='127.0.0.1', port=62080), status='ESTABLISHED', pid=16948),\n",
       " sconn(fd=-1, family=<AddressFamily.AF_INET: 2>, type=1, laddr=addr(ip='127.0.0.1', port=61540), raddr=addr(ip='127.0.0.1', port=61593), status='ESTABLISHED', pid=11272),\n",
       " sconn(fd=-1, family=<AddressFamily.AF_INET: 2>, type=1, laddr=addr(ip='127.0.0.1', port=61772), raddr=addr(ip='127.0.0.1', port=61773), status='ESTABLISHED', pid=4076),\n",
       " sconn(fd=-1, family=<AddressFamily.AF_INET: 2>, type=1, laddr=addr(ip='127.0.0.1', port=62330), raddr=addr(ip='127.0.0.1', port=62278), status='ESTABLISHED', pid=13396),\n",
       " sconn(fd=-1, family=<AddressFamily.AF_INET: 2>, type=1, laddr=addr(ip='127.0.0.1', port=61207), raddr=addr(ip='127.0.0.1', port=61206), status='ESTABLISHED', pid=8540),\n",
       " sconn(fd=-1, family=<AddressFamily.AF_INET: 2>, type=1, laddr=addr(ip='127.0.0.1', port=61161), raddr=(), status='LISTEN', pid=8540),\n",
       " sconn(fd=-1, family=<AddressFamily.AF_INET: 2>, type=1, laddr=addr(ip='127.0.0.1', port=62122), raddr=addr(ip='127.0.0.1', port=62123), status='ESTABLISHED', pid=8216),\n",
       " sconn(fd=-1, family=<AddressFamily.AF_INET: 2>, type=1, laddr=addr(ip='192.168.43.202', port=62795), raddr=addr(ip='3.80.20.198', port=443), status='ESTABLISHED', pid=1768),\n",
       " sconn(fd=-1, family=<AddressFamily.AF_INET: 2>, type=1, laddr=addr(ip='127.0.0.1', port=62097), raddr=addr(ip='127.0.0.1', port=62098), status='ESTABLISHED', pid=8216),\n",
       " sconn(fd=-1, family=<AddressFamily.AF_INET: 2>, type=1, laddr=addr(ip='127.0.0.1', port=61749), raddr=addr(ip='127.0.0.1', port=61750), status='ESTABLISHED', pid=4076),\n",
       " sconn(fd=-1, family=<AddressFamily.AF_INET: 2>, type=1, laddr=addr(ip='127.0.0.1', port=62090), raddr=addr(ip='127.0.0.1', port=62019), status='ESTABLISHED', pid=13396),\n",
       " sconn(fd=-1, family=<AddressFamily.AF_INET: 2>, type=2, laddr=addr(ip='192.168.43.202', port=137), raddr=(), status='NONE', pid=4),\n",
       " sconn(fd=-1, family=<AddressFamily.AF_INET: 2>, type=1, laddr=addr(ip='127.0.0.1', port=61723), raddr=addr(ip='127.0.0.1', port=61724), status='ESTABLISHED', pid=16308),\n",
       " sconn(fd=-1, family=<AddressFamily.AF_INET6: 23>, type=2, laddr=addr(ip='::', port=5353), raddr=(), status='NONE', pid=3404),\n",
       " sconn(fd=-1, family=<AddressFamily.AF_INET: 2>, type=1, laddr=addr(ip='127.0.0.1', port=62082), raddr=addr(ip='127.0.0.1', port=62081), status='ESTABLISHED', pid=16948),\n",
       " sconn(fd=-1, family=<AddressFamily.AF_INET: 2>, type=2, laddr=addr(ip='127.0.0.1', port=49664), raddr=(), status='NONE', pid=4964),\n",
       " sconn(fd=-1, family=<AddressFamily.AF_INET: 2>, type=1, laddr=addr(ip='127.0.0.1', port=62036), raddr=addr(ip='127.0.0.1', port=62138), status='ESTABLISHED', pid=8216),\n",
       " sconn(fd=-1, family=<AddressFamily.AF_INET: 2>, type=1, laddr=addr(ip='127.0.0.1', port=61704), raddr=addr(ip='127.0.0.1', port=61705), status='ESTABLISHED', pid=16308),\n",
       " sconn(fd=-1, family=<AddressFamily.AF_INET: 2>, type=1, laddr=addr(ip='127.0.0.1', port=62038), raddr=(), status='LISTEN', pid=8216),\n",
       " sconn(fd=-1, family=<AddressFamily.AF_INET: 2>, type=1, laddr=addr(ip='127.0.0.1', port=61245), raddr=addr(ip='127.0.0.1', port=61244), status='ESTABLISHED', pid=13396),\n",
       " sconn(fd=-1, family=<AddressFamily.AF_INET: 2>, type=1, laddr=addr(ip='127.0.0.1', port=61757), raddr=addr(ip='127.0.0.1', port=61758), status='ESTABLISHED', pid=4076),\n",
       " sconn(fd=-1, family=<AddressFamily.AF_INET: 2>, type=1, laddr=addr(ip='127.0.0.1', port=62305), raddr=addr(ip='127.0.0.1', port=62304), status='ESTABLISHED', pid=2536),\n",
       " sconn(fd=-1, family=<AddressFamily.AF_INET6: 23>, type=1, laddr=addr(ip='::', port=445), raddr=(), status='LISTEN', pid=4),\n",
       " sconn(fd=-1, family=<AddressFamily.AF_INET: 2>, type=1, laddr=addr(ip='127.0.0.1', port=62280), raddr=(), status='LISTEN', pid=2536),\n",
       " sconn(fd=-1, family=<AddressFamily.AF_INET6: 23>, type=2, laddr=addr(ip='::', port=63540), raddr=(), status='NONE', pid=11764),\n",
       " sconn(fd=-1, family=<AddressFamily.AF_INET: 2>, type=1, laddr=addr(ip='127.0.0.1', port=61678), raddr=(), status='LISTEN', pid=16308),\n",
       " sconn(fd=-1, family=<AddressFamily.AF_INET: 2>, type=1, laddr=addr(ip='127.0.0.1', port=61258), raddr=addr(ip='127.0.0.1', port=61259), status='ESTABLISHED', pid=6940),\n",
       " sconn(fd=-1, family=<AddressFamily.AF_INET: 2>, type=1, laddr=addr(ip='127.0.0.1', port=61567), raddr=addr(ip='127.0.0.1', port=61566), status='ESTABLISHED', pid=11272),\n",
       " sconn(fd=-1, family=<AddressFamily.AF_INET6: 23>, type=1, laddr=addr(ip='::1', port=62288), raddr=addr(ip='::1', port=8888), status='ESTABLISHED', pid=13556),\n",
       " sconn(fd=-1, family=<AddressFamily.AF_INET: 2>, type=2, laddr=addr(ip='0.0.0.0', port=62684), raddr=(), status='NONE', pid=11080),\n",
       " sconn(fd=-1, family=<AddressFamily.AF_INET: 2>, type=1, laddr=addr(ip='127.0.0.1', port=61292), raddr=addr(ip='127.0.0.1', port=61293), status='ESTABLISHED', pid=13396),\n",
       " sconn(fd=-1, family=<AddressFamily.AF_INET: 2>, type=1, laddr=addr(ip='127.0.0.1', port=62049), raddr=addr(ip='127.0.0.1', port=62022), status='ESTABLISHED', pid=13396),\n",
       " sconn(fd=-1, family=<AddressFamily.AF_INET: 2>, type=1, laddr=addr(ip='127.0.0.1', port=61699), raddr=addr(ip='127.0.0.1', port=61698), status='ESTABLISHED', pid=16308),\n",
       " sconn(fd=-1, family=<AddressFamily.AF_INET: 2>, type=1, laddr=addr(ip='127.0.0.1', port=62053), raddr=addr(ip='127.0.0.1', port=62035), status='ESTABLISHED', pid=13396),\n",
       " sconn(fd=-1, family=<AddressFamily.AF_INET: 2>, type=1, laddr=addr(ip='127.0.0.1', port=62324), raddr=addr(ip='127.0.0.1', port=62323), status='ESTABLISHED', pid=2536),\n",
       " sconn(fd=-1, family=<AddressFamily.AF_INET: 2>, type=1, laddr=addr(ip='127.0.0.1', port=61712), raddr=addr(ip='127.0.0.1', port=61711), status='ESTABLISHED', pid=16308),\n",
       " sconn(fd=-1, family=<AddressFamily.AF_INET: 2>, type=1, laddr=addr(ip='127.0.0.1', port=61280), raddr=addr(ip='127.0.0.1', port=61279), status='ESTABLISHED', pid=6940),\n",
       " sconn(fd=-1, family=<AddressFamily.AF_INET: 2>, type=1, laddr=addr(ip='127.0.0.1', port=61560), raddr=addr(ip='127.0.0.1', port=61561), status='ESTABLISHED', pid=11272),\n",
       " sconn(fd=-1, family=<AddressFamily.AF_INET: 2>, type=1, laddr=addr(ip='127.0.0.1', port=62113), raddr=addr(ip='127.0.0.1', port=62114), status='ESTABLISHED', pid=8216),\n",
       " sconn(fd=-1, family=<AddressFamily.AF_INET: 2>, type=1, laddr=addr(ip='127.0.0.1', port=61276), raddr=addr(ip='127.0.0.1', port=61275), status='ESTABLISHED', pid=6940),\n",
       " sconn(fd=-1, family=<AddressFamily.AF_INET: 2>, type=1, laddr=addr(ip='127.0.0.1', port=62036), raddr=(), status='LISTEN', pid=8216),\n",
       " sconn(fd=-1, family=<AddressFamily.AF_INET: 2>, type=1, laddr=addr(ip='127.0.0.1', port=61159), raddr=(), status='LISTEN', pid=8540),\n",
       " sconn(fd=-1, family=<AddressFamily.AF_INET: 2>, type=1, laddr=addr(ip='127.0.0.1', port=61187), raddr=addr(ip='127.0.0.1', port=61188), status='ESTABLISHED', pid=8540),\n",
       " sconn(fd=-1, family=<AddressFamily.AF_INET: 2>, type=2, laddr=addr(ip='127.0.0.1', port=49966), raddr=(), status='NONE', pid=3636),\n",
       " sconn(fd=-1, family=<AddressFamily.AF_INET: 2>, type=1, laddr=addr(ip='127.0.0.1', port=62056), raddr=addr(ip='127.0.0.1', port=62057), status='ESTABLISHED', pid=16948),\n",
       " sconn(fd=-1, family=<AddressFamily.AF_INET: 2>, type=1, laddr=addr(ip='127.0.0.1', port=61288), raddr=addr(ip='127.0.0.1', port=61287), status='ESTABLISHED', pid=6940),\n",
       " sconn(fd=-1, family=<AddressFamily.AF_INET: 2>, type=1, laddr=addr(ip='127.0.0.1', port=62278), raddr=addr(ip='127.0.0.1', port=62330), status='ESTABLISHED', pid=2536),\n",
       " sconn(fd=-1, family=<AddressFamily.AF_INET: 2>, type=1, laddr=addr(ip='127.0.0.1', port=62125), raddr=addr(ip='127.0.0.1', port=62124), status='ESTABLISHED', pid=8216),\n",
       " sconn(fd=-1, family=<AddressFamily.AF_INET: 2>, type=1, laddr=addr(ip='127.0.0.1', port=61240), raddr=(), status='LISTEN', pid=6940),\n",
       " sconn(fd=-1, family=<AddressFamily.AF_INET: 2>, type=1, laddr=addr(ip='127.0.0.1', port=62080), raddr=addr(ip='127.0.0.1', port=62079), status='ESTABLISHED', pid=16948),\n",
       " sconn(fd=-1, family=<AddressFamily.AF_INET: 2>, type=1, laddr=addr(ip='127.0.0.1', port=61578), raddr=addr(ip='127.0.0.1', port=61577), status='ESTABLISHED', pid=11272),\n",
       " sconn(fd=-1, family=<AddressFamily.AF_INET: 2>, type=1, laddr=addr(ip='127.0.0.1', port=62295), raddr=addr(ip='127.0.0.1', port=62294), status='ESTABLISHED', pid=2536),\n",
       " sconn(fd=-1, family=<AddressFamily.AF_INET: 2>, type=1, laddr=addr(ip='127.0.0.1', port=61169), raddr=addr(ip='127.0.0.1', port=61168), status='ESTABLISHED', pid=13396),\n",
       " sconn(fd=-1, family=<AddressFamily.AF_INET: 2>, type=1, laddr=addr(ip='127.0.0.1', port=62028), raddr=addr(ip='127.0.0.1', port=62027), status='ESTABLISHED', pid=13396),\n",
       " sconn(fd=-1, family=<AddressFamily.AF_INET: 2>, type=1, laddr=addr(ip='192.168.43.202', port=62755), raddr=addr(ip='3.235.73.123', port=443), status='CLOSE_WAIT', pid=11080),\n",
       " sconn(fd=-1, family=<AddressFamily.AF_INET: 2>, type=1, laddr=addr(ip='127.0.0.1', port=61752), raddr=addr(ip='127.0.0.1', port=61751), status='ESTABLISHED', pid=4076),\n",
       " sconn(fd=-1, family=<AddressFamily.AF_INET: 2>, type=1, laddr=addr(ip='127.0.0.1', port=62027), raddr=addr(ip='127.0.0.1', port=62028), status='ESTABLISHED', pid=13396),\n",
       " sconn(fd=-1, family=<AddressFamily.AF_INET: 2>, type=1, laddr=addr(ip='127.0.0.1', port=62063), raddr=addr(ip='127.0.0.1', port=62062), status='ESTABLISHED', pid=16948),\n",
       " sconn(fd=-1, family=<AddressFamily.AF_INET: 2>, type=1, laddr=addr(ip='127.0.0.1', port=61163), raddr=(), status='LISTEN', pid=8540),\n",
       " sconn(fd=-1, family=<AddressFamily.AF_INET: 2>, type=1, laddr=addr(ip='127.0.0.1', port=62293), raddr=addr(ip='127.0.0.1', port=62292), status='ESTABLISHED', pid=2536),\n",
       " sconn(fd=-1, family=<AddressFamily.AF_INET: 2>, type=1, laddr=addr(ip='192.168.43.202', port=62848), raddr=addr(ip='3.235.73.91', port=443), status='CLOSE_WAIT', pid=1768),\n",
       " sconn(fd=-1, family=<AddressFamily.AF_INET: 2>, type=1, laddr=addr(ip='127.0.0.1', port=61564), raddr=addr(ip='127.0.0.1', port=61565), status='ESTABLISHED', pid=11272),\n",
       " sconn(fd=-1, family=<AddressFamily.AF_INET6: 23>, type=1, laddr=addr(ip='::', port=49666), raddr=(), status='LISTEN', pid=1824),\n",
       " sconn(fd=-1, family=<AddressFamily.AF_INET: 2>, type=1, laddr=addr(ip='127.0.0.1', port=61546), raddr=addr(ip='127.0.0.1', port=61545), status='ESTABLISHED', pid=13396),\n",
       " sconn(fd=-1, family=<AddressFamily.AF_INET: 2>, type=1, laddr=addr(ip='127.0.0.1', port=61586), raddr=addr(ip='127.0.0.1', port=61585), status='ESTABLISHED', pid=11272),\n",
       " sconn(fd=-1, family=<AddressFamily.AF_INET: 2>, type=1, laddr=addr(ip='127.0.0.1', port=62035), raddr=addr(ip='127.0.0.1', port=62135), status='ESTABLISHED', pid=8216),\n",
       " sconn(fd=-1, family=<AddressFamily.AF_INET: 2>, type=1, laddr=addr(ip='127.0.0.1', port=62306), raddr=addr(ip='127.0.0.1', port=62307), status='ESTABLISHED', pid=2536),\n",
       " sconn(fd=-1, family=<AddressFamily.AF_INET: 2>, type=1, laddr=addr(ip='127.0.0.1', port=61173), raddr=addr(ip='127.0.0.1', port=61174), status='ESTABLISHED', pid=13396),\n",
       " sconn(fd=-1, family=<AddressFamily.AF_INET: 2>, type=1, laddr=addr(ip='127.0.0.1', port=61200), raddr=addr(ip='127.0.0.1', port=61199), status='ESTABLISHED', pid=8540),\n",
       " sconn(fd=-1, family=<AddressFamily.AF_INET6: 23>, type=2, laddr=addr(ip='fe80::8c0a:f62c:9ab7:f23c', port=49963), raddr=(), status='NONE', pid=3636),\n",
       " sconn(fd=-1, family=<AddressFamily.AF_INET6: 23>, type=2, laddr=addr(ip='::1', port=49964), raddr=(), status='NONE', pid=3636),\n",
       " sconn(fd=-1, family=<AddressFamily.AF_INET: 2>, type=1, laddr=addr(ip='127.0.0.1', port=61740), raddr=addr(ip='127.0.0.1', port=61739), status='ESTABLISHED', pid=13396),\n",
       " sconn(fd=-1, family=<AddressFamily.AF_INET: 2>, type=1, laddr=addr(ip='127.0.0.1', port=61159), raddr=addr(ip='127.0.0.1', port=61219), status='ESTABLISHED', pid=8540),\n",
       " sconn(fd=-1, family=<AddressFamily.AF_INET: 2>, type=1, laddr=addr(ip='127.0.0.1', port=61215), raddr=addr(ip='127.0.0.1', port=61214), status='ESTABLISHED', pid=8540),\n",
       " sconn(fd=-1, family=<AddressFamily.AF_INET: 2>, type=1, laddr=addr(ip='127.0.0.1', port=62287), raddr=addr(ip='127.0.0.1', port=62278), status='ESTABLISHED', pid=13396),\n",
       " sconn(fd=-1, family=<AddressFamily.AF_INET: 2>, type=1, laddr=addr(ip='127.0.0.1', port=61249), raddr=addr(ip='127.0.0.1', port=61240), status='ESTABLISHED', pid=13396),\n",
       " sconn(fd=-1, family=<AddressFamily.AF_INET: 2>, type=1, laddr=addr(ip='127.0.0.1', port=61773), raddr=addr(ip='127.0.0.1', port=61772), status='ESTABLISHED', pid=4076),\n",
       " sconn(fd=-1, family=<AddressFamily.AF_INET6: 23>, type=1, laddr=addr(ip='2409:4052:78f:81fb:bd4d:d6d1:178d:1519', port=62895), raddr=addr(ip='2606:2800:147:120f:30c:1ba0:fc6:3001', port=80), status='TIME_WAIT', pid=0),\n",
       " sconn(fd=-1, family=<AddressFamily.AF_INET: 2>, type=1, laddr=addr(ip='127.0.0.1', port=62302), raddr=addr(ip='127.0.0.1', port=62303), status='ESTABLISHED', pid=2536),\n",
       " sconn(fd=-1, family=<AddressFamily.AF_INET: 2>, type=1, laddr=addr(ip='127.0.0.1', port=62750), raddr=addr(ip='127.0.0.1', port=62751), status='ESTABLISHED', pid=2536),\n",
       " sconn(fd=-1, family=<AddressFamily.AF_INET: 2>, type=1, laddr=addr(ip='127.0.0.1', port=61174), raddr=addr(ip='127.0.0.1', port=61173), status='ESTABLISHED', pid=13396),\n",
       " sconn(fd=-1, family=<AddressFamily.AF_INET: 2>, type=1, laddr=addr(ip='127.0.0.1', port=61217), raddr=addr(ip='127.0.0.1', port=61218), status='ESTABLISHED', pid=13396),\n",
       " sconn(fd=-1, family=<AddressFamily.AF_INET: 2>, type=1, laddr=addr(ip='127.0.0.1', port=61756), raddr=addr(ip='127.0.0.1', port=61755), status='ESTABLISHED', pid=4076),\n",
       " sconn(fd=-1, family=<AddressFamily.AF_INET: 2>, type=1, laddr=addr(ip='127.0.0.1', port=61787), raddr=addr(ip='127.0.0.1', port=61735), status='ESTABLISHED', pid=13396),\n",
       " sconn(fd=-1, family=<AddressFamily.AF_INET: 2>, type=1, laddr=addr(ip='127.0.0.1', port=61707), raddr=addr(ip='127.0.0.1', port=61706), status='ESTABLISHED', pid=16308),\n",
       " sconn(fd=-1, family=<AddressFamily.AF_INET: 2>, type=1, laddr=addr(ip='127.0.0.1', port=62098), raddr=addr(ip='127.0.0.1', port=62097), status='ESTABLISHED', pid=8216)]"
      ]
     },
     "execution_count": 89,
     "metadata": {},
     "output_type": "execute_result"
    }
   ],
   "source": [
    "psutil.net_connections()"
   ]
  },
  {
   "cell_type": "code",
   "execution_count": 90,
   "metadata": {},
   "outputs": [
    {
     "name": "stdout",
     "output_type": "stream",
     "text": [
      "\n",
      "Windows IP Configuration\n",
      "\n",
      "\n",
      "Ethernet adapter Ethernet:\n",
      "\n",
      "   Media State . . . . . . . . . . . : Media disconnected\n",
      "   Connection-specific DNS Suffix  . : \n",
      "\n",
      "Wireless LAN adapter Local Area Connection* 1:\n",
      "\n",
      "   Media State . . . . . . . . . . . : Media disconnected\n",
      "   Connection-specific DNS Suffix  . : \n",
      "\n",
      "Wireless LAN adapter Local Area Connection* 10:\n",
      "\n",
      "   Media State . . . . . . . . . . . : Media disconnected\n",
      "   Connection-specific DNS Suffix  . : \n",
      "\n",
      "Wireless LAN adapter Wi-Fi:\n",
      "\n",
      "   Connection-specific DNS Suffix  . : \n",
      "   IPv6 Address. . . . . . . . . . . : 2409:4052:78f:81fb:8c0a:f62c:9ab7:f23c\n",
      "   Temporary IPv6 Address. . . . . . : 2409:4052:78f:81fb:bd4d:d6d1:178d:1519\n",
      "   Link-local IPv6 Address . . . . . : fe80::8c0a:f62c:9ab7:f23c%10\n",
      "   IPv4 Address. . . . . . . . . . . : 192.168.43.202\n",
      "   Subnet Mask . . . . . . . . . . . : 255.255.255.0\n",
      "   Default Gateway . . . . . . . . . : fe80::c69f:4cff:fefb:8642%10\n",
      "                                       192.168.43.1\n",
      "\n",
      "Ethernet adapter Bluetooth Network Connection:\n",
      "\n",
      "   Media State . . . . . . . . . . . : Media disconnected\n",
      "   Connection-specific DNS Suffix  . : \n"
     ]
    }
   ],
   "source": [
    "!ipconfig"
   ]
  },
  {
   "cell_type": "code",
   "execution_count": 91,
   "metadata": {},
   "outputs": [],
   "source": [
    "import sys"
   ]
  },
  {
   "cell_type": "code",
   "execution_count": null,
   "metadata": {},
   "outputs": [],
   "source": []
  }
 ],
 "metadata": {
  "kernelspec": {
   "display_name": "Python 3",
   "language": "python",
   "name": "python3"
  },
  "language_info": {
   "codemirror_mode": {
    "name": "ipython",
    "version": 3
   },
   "file_extension": ".py",
   "mimetype": "text/x-python",
   "name": "python",
   "nbconvert_exporter": "python",
   "pygments_lexer": "ipython3",
   "version": "3.6.2"
  }
 },
 "nbformat": 4,
 "nbformat_minor": 2
}
