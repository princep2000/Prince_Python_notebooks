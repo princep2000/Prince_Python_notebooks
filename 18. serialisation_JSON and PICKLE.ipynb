{
 "cells": [
  {
   "cell_type": "code",
   "execution_count": 5,
   "metadata": {},
   "outputs": [],
   "source": []
  },
  {
   "cell_type": "code",
   "execution_count": null,
   "metadata": {},
   "outputs": [],
   "source": []
  },
  {
   "cell_type": "code",
   "execution_count": null,
   "metadata": {},
   "outputs": [],
   "source": []
  },
  {
   "cell_type": "code",
   "execution_count": 17,
   "metadata": {},
   "outputs": [],
   "source": [
    "import os\n",
    "import json\n",
    "import time\n",
    "from getpass import getpass\n",
    "c=1\n",
    "def main():\n",
    "    global c\n",
    "    if c==1:\n",
    "        for i in '***WELCOME TO OUR BANK***'.center(120,' '):\n",
    "            time.sleep(0.02)\n",
    "            print(i,end='')\n",
    "    c+=1\n",
    "    s='''\\n1.Signup\\n2.Login\\n3.Exit'''\n",
    "    print(s)\n",
    "    ch=int(input('Enter Choice from Above: '))\n",
    "    if ch==1:\n",
    "        signup()\n",
    "    elif ch==2:\n",
    "        login()\n",
    "    else:\n",
    "        exit()\n",
    "    \n",
    "def exit():\n",
    "    print('Thanks for using our service')\n",
    "    for i in '..........Exciting..........':\n",
    "        time.sleep(0.08)\n",
    "        print(i,end='')\n",
    "def signup():\n",
    "    path=int(os.listdir()[-1][0:4])+1\n",
    "    d={'Fname':input('Enter Your First Name'),\n",
    "       'Lname':input('Enter your Last Name'),\n",
    "       'Bal':int(input('Enter Minimum balance')),\n",
    "       'Pwd':getpass('Enter Password'),\n",
    "       'Email':input('Enter Email Address')\n",
    "      }\n",
    "    \n",
    "    f=open(f'{path}.json','w')\n",
    "    json.dump(d,f)\n",
    "    f.close()\n",
    "    print('signup Succesfull \\n Your account number is :',path)\n",
    "def login():\n",
    "    acc=input('Enter your account number')\n",
    "    acc=acc+'.json'\n",
    "    if acc in os.listdir():\n",
    "        f=open(f'{acc}')\n",
    "        d=json.load(f)\n",
    "        pwd=getpass('Enter password')\n",
    "        if pwd==d['Pwd']:\n",
    "            print('Login succesful')\n",
    "            print(f\"Hello {d['Fname']}\")\n",
    "        else:\n",
    "            print('Password Mismatch')\n",
    "    else:\n",
    "        print('Account doesn\\'t exist')\n",
    "            \n",
    "        "
   ]
  },
  {
   "cell_type": "code",
   "execution_count": 18,
   "metadata": {},
   "outputs": [
    {
     "name": "stdout",
     "output_type": "stream",
     "text": [
      "                                               ***WELCOME TO OUR BANK***                                                \n",
      "1.Signup\n",
      "2.Login\n",
      "3.Exit\n",
      "Enter Choice from Above: 2\n",
      "Enter your account number1001\n",
      "Enter password········\n",
      "Login succesful\n",
      "Hello Prince Priyadarshi\n"
     ]
    }
   ],
   "source": [
    "main()"
   ]
  },
  {
   "cell_type": "code",
   "execution_count": 21,
   "metadata": {},
   "outputs": [],
   "source": [
    "path=int(os.listdir('Bank/')[-1][0:4])+1"
   ]
  },
  {
   "cell_type": "code",
   "execution_count": null,
   "metadata": {},
   "outputs": [],
   "source": []
  },
  {
   "cell_type": "code",
   "execution_count": 9,
   "metadata": {},
   "outputs": [
    {
     "name": "stdout",
     "output_type": "stream",
     "text": [
      "\n",
      "1.Signup\n",
      "2.Login\n",
      "3.Exit\n",
      "Enter Choice from Above: 1\n",
      "Enter Your First NameSargam\n",
      "Enter your Last Namekumar\n",
      "Enter Minimum balance10000\n",
      "Enter Password········\n",
      "Enter Email Addresssargam@yahoo.com\n",
      "signup Succesfull \n",
      " Your account number is : 1004\n"
     ]
    }
   ],
   "source": [
    "main()\n"
   ]
  },
  {
   "cell_type": "code",
   "execution_count": 10,
   "metadata": {},
   "outputs": [
    {
     "name": "stdout",
     "output_type": "stream",
     "text": [
      "\n",
      "1.Signup\n",
      "2.Login\n",
      "3.Exit\n",
      "Enter Choice from Above: 2\n",
      "Enter your account number1004\n",
      "Enter password········\n",
      "Login succesful\n"
     ]
    }
   ],
   "source": [
    "main()"
   ]
  },
  {
   "cell_type": "code",
   "execution_count": null,
   "metadata": {},
   "outputs": [],
   "source": []
  },
  {
   "cell_type": "code",
   "execution_count": null,
   "metadata": {},
   "outputs": [],
   "source": []
  },
  {
   "cell_type": "code",
   "execution_count": 2,
   "metadata": {},
   "outputs": [
    {
     "name": "stdout",
     "output_type": "stream",
     "text": [
      "E:\\python_grras\\class\\Bank\n"
     ]
    }
   ],
   "source": [
    "cd Bank"
   ]
  },
  {
   "cell_type": "code",
   "execution_count": 15,
   "metadata": {},
   "outputs": [
    {
     "name": "stdout",
     "output_type": "stream",
     "text": [
      "                                               ***WELCOME TO OUR BANK***                                                \n",
      "1.Signup\n",
      "2.Login\n",
      "3.Exit\n",
      "Enter Choice from Above: 2\n",
      "Enter your account number1008\n",
      "Enter password········\n",
      "Login succesful\n",
      "Hello eg\n"
     ]
    }
   ],
   "source": [
    "import os\n",
    "import pickle\n",
    "import time\n",
    "from getpass import getpass\n",
    "c=1\n",
    "def main():\n",
    "    global c\n",
    "    if c==1:\n",
    "        for i in '***WELCOME TO OUR BANK***'.center(120,' '):\n",
    "            time.sleep(0.02)\n",
    "            print(i,end='')\n",
    "    c+=1\n",
    "    s='''\\n1.Signup\\n2.Login\\n3.Exit'''\n",
    "    print(s)\n",
    "    ch=int(input('Enter Choice from Above: '))\n",
    "    if ch==1:\n",
    "        signup()\n",
    "    elif ch==2:\n",
    "        login()\n",
    "    else:\n",
    "        exit()\n",
    "    \n",
    "def exit():\n",
    "    print('Thanks for using our service')\n",
    "    for i in '..........Exciting..........':\n",
    "        time.sleep(0.08)\n",
    "        print(i,end='')\n",
    "def signup():\n",
    "    path=int(os.listdir()[-1][0:4])+1\n",
    "    d={'Fname':input('Enter Your First Name'),\n",
    "       'Lname':input('Enter your Last Name'),\n",
    "       'Bal':int(input('Enter Minimum balance')),\n",
    "       'Pwd':getpass('Enter Password'),\n",
    "       'Email':input('Enter Email Address')\n",
    "      }\n",
    "    \n",
    "    f=open(f'{path}.txt','wb')\n",
    "    pickle.dump(d,f)\n",
    "    f.close()\n",
    "    print('signup Succesfull \\n Your account number is :',path)\n",
    "def login():\n",
    "    acc=input('Enter your account number')\n",
    "    acc=acc+'.txt'\n",
    "    if acc in os.listdir():\n",
    "        f=open(f'{acc}','rb')\n",
    "        d=pickle.load(f)\n",
    "        pwd=getpass('Enter password')\n",
    "        if pwd==d['Pwd']:\n",
    "            print('Login succesful')\n",
    "            print(f\"Hello {d['Fname']}\")\n",
    "        else:\n",
    "            print('Password Mismatch')\n",
    "    else:\n",
    "        print('Account doesn\\'t exist')\n",
    "            \n",
    "main()"
   ]
  },
  {
   "cell_type": "markdown",
   "metadata": {},
   "source": [
    "## pickle.dump()"
   ]
  },
  {
   "cell_type": "code",
   "execution_count": null,
   "metadata": {},
   "outputs": [],
   "source": []
  }
 ],
 "metadata": {
  "kernelspec": {
   "display_name": "Python 3",
   "language": "python",
   "name": "python3"
  },
  "language_info": {
   "codemirror_mode": {
    "name": "ipython",
    "version": 3
   },
   "file_extension": ".py",
   "mimetype": "text/x-python",
   "name": "python",
   "nbconvert_exporter": "python",
   "pygments_lexer": "ipython3",
   "version": "3.6.2"
  }
 },
 "nbformat": 4,
 "nbformat_minor": 2
}
