{
 "cells": [
  {
   "cell_type": "code",
   "execution_count": 1,
   "metadata": {},
   "outputs": [],
   "source": [
    "#Nested If Else\n",
    "#If Else Ladder"
   ]
  },
  {
   "cell_type": "code",
   "execution_count": 3,
   "metadata": {},
   "outputs": [
    {
     "name": "stdout",
     "output_type": "stream",
     "text": [
      "Enter a number13\n",
      "x is not avialable in table of 2\n"
     ]
    }
   ],
   "source": [
    "x=int(input('Enter a number'))\n",
    "\n",
    "y=range(2,21,2)\n",
    "\n",
    "if x in list(y):\n",
    "    print('x is avialable in table of 2')\n",
    "else:\n",
    "    print('x is not avialable in table of 2')"
   ]
  },
  {
   "cell_type": "code",
   "execution_count": 14,
   "metadata": {},
   "outputs": [],
   "source": [
    "arith=['+','-','*','/','//','%']\n",
    "rel=['<','>','<=','>=','==']\n",
    "log=['and','or','not']\n",
    "bit=['&','|','^','~','<<','>>']\n",
    "assign=['+=','-=','*=','/=','//=','%=','==']\n",
    "ident=['in','not in','is','is not']"
   ]
  },
  {
   "cell_type": "code",
   "execution_count": 18,
   "metadata": {},
   "outputs": [
    {
     "name": "stdout",
     "output_type": "stream",
     "text": [
      "Enter any operator symbolnot in\n",
      "Identity OPerator\n"
     ]
    }
   ],
   "source": [
    "opr=input('Enter any operator symbol')\n",
    "\n",
    "if opr in arith:\n",
    "    print('Arithmatic Operator')\n",
    "elif opr in rel:\n",
    "    print('Relational Operator')\n",
    "elif opr in log:\n",
    "    print('Logical Operator')\n",
    "elif opr in bit:\n",
    "    print('Bit wise operator')\n",
    "elif opr in assign:\n",
    "    print('Assignment Operator')\n",
    "elif opr in ident:\n",
    "    print('Identity OPerator')\n",
    "    \n",
    "else:\n",
    "    print('Invalid Operator Symbol')"
   ]
  },
  {
   "cell_type": "code",
   "execution_count": 19,
   "metadata": {},
   "outputs": [],
   "source": [
    "x,y,z=1,2,3"
   ]
  },
  {
   "cell_type": "code",
   "execution_count": 20,
   "metadata": {},
   "outputs": [
    {
     "data": {
      "text/plain": [
       "1"
      ]
     },
     "execution_count": 20,
     "metadata": {},
     "output_type": "execute_result"
    }
   ],
   "source": [
    "x"
   ]
  },
  {
   "cell_type": "code",
   "execution_count": 21,
   "metadata": {},
   "outputs": [
    {
     "data": {
      "text/plain": [
       "2"
      ]
     },
     "execution_count": 21,
     "metadata": {},
     "output_type": "execute_result"
    }
   ],
   "source": [
    "y"
   ]
  },
  {
   "cell_type": "code",
   "execution_count": 22,
   "metadata": {},
   "outputs": [
    {
     "data": {
      "text/plain": [
       "3"
      ]
     },
     "execution_count": 22,
     "metadata": {},
     "output_type": "execute_result"
    }
   ],
   "source": [
    "z"
   ]
  },
  {
   "cell_type": "code",
   "execution_count": 26,
   "metadata": {},
   "outputs": [
    {
     "name": "stdout",
     "output_type": "stream",
     "text": [
      "3\n",
      "8\n",
      "6\n",
      "8 is maximum\n"
     ]
    }
   ],
   "source": [
    "x,y,z=int(input()),int(input()),int(input())\n",
    "\n",
    "if x>y and x>z:\n",
    "    print(f\"{x} is maximum\")\n",
    "elif y>z:\n",
    "    print(f\"{y} is maximum\")\n",
    "else:\n",
    "    print(f\"{z} is maximum\")"
   ]
  },
  {
   "cell_type": "code",
   "execution_count": 30,
   "metadata": {},
   "outputs": [
    {
     "name": "stdout",
     "output_type": "stream",
     "text": [
      "Enter a number49\n",
      "49 is not divisible by 5 and 7 both\n"
     ]
    }
   ],
   "source": [
    "x=int(input('Enter a number'))\n",
    "\n",
    "if x%5==0 and x%7==0:\n",
    "    print(f\"{x} is divisible by  5 and 7 both\")\n",
    "else:\n",
    "    print(f\"{x} is not divisible by 5 or 7 both\")"
   ]
  },
  {
   "cell_type": "code",
   "execution_count": 34,
   "metadata": {},
   "outputs": [
    {
     "name": "stdout",
     "output_type": "stream",
     "text": [
      "Enter a number49\n",
      "49 is divisible by  5 or 7 or both\n"
     ]
    }
   ],
   "source": [
    "x=int(input('Enter a number'))\n",
    "\n",
    "if x%5==0 or x%7==0:\n",
    "    print(f\"{x} is divisible by  5 or 7 or both\")\n",
    "else:\n",
    "    print(f\"{x} is not divisible by 5 and 7 both\")"
   ]
  },
  {
   "cell_type": "code",
   "execution_count": 37,
   "metadata": {},
   "outputs": [
    {
     "name": "stdout",
     "output_type": "stream",
     "text": [
      "9\n",
      "8\n",
      "7\n",
      "9 is maximum\n"
     ]
    }
   ],
   "source": [
    "x,y,z=int(input()),int(input()),int(input())\n",
    "\n",
    "if x>y:\n",
    "    if x>z:\n",
    "        print(f\"{x} is maximum\")\n",
    "    else:\n",
    "        print(f\"{z} is maximum\")\n",
    "else:\n",
    "    if y>z:\n",
    "        print(f\"{y} is maximum\")\n",
    "    else:\n",
    "        print(f\"{z} is maximum\")"
   ]
  },
  {
   "cell_type": "code",
   "execution_count": 38,
   "metadata": {},
   "outputs": [],
   "source": [
    "d={1001:{'Name':'Sachin','Bal':10000,'Pwd':'redhat@123'}}"
   ]
  },
  {
   "cell_type": "code",
   "execution_count": 42,
   "metadata": {},
   "outputs": [
    {
     "name": "stdout",
     "output_type": "stream",
     "text": [
      "Enter account number1001\n",
      "Enter Passwordredhat\n",
      "Invalid Password\n"
     ]
    }
   ],
   "source": [
    "acc=int(input('Enter account number'))\n",
    "if acc in d:\n",
    "    pwd=input('Enter Password')\n",
    "    if pwd==d[acc]['Pwd']:\n",
    "        print('Login')\n",
    "    else:\n",
    "        print('Invalid Password')\n",
    "else:\n",
    "    print('Account not exist')"
   ]
  },
  {
   "cell_type": "code",
   "execution_count": 44,
   "metadata": {},
   "outputs": [
    {
     "name": "stdout",
     "output_type": "stream",
     "text": [
      "Enter any stringhello worlds\n",
      "sdlrow olleh\n"
     ]
    }
   ],
   "source": [
    "s=input('Enter any string')\n",
    "\n",
    "if len(s)%4==0:\n",
    "    print(s[::-1])\n",
    "else:\n",
    "    print(s)"
   ]
  },
  {
   "cell_type": "raw",
   "metadata": {},
   "source": [
    "#Restaurent------>Home Delivery Aviable\n",
    "                  Vage Thali---->120\n",
    "                  Non-Vage------>150\n",
    "                  \n",
    "                 distance----> 0-3 km delivery is free\n",
    "                               4-6 km delivery is 3/km\n",
    "                               7-10 km deivery is 5/km\n",
    "                               \n",
    "                               \n",
    "                 if distance is more than 10 km than delivery is not avialable\n",
    "                 "
   ]
  },
  {
   "cell_type": "code",
   "execution_count": 49,
   "metadata": {},
   "outputs": [
    {
     "name": "stdout",
     "output_type": "stream",
     "text": [
      "Enter Thali in [N,V]V\n",
      "Enter the quantity of thali3\n",
      "Enter distance from restaurent0\n",
      "Invalid Input\n"
     ]
    }
   ],
   "source": [
    "t=input('Enter Thali in [N,V]').upper()\n",
    "qt=int(input('Enter the quantity of thali'))\n",
    "dis=int(input('Enter distance from restaurent'))\n",
    "\n",
    "if t in ['N','V'] and qt>0 and dis>0:\n",
    "    if t=='N':\n",
    "        price=qt*150\n",
    "        \n",
    "    else:\n",
    "        price=qt*120\n",
    "        \n",
    "    if dis<=3:\n",
    "        final_price=price\n",
    "        print('Total Amount: ',final_price)\n",
    "    elif dis<=6:\n",
    "        final_price=price+(dis-3)*3\n",
    "        print('Total Amount: ',final_price)\n",
    "    elif dis<=10:\n",
    "        final_price=price+(dis-6)*5+3*3+0\n",
    "        print('Total Amount: ',final_price)\n",
    "    else:\n",
    "        print('Delivery is not avialable at your location')\n",
    "else:\n",
    "    print('Invalid Input')"
   ]
  },
  {
   "cell_type": "code",
   "execution_count": 50,
   "metadata": {},
   "outputs": [],
   "source": [
    "#Given a date and will show next date of a given date"
   ]
  },
  {
   "cell_type": "code",
   "execution_count": 13,
   "metadata": {},
   "outputs": [
    {
     "name": "stdout",
     "output_type": "stream",
     "text": [
      "Enter date in dd/mm/yyyy format28/2/2021\n",
      "Next Date:  1-3-2021\n"
     ]
    }
   ],
   "source": [
    "date=input('Enter date in dd/mm/yyyy format')\n",
    "\n",
    "date=date.split('/')\n",
    "\n",
    "day=int(date[0])\n",
    "month=int(date[1])\n",
    "year=int(date[2])\n",
    "\n",
    "\n",
    "if month==2 and year%4==0:\n",
    "    if day>0 and day<30:\n",
    "        if day==29:\n",
    "            day=1\n",
    "            month+=1\n",
    "        else:\n",
    "            day+=1\n",
    "    else:\n",
    "        print('Invalid Date')\n",
    "        \n",
    "elif month==2 and year%4!=0:\n",
    "    if day>0 and day <29:\n",
    "        if day==28:\n",
    "            day=1\n",
    "            month+=1\n",
    "        else:\n",
    "            day+=1\n",
    "            \n",
    "    else:\n",
    "        print('Invalid Date')\n",
    "        \n",
    "elif month in [4,6,9,11]:\n",
    "    if day>0 and day<31:\n",
    "        if day==30:\n",
    "            day=1\n",
    "            month+=1\n",
    "        else:\n",
    "            day+=1\n",
    "    else:\n",
    "        print('Invalid Date')\n",
    "        \n",
    "elif month in [1,3,5,7,8,10]:\n",
    "    if day>0 and day<32:\n",
    "        if day==31:\n",
    "            day=1\n",
    "            month+=1\n",
    "        else:\n",
    "            day+=1\n",
    "    else:\n",
    "        print('Invalid Date')\n",
    "\n",
    "elif month==12:\n",
    "    if day>1 and day<32:\n",
    "        if day==31:\n",
    "            day=1\n",
    "            month=1\n",
    "            year+=1\n",
    "        else:\n",
    "            day+=1\n",
    "    else:\n",
    "        print('Invalid Input')\n",
    "        \n",
    "else:\n",
    "    print('Invaild Month')\n",
    "x=str(day)+'-'+str(month)+'-'+str(year)    \n",
    "print('Next Date: ',x)"
   ]
  },
  {
   "cell_type": "code",
   "execution_count": 14,
   "metadata": {},
   "outputs": [],
   "source": [
    "#31---->day=1\n",
    "#month=1"
   ]
  },
  {
   "cell_type": "code",
   "execution_count": 15,
   "metadata": {},
   "outputs": [],
   "source": [
    "#supermarket----->bill"
   ]
  },
  {
   "cell_type": "code",
   "execution_count": 16,
   "metadata": {},
   "outputs": [],
   "source": [
    "#if total bill is less than 1000 than no discount\n",
    "#If >1000 and 5000 discount is 7%\n",
    "#If >5000 and 10000 discount 10%\n",
    "# IF >10000 discount 15%"
   ]
  },
  {
   "cell_type": "code",
   "execution_count": 19,
   "metadata": {},
   "outputs": [
    {
     "name": "stdout",
     "output_type": "stream",
     "text": [
      "Enter your nameSamyak\n",
      "Enter the total bill amount12000\n",
      "Total Bill:  12000\n",
      "Bill After Discount:  10200.0\n"
     ]
    }
   ],
   "source": [
    "name=input('Enter your name')\n",
    "total_bill=int(input('Enter the total bill amount'))\n",
    "\n",
    "if total_bill>1000 and total_bill<5000:\n",
    "    tb=total_bill-(total_bill*7)/100\n",
    "elif total_bill<10000:\n",
    "    tb=total_bill-(total_bill*10)/100\n",
    "else:\n",
    "    tb=total_bill-(total_bill*15)/100\n",
    "    \n",
    "print('Total Bill: ',total_bill)\n",
    "\n",
    "print('Bill After Discount: ',tb)"
   ]
  },
  {
   "cell_type": "code",
   "execution_count": 20,
   "metadata": {},
   "outputs": [],
   "source": [
    "#Pay BIlll----> in ruppess 1 and 5"
   ]
  },
  {
   "cell_type": "code",
   "execution_count": 21,
   "metadata": {},
   "outputs": [],
   "source": [
    "#number of five ruppee coins\n",
    "#number of one ruppess coins\n",
    "\n",
    "#28------>Minimum Number of Coins should pay"
   ]
  },
  {
   "cell_type": "code",
   "execution_count": 22,
   "metadata": {},
   "outputs": [],
   "source": [
    "#28----->5---->4,1--->10\n",
    "#28----->5---->6,1--->5\n",
    "#28----->5---->6,1---->2(Exact Change is not possible)"
   ]
  },
  {
   "cell_type": "code",
   "execution_count": 23,
   "metadata": {},
   "outputs": [],
   "source": [
    "#Minimum 5 five test cases check"
   ]
  },
  {
   "cell_type": "code",
   "execution_count": 24,
   "metadata": {},
   "outputs": [],
   "source": [
    "#Total Bill----->46\n",
    "\n",
    "\n",
    "#NUmber of 5 coins---->8\n",
    "#number of 1 coins---->10\n",
    "\n",
    "\n",
    "#8*5---->40\n",
    "#1*6---->46"
   ]
  },
  {
   "cell_type": "code",
   "execution_count": 25,
   "metadata": {},
   "outputs": [],
   "source": [
    "#Total Money in Indian Rupess"
   ]
  },
  {
   "cell_type": "code",
   "execution_count": 26,
   "metadata": {},
   "outputs": [],
   "source": [
    "#Second Input----->Austrian Dollar\n",
    "#US Dollar\n",
    "#Pounds\n",
    "#euro"
   ]
  },
  {
   "cell_type": "code",
   "execution_count": 27,
   "metadata": {},
   "outputs": [],
   "source": [
    "#Looping/Iteration"
   ]
  },
  {
   "cell_type": "code",
   "execution_count": 4,
   "metadata": {},
   "outputs": [
    {
     "name": "stdout",
     "output_type": "stream",
     "text": [
      "Enter Indian Rupees to convert100\n",
      "In which currency do you want to convert (select from 1,2,3,4) \n",
      " 1.Austrillian dollar \n",
      " 2.Us dollar \n",
      " 3.Pounds \n",
      " 4.Euro \n",
      "4\n",
      "Euro :  8523.0\n"
     ]
    }
   ],
   "source": [
    "r=float(input('Enter Indian Rupees to convert'))\n",
    "i=int(input(\"In which currency do you want to convert (select from 1,2,3,4) \\n 1.Austrillian dollar \\n 2.Us dollar \\n 3.Pounds \\n 4.Euro \\n\"))\n",
    "if i==1:\n",
    "    r *=52.12\n",
    "    print(\"Austrillian dollar : \",+r)\n",
    "elif i==2:\n",
    "    r *=76.25\n",
    "    print(\"us dollar : \",+r)\n",
    "elif i==3:\n",
    "    r *=94.16\n",
    "    print(\"Pounds : \",+r)\n",
    "elif i==4:\n",
    "    r *=85.23\n",
    "    print(\"Euro : \",+r)\n",
    "else:\n",
    "    print(\"Invalid Input\")"
   ]
  },
  {
   "cell_type": "code",
   "execution_count": 13,
   "metadata": {},
   "outputs": [
    {
     "name": "stdout",
     "output_type": "stream",
     "text": [
      "7\n"
     ]
    }
   ],
   "source": [
    "str1 = \"my isname isisis jameis isis bond\";\n",
    "sub = \"is\";\n",
    "print(str1.count(sub,1))"
   ]
  },
  {
   "cell_type": "code",
   "execution_count": 14,
   "metadata": {},
   "outputs": [
    {
     "ename": "TypeError",
     "evalue": "count() takes at least 1 argument (0 given)",
     "output_type": "error",
     "traceback": [
      "\u001b[1;31m---------------------------------------------------------------------------\u001b[0m",
      "\u001b[1;31mTypeError\u001b[0m                                 Traceback (most recent call last)",
      "\u001b[1;32m<ipython-input-14-fc4ed21410cb>\u001b[0m in \u001b[0;36m<module>\u001b[1;34m\u001b[0m\n\u001b[1;32m----> 1\u001b[1;33m \u001b[0mhelp\u001b[0m\u001b[1;33m(\u001b[0m\u001b[0mstr1\u001b[0m\u001b[1;33m.\u001b[0m\u001b[0mcount\u001b[0m\u001b[1;33m(\u001b[0m\u001b[1;33m)\u001b[0m\u001b[1;33m)\u001b[0m\u001b[1;33m\u001b[0m\u001b[0m\n\u001b[0m",
      "\u001b[1;31mTypeError\u001b[0m: count() takes at least 1 argument (0 given)"
     ]
    }
   ],
   "source": [
    "help(str1.count())"
   ]
  },
  {
   "cell_type": "code",
   "execution_count": null,
   "metadata": {},
   "outputs": [],
   "source": []
  }
 ],
 "metadata": {
  "kernelspec": {
   "display_name": "Python 3",
   "language": "python",
   "name": "python3"
  },
  "language_info": {
   "codemirror_mode": {
    "name": "ipython",
    "version": 3
   },
   "file_extension": ".py",
   "mimetype": "text/x-python",
   "name": "python",
   "nbconvert_exporter": "python",
   "pygments_lexer": "ipython3",
   "version": "3.6.2"
  }
 },
 "nbformat": 4,
 "nbformat_minor": 2
}
