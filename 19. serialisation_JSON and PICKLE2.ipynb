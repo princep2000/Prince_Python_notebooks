{
 "cells": [
  {
   "cell_type": "code",
   "execution_count": 3,
   "metadata": {},
   "outputs": [],
   "source": [
    "\n"
   ]
  },
  {
   "cell_type": "code",
   "execution_count": 2,
   "metadata": {},
   "outputs": [],
   "source": [
    "os.mkdir('Bank/')"
   ]
  },
  {
   "cell_type": "code",
   "execution_count": 5,
   "metadata": {},
   "outputs": [
    {
     "name": "stdout",
     "output_type": "stream",
     "text": [
      "Enter Your First NameSamyak\n",
      "Enter your Last NameJain\n",
      "Enter Minimum balance10000\n",
      "Enter Password········\n",
      "Enter Email Addresssamyak@grras.com\n",
      "Enter Your First Namesachin\n",
      "Enter your Last Nameyadav\n",
      "Enter Minimum balance20000\n",
      "Enter Password········\n",
      "Enter Email Addresssachin@grras.com\n",
      "Enter Your First NameRajat\n",
      "Enter your Last NameGoyal\n",
      "Enter Minimum balance30000\n",
      "Enter Password········\n",
      "Enter Email Addressg.rajat@grras.com\n"
     ]
    }
   ],
   "source": [
    "for acc in range(1001,1004):\n",
    "    d={'Fname':input('Enter Your First Name'),\n",
    "       'Lname':input('Enter your Last Name'),\n",
    "       'Bal':int(input('Enter Minimum balance')),\n",
    "       'Pwd':getpass('Enter Password'),\n",
    "       'Email':input('Enter Email Address')\n",
    "      }\n",
    "    \n",
    "    f=open(f'Bank/{acc}.json','w')\n",
    "    json.dump(d,f)\n",
    "    f.close()"
   ]
  },
  {
   "cell_type": "code",
   "execution_count": 33,
   "metadata": {},
   "outputs": [],
   "source": [
    "import os\n",
    "import json\n",
    "import time\n",
    "from getpass import getpass\n",
    "\n",
    "c=1\n",
    "def main():\n",
    "    global c\n",
    "    if c==1:\n",
    "        fp=open('log.txt','a')\n",
    "        s=f\"\\n{time.strftime('%d-%m-%Y')}\\t\\t{time.strftime('%H:%M:%S')}\\t\\tApplication Start\"\n",
    "        fp.write(s)\n",
    "        fp.close()\n",
    "        for i in '***WELCOME TO OUR BANK***'.center(120,' '):\n",
    "            time.sleep(0.02)\n",
    "            print(i,end='')\n",
    "    c+=1\n",
    "    s='''\\n1.Signup\\n2.Login\\n3.Exit'''\n",
    "    print(s)\n",
    "    ch=int(input('Enter Choice from Above: '))\n",
    "    if ch==1:\n",
    "        signup()\n",
    "    elif ch==2:\n",
    "        login()\n",
    "    else:\n",
    "        exit()\n",
    "    \n",
    "def exit():\n",
    "    fp=open('log.txt','a')\n",
    "    s=f\"\\n{time.strftime('%d-%m-%Y')}\\t\\t{time.strftime('%H:%M:%S')}\\t\\tApplication Closed\"\n",
    "    fp.write(s)\n",
    "    fp.close()\n",
    "    print('Thanks for using our service')\n",
    "    for i in '..........Exciting..........':\n",
    "        time.sleep(0.08)\n",
    "        print(i,end='')\n",
    "def signup():\n",
    "    fp=open('log.txt','a')\n",
    "    s=f\"\\n{time.strftime('%d-%m-%Y')}\\t\\t{time.strftime('%H:%M:%S')}\\t\\tRequest For Signup\"\n",
    "    fp.write(s)\n",
    "    fp.close()\n",
    "    d={'Fname':input('Enter Your First Name'),\n",
    "       'Lname':input('Enter your Last Name'),\n",
    "       'Bal':int(input('Enter Minimum balance')),\n",
    "       'Pwd':getpass('Enter Password'),\n",
    "       'Email':input('Enter Email Address')\n",
    "      }\n",
    "    \n",
    "    last_acc=int(os.listdir('Bank')[-1][0:4])+1\n",
    "    f=open(f'Bank/{last_acc}.json','w')\n",
    "    json.dump(d,f)\n",
    "    f.close()\n",
    "    print('Signup Successfull')\n",
    "    fp=open('log.txt','a')\n",
    "    s=f\"\\n{time.strftime('%d-%m-%Y')}\\t\\t{time.strftime('%H:%M:%S')}\\t\\tAccount Created for Account Number: {last_acc}\"\n",
    "    fp.write(s)\n",
    "    fp.close()\n",
    "    print('Your Account Details is: \\n')\n",
    "    print('Account Number: ',last_acc)\n",
    "    for key,value in d.items():\n",
    "        print(f\"{key}:{value :>10}\")\n",
    "    print('Now You can Login')\n",
    "    main()\n",
    "    \n",
    "    \n",
    "def login():\n",
    "    print('this is login page')\n",
    "    acc=input('Enter Account Number: ')\n",
    "    path=acc+'.json'\n",
    "    if path in os.listdir('Bank/'):\n",
    "        f=open(f'Bank/{path}')\n",
    "        data=json.load(f)\n",
    "        f.close()\n",
    "        pwd=getpass('Enter Account Password')\n",
    "        if pwd==data['Pwd']:\n",
    "            fp=open('log.txt','a')\n",
    "            s=f\"\\n{time.strftime('%d-%m-%Y')}\\t\\t{time.strftime('%H:%M:%S')}\\t\\tLogin for Account: {acc}\"\n",
    "            fp.write(s)\n",
    "            fp.close()\n",
    "            s='''1.Debit\\n2.Credit\\n3.Check Balance\\n4.Update Password\\n5.Logout'''\n",
    "            print(s)\n",
    "            ch=int(input('Enter choice from above: '))\n",
    "            if ch==1:\n",
    "                debit(acc,pwd)\n",
    "            elif ch==2:\n",
    "                credit(acc,pwd)\n",
    "            elif ch==3:\n",
    "                check_bal(acc,pwd)\n",
    "            elif ch==4:\n",
    "                update_pwd(acc,pwd)\n",
    "            else:\n",
    "                main()\n",
    "        else:\n",
    "            print('Invalid Password')\n",
    "            fp=open('log.txt','a')\n",
    "            s=f\"\\n{time.strftime('%d-%m-%Y')}\\t\\t{time.strftime('%H:%M:%S')}\\t\\tLogin Falied due to Invaild Password for Acc: {acc}\"\n",
    "            fp.write(s)\n",
    "            fp.close()\n",
    "            login()\n",
    "    else:\n",
    "        fp=open('log.txt','a')\n",
    "        s=f\"\\n{time.strftime('%d-%m-%Y')}\\t\\t{time.strftime('%H:%M:%S')}\\t\\tLogin Failed Due to Incorrect Account number\"\n",
    "        fp.write(s)\n",
    "        fp.close()\n",
    "        print('Account Does not Exist')\n",
    "        main()\n",
    "        \n",
    "        \n",
    "        \n",
    "        \n",
    "def debit(acc,pwd):\n",
    "    f=open(f'Bank/{acc}.json')\n",
    "    data=json.load(f)#\n",
    "    f.close()\n",
    "    bal=int(input('Enter Amount which you want to withdrawl'))\n",
    "    if bal<data['Bal']:\n",
    "        f=open(f'Bank/{acc}.json','w')\n",
    "        data['Bal']-=bal\n",
    "        json.dump(data,f)\n",
    "        f.close()\n",
    "        print('Debit Successfull')\n",
    "        fp=open('log.txt','a')\n",
    "        s=f\"\\n{time.strftime('%d-%m-%Y')}\\t\\t{time.strftime('%H:%M:%S')}\\t\\tDebit Successfull for Acc: {acc}\"\n",
    "        fp.write(s)\n",
    "        fp.close()\n",
    "        main()\n",
    "    else:\n",
    "        print('Insufficient Balance Amount')\n",
    "        fp=open('log.txt','a')\n",
    "        s=f\"\\n{time.strftime('%d-%m-%Y')}\\t\\t{time.strftime('%H:%M:%S')}\\t\\tWithdrwal Failed Due To Insufficient Account Number\"\n",
    "        fp.write(s)\n",
    "        fp.close()\n",
    "        main()\n",
    "        \n",
    "def credit(acc,pwd):\n",
    "    f=open(f'Bank/{acc}.json')\n",
    "    data=json.load(f)\n",
    "    bal=int(input('Enter Amount which you want to deposit'))\n",
    "    f=open(f'Bank/{acc}.json','w+')\n",
    "    data['Bal']+=bal\n",
    "    json.dump(data,f)\n",
    "    f.close()\n",
    "    print('Credit Successfull')\n",
    "    fp=open('log.txt','a')\n",
    "    s=f\"\\n{time.strftime('%d-%m-%Y')}\\t\\t{time.strftime('%H:%M:%S')}\\t\\tDeposit Successfull\"\n",
    "    fp.write(s)\n",
    "    fp.close()\n",
    "    main()\n",
    "    \n",
    "def check_bal(acc,pwd):\n",
    "    f=open(f'Bank/{acc}.json')\n",
    "    data=json.load(f)\n",
    "    print(f\"Account Balance: {data['Bal']}\")\n",
    "    fp=open('log.txt','a')\n",
    "    s=f\"\\n{time.strftime('%d-%m-%Y')}\\t\\t{time.strftime('%H:%M:%S')}\\t\\tBalance Check For Account Number: {acc}\"\n",
    "    fp.write(s)\n",
    "    fp.close()\n",
    "    main()\n",
    "          \n",
    "          \n",
    "def update_pwd(acc,pwd):\n",
    "    f=open(f'Bank/{acc}.json')\n",
    "    data=json.load(f)\n",
    "    pass1=getpass('Enter New Password')\n",
    "    pass2=input('Confirm Password')\n",
    "    if pass1==pass2:\n",
    "        data['Pwd']=pass1\n",
    "        f=open(f'Bank/{acc}.json','w')\n",
    "        json.dump(data,f)\n",
    "        f.close()\n",
    "        print('Password Updated Successfully')\n",
    "        fp=open('log.txt','a')\n",
    "        s=f\"\\n{time.strftime('%d-%m-%Y')}\\t\\t{time.strftime('%H:%M:%S')}\\t\\tPassword Chaged For Acc: {acc}\"\n",
    "        fp.write(s)\n",
    "        fp.close()\n",
    "        main()\n",
    "    else:\n",
    "        print('Password not Matched')\n",
    "        fp=open('log.txt','a')\n",
    "        s=f\"\\n{time.strftime('%d-%m-%Y')}\\t\\t{time.strftime('%H:%M:%S')}\\t\\tUpdate Password Failed Due to Incorrect Password for Acc: {acc}\"\n",
    "        fp.write(s)\n",
    "        fp.close()\n",
    "        login()"
   ]
  },
  {
   "cell_type": "code",
   "execution_count": 34,
   "metadata": {},
   "outputs": [
    {
     "name": "stdout",
     "output_type": "stream",
     "text": [
      "                                               ***WELCOME TO OUR BANK***                                                \n",
      "1.Signup\n",
      "2.Login\n",
      "3.Exit\n",
      "Enter Choice from Above: 2\n",
      "this is login page\n",
      "Enter Account Number: 1003\n",
      "Enter Account Password········\n",
      "1.Debit\n",
      "2.Credit\n",
      "3.Check Balance\n",
      "4.Update Password\n",
      "5.Logout\n",
      "Enter choice from above: 3\n",
      "Account Balance: 30000\n",
      "\n",
      "1.Signup\n",
      "2.Login\n",
      "3.Exit\n",
      "Enter Choice from Above: 3\n",
      "Thanks for using our service\n",
      "..........Exciting.........."
     ]
    }
   ],
   "source": [
    "main()"
   ]
  },
  {
   "cell_type": "code",
   "execution_count": 35,
   "metadata": {},
   "outputs": [
    {
     "name": "stdout",
     "output_type": "stream",
     "text": [
      "                                                     ***Log File***                                                     \n",
      "Date\t\tTime\t\tDetail\n",
      "02-07-2020\t\t21:18:23\t\tApplication Start\n",
      "02-07-2020\t\t21:18:38\t\tRequest For Signup\n",
      "02-07-2020\t\t21:18:59\t\tAccount Created for Account Number: 1005\n",
      "02-07-2020\t\t21:20:32\t\tApplication Start\n",
      "02-07-2020\t\t21:20:46\t\tLogin for Account: 1003\n",
      "02-07-2020\t\t21:20:51\t\tBalance Check For Account Number: 1003\n",
      "02-07-2020\t\t21:20:53\t\tApplication Closed\n"
     ]
    }
   ],
   "source": [
    "!type log.txt"
   ]
  },
  {
   "cell_type": "code",
   "execution_count": 36,
   "metadata": {},
   "outputs": [],
   "source": [
    "f=open('log.txt')\n",
    "\n",
    "data=f.read()"
   ]
  },
  {
   "cell_type": "code",
   "execution_count": 39,
   "metadata": {},
   "outputs": [
    {
     "name": "stdout",
     "output_type": "stream",
     "text": [
      "02-07-2020\t\t21:18:23\t\tApplication Start\n",
      "02-07-2020\t\t21:18:38\t\tRequest For Signup\n",
      "02-07-2020\t\t21:18:59\t\tAccount Created for Account Number: 1005\n",
      "02-07-2020\t\t21:20:32\t\tApplication Start\n",
      "02-07-2020\t\t21:20:46\t\tLogin for Account: 1003\n",
      "02-07-2020\t\t21:20:51\t\tBalance Check For Account Number: 1003\n",
      "02-07-2020\t\t21:20:53\t\tApplication Closed\n"
     ]
    }
   ],
   "source": [
    "for i in data.split('\\n')[2:]:\n",
    "    print(i)"
   ]
  },
  {
   "cell_type": "code",
   "execution_count": 40,
   "metadata": {},
   "outputs": [],
   "source": [
    "#r--->rb\n",
    "#w---->wb"
   ]
  },
  {
   "cell_type": "code",
   "execution_count": 41,
   "metadata": {},
   "outputs": [],
   "source": [
    "#pickle--->json"
   ]
  },
  {
   "cell_type": "code",
   "execution_count": 43,
   "metadata": {},
   "outputs": [],
   "source": [
    "from IPython.display import Image"
   ]
  },
  {
   "cell_type": "code",
   "execution_count": 45,
   "metadata": {},
   "outputs": [
    {
     "data": {
      "image/jpeg": "[encoded data removed]",
      "text/plain": [
       "<IPython.core.display.Image object>"
      ]
     },
     "execution_count": 45,
     "metadata": {},
     "output_type": "execute_result"
    }
   ],
   "source": [
    "Image('download.jpg')"
   ]
  },
  {
   "cell_type": "code",
   "execution_count": null,
   "metadata": {},
   "outputs": [],
   "source": []
  }
 ],
 "metadata": {
  "kernelspec": {
   "display_name": "Python 3",
   "language": "python",
   "name": "python3"
  },
  "language_info": {
   "codemirror_mode": {
    "name": "ipython",
    "version": 3
   },
   "file_extension": ".py",
   "mimetype": "text/x-python",
   "name": "python",
   "nbconvert_exporter": "python",
   "pygments_lexer": "ipython3",
   "version": "3.6.2"
  }
 },
 "nbformat": 4,
 "nbformat_minor": 2
}
